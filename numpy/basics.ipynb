{
 "cells": [
  {
   "cell_type": "code",
   "execution_count": 1,
   "metadata": {
    "pycharm": {
     "name": "#%%\n"
    },
    "tags": []
   },
   "outputs": [
    {
     "data": {
      "text/plain": "'1.19.5'"
     },
     "execution_count": 1,
     "metadata": {},
     "output_type": "execute_result"
    }
   ],
   "source": [
    "import numpy as np\n",
    "from numpy import linalg\n",
    "from scipy import special\n",
    "from numba import vectorize\n",
    "\n",
    "np.__version__"
   ]
  },
  {
   "cell_type": "markdown",
   "metadata": {
    "pycharm": {
     "name": "#%% md\n"
    }
   },
   "source": [
    "### 1 CREATING"
   ]
  },
  {
   "cell_type": "code",
   "execution_count": 2,
   "metadata": {
    "pycharm": {
     "name": "#%%\n"
    }
   },
   "outputs": [
    {
     "name": "stdout",
     "output_type": "stream",
     "text": [
      "[[ 1  2  3]\n",
      " [-3 -2 -1]]\n",
      "[[2 0 4]\n",
      " [0 4 0]\n",
      " [4 0 6]] \n",
      "\n",
      "[[0. 0. 0. 0. 0.]\n",
      " [0. 0. 0. 0. 0.]]\n",
      "[[[1 1 1]\n",
      "  [1 1 1]]\n",
      "\n",
      " [[1 1 1]\n",
      "  [1 1 1]]]\n",
      "[[3.142 3.142 3.142]\n",
      " [3.142 3.142 3.142]]\n",
      "[[2 2 2]\n",
      " [2 2 2]] \n",
      "\n",
      "[ 0  2  4  6  8 10 12 14 16 18]\n",
      "[0.   0.25 0.5  0.75 1.  ] \n",
      "\n",
      "[[0.04480115 0.65282645 0.40785828]\n",
      " [0.9462745  0.13279199 0.70492652]\n",
      " [0.85179335 0.80360576 0.37856619]]\n",
      "[[1.48033687 1.76039623 1.82757341]\n",
      " [1.8686464  1.44845512 1.14679546]\n",
      " [1.69053687 1.29941347 1.94706522]]\n",
      "[[-0.18612212 -1.29067034]\n",
      " [ 1.73706109 -1.42468537]] \n",
      "\n",
      "[[1 0 0 0]\n",
      " [0 1 0 0]\n",
      " [0 0 1 0]\n",
      " [0 0 0 1]]\n",
      "[[0 1 0 0]\n",
      " [0 0 2 0]\n",
      " [0 0 0 3]\n",
      " [0 0 0 0]]\n",
      "[[0. 0. 0.]\n",
      " [1. 0. 0.]\n",
      " [1. 1. 0.]]\n",
      "[0. 1.]\n"
     ]
    }
   ],
   "source": [
    "def generator():\n",
    "    for x in range(10):\n",
    "        yield x\n",
    "\n",
    "\n",
    "arr = np.array([[1, 2, 3], [-3, -2, -1]], dtype='int32')\n",
    "print(arr)\n",
    "print(np.array([\n",
    "    [j if j % 2 == 0 else 0 for j in range(i, i + 3)]\n",
    "    for i in range(2, 5)]), '\\n')\n",
    "\n",
    "print(np.zeros((2, 5)))\n",
    "print(np.ones((2, 2, 3), dtype=int))\n",
    "print(np.full(arr.shape, round(np.pi, 3)))\n",
    "print(np.full_like(arr, round(np.e, 3)), '\\n')\n",
    "\n",
    "print(np.arange(0, 20, 2))\n",
    "print(np.linspace(0, 1, 5), '\\n')\n",
    "\n",
    "print(np.random.random((3, 3)))\n",
    "print(np.random.uniform(1, 2, (3, 3)))\n",
    "print(np.random.normal(0, 1, (2, 2)), '\\n')\n",
    "\n",
    "print(np.eye(4, dtype='int'))\n",
    "print(np.diag(1 + np.arange(3), 1))\n",
    "print(np.tril(np.ones((3, 3)), -1))\n",
    "print(np.empty(2))"
   ]
  },
  {
   "cell_type": "markdown",
   "metadata": {
    "pycharm": {
     "name": "#%% md\n"
    }
   },
   "source": [
    "### 2 ATRIBUTES"
   ]
  },
  {
   "cell_type": "code",
   "execution_count": 3,
   "metadata": {
    "pycharm": {
     "name": "#%%\n"
    }
   },
   "outputs": [
    {
     "name": "stdout",
     "output_type": "stream",
     "text": [
      "3\n",
      "24\n",
      "(2, 3, 4) \n",
      "\n",
      "int32\n",
      "4\n",
      "96\n",
      "  C_CONTIGUOUS : True\n",
      "  F_CONTIGUOUS : False\n",
      "  OWNDATA : True\n",
      "  WRITEABLE : True\n",
      "  ALIGNED : True\n",
      "  WRITEBACKIFCOPY : False\n",
      "  UPDATEIFCOPY : False\n",
      " \n",
      "\n",
      "False\n",
      "True\n",
      "[[ 1.  2.  3.]\n",
      " [-3. -2. -1.]]\n",
      "[[ 1.  2.  3.]\n",
      " [-3. -2. -1.]]\n"
     ]
    }
   ],
   "source": [
    "np.set_printoptions(precision=4)\n",
    "\n",
    "x3 = np.random.randint(10, size=(2, 3, 4))\n",
    "print(x3.ndim)\n",
    "print(x3.size)\n",
    "print(x3.shape, \"\\n\")\n",
    "\n",
    "print(x3.dtype)\n",
    "print(x3.itemsize)\n",
    "print(x3.nbytes)\n",
    "print(x3.flags, '\\n')\n",
    "\n",
    "print(np.issubdtype(x3.dtype, np.floating))\n",
    "print(np.issubdtype(x3.dtype, np.number))\n",
    "print(arr.astype('float64'))\n",
    "print(np.float64(arr))"
   ]
  },
  {
   "cell_type": "markdown",
   "metadata": {
    "pycharm": {
     "name": "#%% md\n"
    }
   },
   "source": [
    "### 3 INDEXING"
   ]
  },
  {
   "cell_type": "code",
   "execution_count": 4,
   "metadata": {
    "pycharm": {
     "name": "#%%\n"
    }
   },
   "outputs": [
    {
     "name": "stdout",
     "output_type": "stream",
     "text": [
      "[[[4 4 2 5]\n",
      "  [5 9 6 1]\n",
      "  [0 8 0 9]]\n",
      "\n",
      " [[2 9 3 2]\n",
      "  [4 0 5 5]\n",
      "  [0 0 8 5]]]\n",
      "5\n",
      "5\n",
      "7\n",
      "[[2 9 3 2]\n",
      " [4 0 5 5]\n",
      " [0 7 8 5]]\n",
      "[[4 9 8]\n",
      " [9 0 7]]\n",
      "(1, 2, 0)\n"
     ]
    }
   ],
   "source": [
    "print(x3)\n",
    "print(x3[1][2][3])\n",
    "print(x3[1, 2, 3])\n",
    "x3[1, 2, -3] = 7\n",
    "print(x3[1, 2, -3])\n",
    "print(x3[-1])\n",
    "print(x3[..., 1]) # all remained dimensions\n",
    "print(np.unravel_index(20, x3.shape))"
   ]
  },
  {
   "cell_type": "markdown",
   "metadata": {
    "pycharm": {
     "name": "#%% md\n"
    }
   },
   "source": [
    "### 4 SLICING"
   ]
  },
  {
   "cell_type": "code",
   "execution_count": 5,
   "metadata": {
    "pycharm": {
     "name": "#%%\n"
    }
   },
   "outputs": [
    {
     "name": "stdout",
     "output_type": "stream",
     "text": [
      "[0 1 2 3 4]\n",
      "[0 3 6 9]\n",
      "[3 5 7 9] \n",
      "\n",
      "[9 8 7 6 5 4 3 2 1 0]\n",
      "[2 0]\n",
      "[8 6 4 2 0] =====\n",
      "\n",
      "[[[5 9 6]\n",
      "  [0 8 0]]\n",
      "\n",
      " [[4 0 5]\n",
      "  [0 7 8]]] \n",
      "\n",
      "[[[5 2 4 4]\n",
      "  [9 0 8 0]]] \n",
      "\n",
      "[4 0 5 5] =====\n",
      "\n",
      "[  0   1 228 228   4   5   6   7   8   9]\n"
     ]
    }
   ],
   "source": [
    "r = np.arange(10)\n",
    "print(r[:5])\n",
    "print(r[::3])\n",
    "print(r[3::2], '\\n')\n",
    "\n",
    "print(r[::-1])\n",
    "print(r[2::-2])\n",
    "print(r[-2::-2], '=====\\n')\n",
    "\n",
    "print(x3[:, 1:, :-1], '\\n')\n",
    "print(x3[:1, ::2, ::-1], '\\n')\n",
    "print(x3[1][1][:], '=====\\n')\n",
    "\n",
    "sr = r[:5]  #refers to the same data\n",
    "cr = r[:5].copy('C')  #by row ('C'/'F' for efficiency increase)\n",
    "sr[2:4] = [228, 228]\n",
    "cr[3] = 322\n",
    "print(r)"
   ]
  },
  {
   "cell_type": "markdown",
   "metadata": {
    "pycharm": {
     "name": "#%% md\n"
    }
   },
   "source": [
    "### 5 RESHAPING"
   ]
  },
  {
   "cell_type": "code",
   "execution_count": 6,
   "metadata": {
    "pycharm": {
     "name": "#%%\n"
    }
   },
   "outputs": [
    {
     "name": "stdout",
     "output_type": "stream",
     "text": [
      "[[[4 4 2 5 5 9 6 1 0 8 0 9]\n",
      "  [2 9 3 2 4 0 5 5 0 7 8 5]]]\n",
      "[[ 0  1  2  3  4  5]\n",
      " [ 6  7  8  9 10 11]]\n",
      "[4 4 2 5 5 9 6 1 0 8 0 9 2 9 3 2 4 0 5 5 0 7 8 5]\n",
      "[4 4 2 5 5 9 6 1 0 8 0 9 2 9 3 2 4 0 5 5 0 7 8 5]\n",
      "[4 2 5 4 0 0 4 9 9 0 8 7 2 3 6 5 0 8 5 2 1 5 9 5] \n",
      "\n",
      "[[  0]\n",
      " [  1]\n",
      " [228]\n",
      " [228]\n",
      " [  4]\n",
      " [  5]\n",
      " [  6]\n",
      " [  7]\n",
      " [  8]\n",
      " [  9]]\n",
      "[[ 1 -3]\n",
      " [ 2 -2]\n",
      " [ 3 -1]]\n",
      "[[[4 4 2 5]\n",
      "  [2 9 3 2]]\n",
      "\n",
      " [[5 9 6 1]\n",
      "  [4 0 5 5]]\n",
      "\n",
      " [[0 8 0 9]\n",
      "  [0 7 8 5]]]\n",
      "[[[4 5 0]\n",
      "  [4 9 8]\n",
      "  [2 6 0]\n",
      "  [5 1 9]]\n",
      "\n",
      " [[2 4 0]\n",
      "  [9 0 7]\n",
      "  [3 5 8]\n",
      "  [2 5 5]]]\n"
     ]
    }
   ],
   "source": [
    "print(x3.reshape(1, 2, 12))\n",
    "print(np.arange(12).reshape(-1, 6))  #type inference\n",
    "print(x3.ravel())  #same data\n",
    "print(x3.flatten())  #copy of data\n",
    "print(x3.ravel('F'), '\\n')  #pass by column\n",
    "\n",
    "print(r[:, np.newaxis])\n",
    "print(arr.T)\n",
    "print(x3.transpose(1, 0, 2))\n",
    "print(x3.swapaxes(1, 2))"
   ]
  },
  {
   "cell_type": "markdown",
   "metadata": {
    "pycharm": {
     "name": "#%% md\n"
    }
   },
   "source": [
    "### 6 MERGING"
   ]
  },
  {
   "cell_type": "code",
   "execution_count": 7,
   "metadata": {
    "pycharm": {
     "name": "#%%\n"
    }
   },
   "outputs": [
    {
     "name": "stdout",
     "output_type": "stream",
     "text": [
      "[2 3 4 4 5 6]\n",
      "[2 3 4 4 5 6]\n",
      "[2 3 4 4 5 6]\n",
      "[[2 3 4]\n",
      " [4 5 6]]\n",
      "[[2 3 4]\n",
      " [4 5 6]]\n",
      "[[2 4]\n",
      " [3 5]\n",
      " [4 6]] \n",
      "\n",
      "[ 1  1  1  2  2  2  3  3  3 -3 -3 -3 -2 -2 -2 -1 -1 -1]\n",
      "[[ 1  1  1  2  2  2  3  3  3]\n",
      " [-3 -3 -3 -2 -2 -2 -1 -1 -1]]\n",
      "[[ 1  2  3  1  2  3  1  2  3]\n",
      " [-3 -2 -1 -3 -2 -1 -3 -2 -1]]\n",
      "[[ 1  2  3]\n",
      " [-3 -2 -1]\n",
      " [ 1  2  3]\n",
      " [-3 -2 -1]] \n",
      "\n",
      "[[2 3 4]\n",
      " [2 3 4]\n",
      " [2 3 4]]\n",
      "[[4 4 4]\n",
      " [5 5 5]\n",
      " [6 6 6]]\n"
     ]
    }
   ],
   "source": [
    "x = np.array([2, 3, 4])\n",
    "y = np.array([4, 5, 6])\n",
    "print(np.concatenate([x, y]))\n",
    "print(np.hstack([x, y]))\n",
    "print(np.r_[x, y])\n",
    "print(np.concatenate([[x], [y]], axis=0))\n",
    "print(np.vstack([x, y]))\n",
    "print(np.c_[x, y], '\\n')\n",
    "\n",
    "print(arr.repeat(3))\n",
    "print(arr.repeat(3, axis=1))\n",
    "print(np.tile(arr, 3))\n",
    "print(np.tile(arr, (2, 1)), '\\n')\n",
    "\n",
    "X, Y = np.meshgrid(x, y)\n",
    "print(X)\n",
    "print(Y)"
   ]
  },
  {
   "cell_type": "markdown",
   "metadata": {
    "pycharm": {
     "name": "#%% md\n"
    }
   },
   "source": [
    "### 7 PARTITION"
   ]
  },
  {
   "cell_type": "code",
   "execution_count": 8,
   "metadata": {
    "pycharm": {
     "name": "#%%\n"
    }
   },
   "outputs": [
    {
     "name": "stdout",
     "output_type": "stream",
     "text": [
      "[  0   1 228] [228   4   5   6] [7 8 9]\n",
      "[[1 0]\n",
      " [0 1]\n",
      " [0 0]\n",
      " [0 0]]\n",
      "[[0 0]\n",
      " [0 0]\n",
      " [1 0]\n",
      " [0 1]]\n",
      "[[1 0 0 0]\n",
      " [0 1 0 0]]\n",
      "[[0 0 1 0]\n",
      " [0 0 0 1]]\n"
     ]
    }
   ],
   "source": [
    "r1, r2, r3 = np.split(r, [3, 7])\n",
    "print(r1, r2, r3)\n",
    "e1, e2 = np.hsplit(np.eye(4, dtype='int64'), [2])\n",
    "print(e1)\n",
    "print(e2)\n",
    "e1, e2 = np.vsplit(np.eye(4, dtype='int64'), [2])\n",
    "print(e1)\n",
    "print(e2)"
   ]
  },
  {
   "cell_type": "markdown",
   "metadata": {
    "pycharm": {
     "name": "#%% md\n"
    }
   },
   "source": [
    "### 8 UNIVERSAL FUNCTIONTS: CALCULATING (more efficiently)"
   ]
  },
  {
   "cell_type": "code",
   "execution_count": 9,
   "metadata": {
    "pycharm": {
     "name": "#%%\n"
    }
   },
   "outputs": [
    {
     "name": "stdout",
     "output_type": "stream",
     "text": [
      "[[ 0.5  1.   1.5]\n",
      " [-1.5 -1.  -0.5]]\n",
      "[[2.    4.    8.   ]\n",
      " [0.125 0.25  0.5  ]]\n",
      "[22 23 24] \n",
      "\n",
      "[-1  1]\n",
      "[5 5]\n",
      "[0.+0.j     0.+1.j     0.+1.4142j 0.+1.7321j 0.+2.j     0.+2.2361j\n",
      " 0.+2.4495j 0.+2.6458j 0.+2.8284j 0.+3.j    ]\n",
      "[ 0.9093  0.1411 -0.7568]\n",
      "[ 4.  8. 16.]\n",
      "[1.    1.585 2.   ]\n",
      "[1.0986 1.3863 1.6094]\n",
      "[1. 2. 6.]\n",
      "[4.6777e-03 2.2090e-05 1.5417e-08] \n",
      "\n",
      "[  0   1 228 228   4   5   6  20  30  40]\n",
      "9\n",
      "[  1 460 101]\n",
      "[ 2  6 24]\n",
      "[[  4   8  16]\n",
      " [  9  27  81]\n",
      " [ 16  64 256]]\n"
     ]
    }
   ],
   "source": [
    "@vectorize  #effective\n",
    "def custom_add(x, y):\n",
    "    return x + y * 10\n",
    "\n",
    "\n",
    "print(arr / 2)\n",
    "print(2 ** arr.astype('float64'))\n",
    "print(custom_add(x, 2), '\\n')  #sum\n",
    "\n",
    "print(np.sign(np.array([-5, 5])))\n",
    "print(np.abs(np.array([-5, 5])))\n",
    "print(np.emath.sqrt(np.arange(0, -10, -1)))  #consider imaginary values\n",
    "print(np.sin(x))\n",
    "print(np.exp2(x))\n",
    "print(np.log2(x))\n",
    "print(np.log1p(x))  #more precisely\n",
    "print(special.gamma(x))\n",
    "print(special.erfc(x), '\\n')\n",
    "\n",
    "np.multiply(x, 10, out=r[7:10])  #modifying without copying\n",
    "print(r)\n",
    "print(np.add.reduce(x))  #sum (faster than np.sum())\n",
    "print(np.add.reduceat(r, [0, 2, 5]))  #interval sum\n",
    "print(np.multiply.accumulate(x))  #cumprod\n",
    "print(np.power.outer(x, x))  # for each pair"
   ]
  },
  {
   "cell_type": "markdown",
   "metadata": {
    "pycharm": {
     "name": "#%% md\n"
    }
   },
   "source": [
    "### 9 AGGREGATING (effective)"
   ]
  },
  {
   "cell_type": "code",
   "execution_count": 10,
   "metadata": {
    "pycharm": {
     "name": "#%%\n"
    }
   },
   "outputs": [
    {
     "name": "stdout",
     "output_type": "stream",
     "text": [
      "9\n",
      "[2 5 9]\n",
      "[[3 1 3]\n",
      " [1 2 2]]\n",
      "0.816496580927726\n",
      "[2.5    6.1667 4.     4.5   ]\n"
     ]
    }
   ],
   "source": [
    "print(np.sum(x))\n",
    "print(np.cumsum(x))\n",
    "print(x3.argmax(axis=2))\n",
    "print(np.std(x))\n",
    "print(x3.mean(0).mean(0))  #concerning axis"
   ]
  },
  {
   "cell_type": "markdown",
   "metadata": {},
   "source": [
    "### 10 TRANSLATION (HARD) (or stacking)"
   ]
  },
  {
   "cell_type": "code",
   "execution_count": 11,
   "metadata": {
    "collapsed": false,
    "jupyter": {
     "outputs_hidden": false
    },
    "pycharm": {
     "name": "#%%\n"
    }
   },
   "outputs": [
    {
     "name": "stdout",
     "output_type": "stream",
     "text": [
      "[[4. 4. 4.]\n",
      " [4. 4. 4.]\n",
      " [4. 4. 4.]]\n",
      "[[2. 3. 4.]\n",
      " [2. 3. 4.]\n",
      " [2. 3. 4.]]\n",
      "[[4.1269 4.3133 4.6931]\n",
      " [5.0486 5.1269 5.3133]\n",
      " [6.0181 6.0486 6.1269]]\n",
      "[[0 1 2 3]\n",
      " [0 1 2 3]] \n",
      "\n",
      "[[-2. -3. -4.]\n",
      " [ 0.  0.  0.]\n",
      " [ 2.  3.  4.]]\n",
      "[[ 0.1116  0.99   -0.3612]\n",
      " [ 0.2166 -0.9813 -0.0392]\n",
      " [ 0.8026  0.953   0.6163]]\n"
     ]
    }
   ],
   "source": [
    "y = y.ravel()[:, np.newaxis]\n",
    "print(np.ones((3, 3)) + 3)\n",
    "print(np.ones((3, 3)) * x)\n",
    "print(np.logaddexp(x, y))\n",
    "e1[:] = np.arange(4)\n",
    "print(e1, '\\n')\n",
    "\n",
    "xy = x * y\n",
    "print(xy - xy.mean(0))  #centering\n",
    "print(np.sin(x) ** 10 + np.cos(10 + y * x) * np.cos(x))  #two-dimensional function"
   ]
  },
  {
   "cell_type": "markdown",
   "metadata": {},
   "source": [
    "### 11 UF: COMPARISON (effective)"
   ]
  },
  {
   "cell_type": "code",
   "execution_count": 12,
   "metadata": {
    "collapsed": false,
    "jupyter": {
     "outputs_hidden": false
    },
    "pycharm": {
     "name": "#%%\n"
    }
   },
   "outputs": [
    {
     "name": "stdout",
     "output_type": "stream",
     "text": [
      "[[False False  True]\n",
      " [False  True  True]\n",
      " [False  True  True]]\n",
      "[[ True  True  True]\n",
      " [ True  True False]\n",
      " [ True False False]]\n",
      "[['<18' '<18' '<18']\n",
      " ['<18' '<18' '>=18']\n",
      " ['<18' '>=18' '>=18']]\n",
      "[[False False  True]\n",
      " [False  True False]\n",
      " [False False False]]\n",
      "[16 15]\n",
      "True\n",
      "(array([0, 1], dtype=int64), array([0, 1], dtype=int64))\n",
      "5\n"
     ]
    }
   ],
   "source": [
    "print(np.greater(xy, 12))\n",
    "print(xy < 18)\n",
    "print(np.where(xy < 18, '<18', '>=18'))\n",
    "mask = (xy > 12) & (xy < 18)\n",
    "print(mask)\n",
    "print(xy[mask])\n",
    "print(np.all(xy > 5))\n",
    "print(np.nonzero(np.eye(2)))\n",
    "print(np.count_nonzero(xy > 12))"
   ]
  },
  {
   "cell_type": "markdown",
   "metadata": {},
   "source": [
    "### 12 FANCY INDEXING (copies data everytime) (HARD)"
   ]
  },
  {
   "cell_type": "code",
   "execution_count": 13,
   "metadata": {
    "collapsed": false,
    "jupyter": {
     "outputs_hidden": false
    },
    "pycharm": {
     "name": "#%%\n"
    }
   },
   "outputs": [
    {
     "name": "stdout",
     "output_type": "stream",
     "text": [
      "[228   5  20]\n",
      "[[  0   1]\n",
      " [  1 228]] \n",
      "\n",
      "[[ 8 12]\n",
      " [10 15]\n",
      " [12 18]]\n",
      "[[ 8 16]\n",
      " [10 20]\n",
      " [12 24]]\n",
      "[12 20]\n",
      "[[12 16]\n",
      " [15 20]]\n",
      "[[ 8 15]\n",
      " [15 24]]\n",
      "[[12 16]\n",
      " [15 20]] \n",
      "\n",
      "[[10 20]\n",
      " [10 20]\n",
      " [12 24]] \n",
      "\n",
      "[ 99   1 228 228   4  99   6  20  30  99]\n",
      "[198   1 228 228   4 198   6  20  30 198]\n",
      "[200   1 228 228   4 200   6  20  30 200]\n"
     ]
    }
   ],
   "source": [
    "print(r[[3, 5, 7]])  # -> numbers\n",
    "print(r[np.array([[0, 1], [1, 2]])], '\\n')  # -> array\n",
    "\n",
    "print(xy[:, [0, 1]])  # -> rows/cols\n",
    "print(xy.take([0, 2], axis=1))  # -> rows/cols\n",
    "print(xy[[0, 1], [1, 2]])  # -> numbers\n",
    "\n",
    "print(xy[[0, 1]][:, [1, 2]])  # -> array\n",
    "print(xy[np.array([[0, 1], [1, 2]]), np.array([[0, 1], [1, 2]])])  # -> array (kill me please)\n",
    "print(xy[np.array([0, 1])[:, np.newaxis], [1, 2]], '\\n')  # -> array (index translation (kill me please X2))\n",
    "print(xy[np.array([1, 1, 2])[:, np.newaxis], np.array([True, False, True])], '\\n')  #using mask\n",
    "\n",
    "ind = [0, 5, 9]\n",
    "r[ind] = 99  #same\n",
    "r.put(ind, 99)  #same\n",
    "print(r)\n",
    "r[ind] *= 2\n",
    "print(r)\n",
    "np.add.at(r, ind, 2)  # applies operation to elements at indices\n",
    "print(r)"
   ]
  },
  {
   "cell_type": "markdown",
   "metadata": {},
   "source": [
    "### 13 SORTING"
   ]
  },
  {
   "cell_type": "code",
   "execution_count": 14,
   "metadata": {
    "collapsed": false,
    "jupyter": {
     "outputs_hidden": false
    },
    "pycharm": {
     "name": "#%%\n"
    }
   },
   "outputs": [
    {
     "name": "stdout",
     "output_type": "stream",
     "text": [
      "[  1   4   6  20  30 200 200 200 228 228]\n",
      "[1 4 6 7 8 0 5 9 2 3]\n",
      "[[2 4 4 5]\n",
      " [1 5 6 9]\n",
      " [0 0 8 9]]\n",
      "[  4   1   6  20  30 200 200 228 228 200]\n",
      "[4 1 6 7 8 0 5 3 2 9]\n",
      "[2 4 5]\n"
     ]
    }
   ],
   "source": [
    "print(np.sort(r))  #copy\n",
    "print(np.argsort(r, kind='mergesort'))  #sustainable\n",
    "x3[0].sort(axis=1)  #modifies source\n",
    "print(x3[0])\n",
    "print(np.partition(r, 3))\n",
    "print(np.argpartition(r, 3))\n",
    "print(np.arange(0, 25, 5).searchsorted([10, 20, 30]))"
   ]
  },
  {
   "cell_type": "markdown",
   "metadata": {},
   "source": [
    "### 14 STRUCTURES"
   ]
  },
  {
   "cell_type": "code",
   "execution_count": 15,
   "metadata": {
    "collapsed": false,
    "jupyter": {
     "outputs_hidden": false
    },
    "pycharm": {
     "name": "#%%\n"
    }
   },
   "outputs": [
    {
     "name": "stdout",
     "output_type": "stream",
     "text": [
      "[('name', '<U10'), ('age', '<i4')]\n",
      "('name', 'age')\n",
      "[('id', '<i8'), ('mat', '<f8', (3, 3))]\n",
      "[('id', '<i8'), ('list', [('a', '<f8'), ('b', '<f4')])] \n",
      "\n",
      "[0 0 5]\n",
      "Nice\n",
      "['Bro']\n",
      "[0. 0. 0.]\n",
      "[0. 0. 0.]\n"
     ]
    }
   ],
   "source": [
    "#initialization\n",
    "data = np.zeros(3, dtype={'names': ('name', 'age'), 'formats': ('<U10', '>i4')})\n",
    "data = np.zeros(3, 'U10,i4')\n",
    "data = np.zeros(3, [('name', 'U10'), ('age', 'i4')])\n",
    "data2 = np.zeros(3, dtype=np.dtype([('id', 'i8'), ('mat', 'f8', (3, 3))]))\n",
    "data3 = np.zeros(3, dtype=np.dtype([('id', 'i8'), ('list', [('a', 'f8'), ('b', 'f4')])]))\n",
    "print(data.dtype)\n",
    "print(data.dtype.names)\n",
    "print(data2.dtype)\n",
    "print(data3.dtype, '\\n')\n",
    "\n",
    "#access\n",
    "data['name'] = ['Nice', 'Dick', 'Bro']\n",
    "data['age'][2] = 5\n",
    "print(data['age'])\n",
    "print(data['name'][0])\n",
    "print(data[data['age'] > 2]['name'])\n",
    "print(data2[0]['mat'][0])\n",
    "print(data3['list']['a'])"
   ]
  },
  {
   "cell_type": "markdown",
   "metadata": {},
   "source": [
    "### 15 DATETIME64"
   ]
  },
  {
   "cell_type": "code",
   "execution_count": 16,
   "metadata": {
    "collapsed": false,
    "jupyter": {
     "outputs_hidden": false
    },
    "pycharm": {
     "name": "#%%\n"
    }
   },
   "outputs": [
    {
     "data": {
      "text/plain": "array(['2015-07-30', '2015-07-31', '2015-08-01', '2015-08-02'],\n      dtype='datetime64[D]')"
     },
     "execution_count": 16,
     "metadata": {},
     "output_type": "execute_result"
    }
   ],
   "source": [
    "date = np.datetime64('2015-07-30')\n",
    "np.datetime64('2015-07-30T20:45', 'ns')\n",
    "date + np.arange(4)"
   ]
  },
  {
   "cell_type": "markdown",
   "metadata": {},
   "source": [
    "### 16 SET OPERATIONS"
   ]
  },
  {
   "cell_type": "code",
   "execution_count": 17,
   "metadata": {
    "collapsed": false,
    "jupyter": {
     "outputs_hidden": false
    },
    "pycharm": {
     "name": "#%%\n"
    }
   },
   "outputs": [
    {
     "name": "stdout",
     "output_type": "stream",
     "text": [
      "[  1   4   6  20  30 200 228]\n",
      "[False False False False  True False False False False False]\n",
      "[4]\n"
     ]
    }
   ],
   "source": [
    "print(np.unique(r))\n",
    "print(np.in1d(r, x))  #presence\n",
    "print(np.intersect1d(r, x))"
   ]
  },
  {
   "cell_type": "markdown",
   "metadata": {},
   "source": [
    "### 17 FILES"
   ]
  },
  {
   "cell_type": "code",
   "execution_count": 18,
   "metadata": {
    "collapsed": false,
    "jupyter": {
     "outputs_hidden": false
    },
    "pycharm": {
     "name": "#%%\n"
    }
   },
   "outputs": [
    {
     "name": "stdout",
     "output_type": "stream",
     "text": [
      "[2 3 4] \n",
      "\n",
      "[[ 0  0  0 ...  0  0  0]\n",
      " [ 0  0  0 ...  0  0  0]\n",
      " [ 0  0  0 ...  0  0  0]\n",
      " ...\n",
      " [ 0  0  0 ... 12 12 12]\n",
      " [ 0  0  0 ... 12 12 12]\n",
      " [ 0  0  0 ... 12 12 12]]\n"
     ]
    }
   ],
   "source": [
    "np.save('out/xy_arr.npy', xy)\n",
    "np.savez('out/xy_arr.npz', a=x, b=y)  #zip\n",
    "np.savez_compressed('out/xy_arr_comp.npz', a=x, b=y)  #compressed zip\n",
    "xy_z = np.load('out/xy_arr.npz')\n",
    "print(xy_z['a'], '\\n')\n",
    "\n",
    "mmap = np.memmap(filename='out/map1000', dtype='int32', shape=(100, 100))\n",
    "section = mmap[-2:, -2:]  #representation\n",
    "section[:] = 12\n",
    "mmap.flush()  #save changes\n",
    "print(mmap)\n",
    "del mmap"
   ]
  },
  {
   "cell_type": "markdown",
   "metadata": {},
   "source": [
    "### 18 LINEAR ALGEBRA"
   ]
  },
  {
   "cell_type": "code",
   "execution_count": 19,
   "metadata": {
    "collapsed": false,
    "jupyter": {
     "outputs_hidden": false
    },
    "pycharm": {
     "name": "#%%\n"
    }
   },
   "outputs": [
    {
     "name": "stdout",
     "output_type": "stream",
     "text": [
      "[[ 14 -10]\n",
      " [-10  14]]\n",
      "[[ 14 -10]\n",
      " [-10  14]]\n",
      "[[-1.5  0.5]\n",
      " [ 1.   0. ]]\n",
      "[-4.  5.]\n",
      "0.0\n"
     ]
    }
   ],
   "source": [
    "print(np.dot(arr, arr.T))  #matrix product\n",
    "print(arr @ arr.T)  #also\n",
    "print(linalg.inv(np.arange(4).reshape(2, 2)))\n",
    "print(linalg.solve(a=np.arange(4).reshape(2, 2), b=[5, 7]))\n",
    "print(linalg.det(xy))"
   ]
  }
 ],
 "metadata": {
  "kernelspec": {
   "name": "pycharm-4d6829bb",
   "language": "python",
   "display_name": "PyCharm (Learning)"
  },
  "language_info": {
   "codemirror_mode": {
    "name": "ipython",
    "version": 3
   },
   "file_extension": ".py",
   "mimetype": "text/x-python",
   "name": "python",
   "nbconvert_exporter": "python",
   "pygments_lexer": "ipython3",
   "version": "3.9.0"
  },
  "widgets": {
   "application/vnd.jupyter.widget-state+json": {
    "state": {},
    "version_major": 2,
    "version_minor": 0
   }
  }
 },
 "nbformat": 4,
 "nbformat_minor": 4
}