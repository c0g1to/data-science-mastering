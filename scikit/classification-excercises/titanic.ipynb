{
 "cells": [
  {
   "cell_type": "code",
   "execution_count": 15,
   "outputs": [],
   "source": [
    "#@formatter:off\n",
    "import re\n",
    "import numpy as np\n",
    "import pandas as pd\n",
    "import seaborn as sns\n",
    "import matplotlib.pyplot as plt\n",
    "from sklearn.base import BaseEstimator, TransformerMixin\n",
    "from sklearn.ensemble import RandomForestClassifier\n",
    "from sklearn.impute import SimpleImputer\n",
    "from sklearn.linear_model import SGDClassifier\n",
    "from sklearn.metrics import confusion_matrix\n",
    "from sklearn.model_selection import cross_val_score, GridSearchCV, StratifiedKFold\n",
    "from sklearn.pipeline import Pipeline\n",
    "from sklearn.preprocessing import OneHotEncoder, OrdinalEncoder,  MinMaxScaler\n",
    "from sklearn.svm import SVC\n",
    "\n",
    "\n",
    "pd.options.display.max_rows = 100\n",
    "pd.options.display.max_columns = 100\n",
    "%matplotlib inline\n",
    "sns.set_theme(style='whitegrid')\n",
    "#@formatter:on"
   ],
   "metadata": {
    "collapsed": false,
    "pycharm": {
     "name": "#%%\n"
    }
   }
  },
  {
   "cell_type": "code",
   "execution_count": 16,
   "outputs": [],
   "source": [
    "def get_tags(column, tags):\n",
    "    column.fillna('', inplace=True)\n",
    "    output = pd.Series(index=column.index, dtype=object)\n",
    "    for tag in tags:\n",
    "        output[column.str.contains(tag)] = tag\n",
    "    return output\n",
    "\n",
    "\n",
    "def extend_feature_names(origin_column, new_features):\n",
    "    if isinstance(new_features, str):\n",
    "        return [origin_column + '_' + str(new_features)]\n",
    "    else:\n",
    "        return [origin_column + '_' + str(feature) for feature in new_features]\n",
    "\n",
    "\n",
    "def extend_intervals_borders(intervals):\n",
    "    leftmost = pd.Interval(-np.inf, intervals[0].right)\n",
    "    rightmost = pd.Interval(intervals[-1].left, np.inf)\n",
    "    return pd.IntervalIndex([leftmost, *intervals[1:-1], rightmost])\n",
    "\n",
    "\n",
    "class TagAdder(BaseEstimator):\n",
    "    def __init__(self, tags, column, tag_column, na_value=None):\n",
    "        self.tags = tags\n",
    "        self.column = column\n",
    "        self.tag_column = tag_column\n",
    "        self.na_value = na_value\n",
    "\n",
    "    def fit(self, df, y=None):\n",
    "        return self\n",
    "\n",
    "    def transform(self, df, y=None):\n",
    "        df = df.copy()\n",
    "        df[self.tag_column] = get_tags(df[self.column], self.tags)\n",
    "        if self.na_value is not None:\n",
    "            df[self.tag_column].fillna(self.na_value, inplace=True)\n",
    "        return df\n",
    "\n",
    "\n",
    "class DfBiner(BaseEstimator, TransformerMixin):\n",
    "    def __init__(self, col_bins, quantile=False):\n",
    "        self.col_bins = col_bins\n",
    "        self.cut_func = pd.qcut if quantile else pd.cut\n",
    "        self.col_bins_fitted = {}\n",
    "\n",
    "    def fit(self, df, y=None):\n",
    "        for col, bins in self.col_bins.items():\n",
    "            self.col_bins_fitted[col] = extend_intervals_borders(\n",
    "                self.cut_func(df[col], bins, duplicates='drop').dtype.categories)\n",
    "        return self\n",
    "\n",
    "    def transform(self, df, y=None):\n",
    "        df = df.copy()\n",
    "        for col, bins in self.col_bins_fitted.items():\n",
    "            df[col] = pd.cut(df[col], bins).astype(str)\n",
    "        return df\n",
    "\n",
    "\n",
    "class TitleReplacer(BaseEstimator):\n",
    "    def fit(self, df, y=None):\n",
    "        return self\n",
    "\n",
    "    def transform(self, df, y=None):\n",
    "        df = df.copy()\n",
    "        df['Title'] = df.apply(self.__replace_title, axis=1)\n",
    "        return df\n",
    "\n",
    "    def __replace_title(self, row):\n",
    "        title = row['Title']\n",
    "        if title in ['Don', 'Major', 'Capt', 'Jonkheer', 'Rev', 'Col']:\n",
    "            return 'Mr'\n",
    "        elif title in ['Countess', 'Mme']:\n",
    "            return 'Mrs'\n",
    "        elif title in ['Mlle', 'Ms']:\n",
    "            return 'Miss'\n",
    "        elif title == 'Dr':\n",
    "            if row['Sex'] == 'Male':\n",
    "                return 'Mr'\n",
    "            else:\n",
    "                return 'Mrs'\n",
    "        else:\n",
    "            return title\n",
    "\n",
    "\n",
    "class TitanicFeatureFixer(BaseEstimator):\n",
    "    def __init__(self, remove_list):\n",
    "        self.remove_list = remove_list\n",
    "\n",
    "    def fit(self, df, y=None):\n",
    "        return self\n",
    "\n",
    "    # TODO add survival rate\n",
    "    def transform(self, df, y=None):\n",
    "        df = df.copy()\n",
    "        df['Embarked'].fillna('S', inplace=True)\n",
    "        df['Deck'].replace(['A', 'B', 'C', 'T'], 'ABC', inplace=True)\n",
    "        df['Deck'].replace(['D', 'E'], 'DE', inplace=True)\n",
    "        df['Deck'].replace(['F', 'G'], 'FG', inplace=True)\n",
    "        grouped_median_age_vals = df.groupby(['Sex', 'Pclass'])['Age'].median()\n",
    "        for sex in df.Sex.unique():\n",
    "            for pclass in df.Pclass.unique():\n",
    "                df.loc[(df.Pclass == pclass) & (df.Sex == sex) & (df.Age.isna()), 'Age'] =\\\n",
    "                    grouped_median_age_vals.loc[(sex, pclass)]\n",
    "        na_fare_pas = df.loc[df.Fare.isna()]\n",
    "        df['Fare'].fillna(\n",
    "            df.groupby(['SibSp', 'Parch', 'Pclass'])['Fare'].median()\n",
    "                .loc[(na_fare_pas.SibSp, na_fare_pas.Parch, na_fare_pas.Pclass)].values[0],\n",
    "            inplace=True)\n",
    "        df['FamilySize'] = df['SibSp'] + df['Parch'] + 1\n",
    "        df['FamilySize'].replace([1], 'Alone', inplace=True)\n",
    "        df['FamilySize'].replace([2, 3, 4], 'Small', inplace=True)\n",
    "        df['FamilySize'].replace([5, 6], 'Medium', inplace=True)\n",
    "        df['FamilySize'].replace([7, 8, 11], 'Large', inplace=True)\n",
    "        df['Family'] = df['Name']\\\n",
    "            .str.replace('\\(|\\)', '', regex=True).str.split(',',expand=True)[0]\n",
    "        df['TicketFrequency'] = df.groupby('Ticket')['Ticket'].transform('count')\n",
    "        df['IsMarried'] = 0\n",
    "        df.loc[df['Title'] == 'Mrs', 'IsMarried'] = 1\n",
    "        # df['AgeClass'] = df['Age'] * df['Pclass']\n",
    "        # df['FarePerPerson'] = df['Fare'] / df['FamilySize']\n",
    "        # df['isAlone'] = 0\n",
    "        # df.loc[df['FamilySize'] == 1, 'isAlone'] = 1\n",
    "        df.drop(self.remove_list, axis=1, inplace=True)\n",
    "        return df\n",
    "\n",
    "\n",
    "class AutoEncoder(BaseEstimator, TransformerMixin):\n",
    "    def __init__(self, extra_cat_features=()):\n",
    "        self.extra_cat_features = extra_cat_features\n",
    "        self.__clean_attributes()\n",
    "\n",
    "    def fit(self, df, y=None):\n",
    "        self.__init_attributes(df)\n",
    "        self.categories_.extend(self.__numeric.copy())\n",
    "        for col in self.__binary:\n",
    "            encoder = OrdinalEncoder()\n",
    "            encoder.fit(np.c_[df[col]])\n",
    "            self.categories_.extend(extend_feature_names(col, encoder.categories_[0][0]))\n",
    "            self.__encoders.append(encoder)\n",
    "        for col in self.__categorical:\n",
    "            encoder = OneHotEncoder(sparse=False)\n",
    "            encoder.fit(np.c_[df[col]])\n",
    "            extended_features = extend_feature_names(col, encoder.categories_[0])\n",
    "            self.categories_.extend(extended_features)\n",
    "            self.__encoders.append(encoder)\n",
    "        return self\n",
    "\n",
    "    def transform(self, df, y=None):\n",
    "        features = [df[self.__numeric].to_numpy()]\n",
    "        for col, enc in zip(self.__binary + self.__categorical, self.__encoders):\n",
    "            feature = enc.transform(np.c_[df[col]])\n",
    "            features.append(feature)\n",
    "        return np.concatenate([*features], axis=1)\n",
    "\n",
    "    def __init_attributes(self, df):\n",
    "        self.__clean_attributes()\n",
    "        for col in df.columns:\n",
    "            print(col)\n",
    "            if np.issubdtype(df[col], np.number) and col not in self.extra_cat_features:\n",
    "                self.__numeric.append(col)\n",
    "            else:\n",
    "                if len(df[col].unique()) == 2:\n",
    "                    self.__binary.append(col)\n",
    "                else:\n",
    "                    self.__categorical.append(col)\n",
    "\n",
    "    def __clean_attributes(self):\n",
    "        self.__numeric = []\n",
    "        self.__binary = []\n",
    "        self.__categorical = []\n",
    "        self.__encoders = []\n",
    "        self.categories_ = []"
   ],
   "metadata": {
    "collapsed": false,
    "pycharm": {
     "name": "#%%\n"
    }
   }
  },
  {
   "cell_type": "code",
   "execution_count": 17,
   "outputs": [
    {
     "data": {
      "text/plain": "   PassengerId  Pclass                                               Name  \\\n0            1       3                            Braund, Mr. Owen Harris   \n1            2       1  Cumings, Mrs. John Bradley (Florence Briggs Th...   \n2            3       3                             Heikkinen, Miss. Laina   \n3            4       1       Futrelle, Mrs. Jacques Heath (Lily May Peel)   \n4            5       3                           Allen, Mr. William Henry   \n\n      Sex   Age  SibSp  Parch            Ticket     Fare Cabin Embarked  \n0    male  22.0      1      0         A/5 21171   7.2500   NaN        S  \n1  female  38.0      1      0          PC 17599  71.2833   C85        C  \n2  female  26.0      0      0  STON/O2. 3101282   7.9250   NaN        S  \n3  female  35.0      1      0            113803  53.1000  C123        S  \n4    male  35.0      0      0            373450   8.0500   NaN        S  ",
      "text/html": "<div>\n<style scoped>\n    .dataframe tbody tr th:only-of-type {\n        vertical-align: middle;\n    }\n\n    .dataframe tbody tr th {\n        vertical-align: top;\n    }\n\n    .dataframe thead th {\n        text-align: right;\n    }\n</style>\n<table border=\"1\" class=\"dataframe\">\n  <thead>\n    <tr style=\"text-align: right;\">\n      <th></th>\n      <th>PassengerId</th>\n      <th>Pclass</th>\n      <th>Name</th>\n      <th>Sex</th>\n      <th>Age</th>\n      <th>SibSp</th>\n      <th>Parch</th>\n      <th>Ticket</th>\n      <th>Fare</th>\n      <th>Cabin</th>\n      <th>Embarked</th>\n    </tr>\n  </thead>\n  <tbody>\n    <tr>\n      <th>0</th>\n      <td>1</td>\n      <td>3</td>\n      <td>Braund, Mr. Owen Harris</td>\n      <td>male</td>\n      <td>22.0</td>\n      <td>1</td>\n      <td>0</td>\n      <td>A/5 21171</td>\n      <td>7.2500</td>\n      <td>NaN</td>\n      <td>S</td>\n    </tr>\n    <tr>\n      <th>1</th>\n      <td>2</td>\n      <td>1</td>\n      <td>Cumings, Mrs. John Bradley (Florence Briggs Th...</td>\n      <td>female</td>\n      <td>38.0</td>\n      <td>1</td>\n      <td>0</td>\n      <td>PC 17599</td>\n      <td>71.2833</td>\n      <td>C85</td>\n      <td>C</td>\n    </tr>\n    <tr>\n      <th>2</th>\n      <td>3</td>\n      <td>3</td>\n      <td>Heikkinen, Miss. Laina</td>\n      <td>female</td>\n      <td>26.0</td>\n      <td>0</td>\n      <td>0</td>\n      <td>STON/O2. 3101282</td>\n      <td>7.9250</td>\n      <td>NaN</td>\n      <td>S</td>\n    </tr>\n    <tr>\n      <th>3</th>\n      <td>4</td>\n      <td>1</td>\n      <td>Futrelle, Mrs. Jacques Heath (Lily May Peel)</td>\n      <td>female</td>\n      <td>35.0</td>\n      <td>1</td>\n      <td>0</td>\n      <td>113803</td>\n      <td>53.1000</td>\n      <td>C123</td>\n      <td>S</td>\n    </tr>\n    <tr>\n      <th>4</th>\n      <td>5</td>\n      <td>3</td>\n      <td>Allen, Mr. William Henry</td>\n      <td>male</td>\n      <td>35.0</td>\n      <td>0</td>\n      <td>0</td>\n      <td>373450</td>\n      <td>8.0500</td>\n      <td>NaN</td>\n      <td>S</td>\n    </tr>\n  </tbody>\n</table>\n</div>"
     },
     "execution_count": 17,
     "metadata": {},
     "output_type": "execute_result"
    }
   ],
   "source": [
    "train_df = pd.read_csv('data/titanic_train.csv')\n",
    "test_df = pd.read_csv('data/titanic_test.csv')\n",
    "y_train = train_df.Survived.to_numpy()\n",
    "train_df.drop(columns='Survived', inplace=True)\n",
    "train_df.head()"
   ],
   "metadata": {
    "collapsed": false,
    "pycharm": {
     "name": "#%%\n"
    }
   }
  },
  {
   "cell_type": "code",
   "execution_count": 18,
   "outputs": [
    {
     "name": "stdout",
     "output_type": "stream",
     "text": [
      "['Mr', 'Mrs', 'Miss', 'Mrs', 'Mr', 'Mr', 'Mr', 'Master', 'Mrs', 'Mrs']\n",
      "['C' 'E' 'G' 'D' 'A' 'B' 'F' 'T']\n"
     ]
    }
   ],
   "source": [
    "titles = train_df['Name'].str.extract('([A-Za-z]+)\\.').loc[:, 0].tolist()\n",
    "print(titles[:10])\n",
    "\n",
    "decks = train_df.Cabin.str[0].unique()[1:]\n",
    "print(decks[:10])"
   ],
   "metadata": {
    "collapsed": false,
    "pycharm": {
     "name": "#%%\n"
    }
   }
  },
  {
   "cell_type": "code",
   "execution_count": 19,
   "outputs": [
    {
     "name": "stdout",
     "output_type": "stream",
     "text": [
      "Pclass\n",
      "Sex\n",
      "Age\n",
      "Fare\n",
      "Embarked\n",
      "Title\n",
      "Deck\n",
      "FamilySize\n",
      "Family\n",
      "TicketFrequency\n",
      "IsMarried\n",
      "['TicketFrequency', 'IsMarried', 'Sex_female', 'Pclass_1', 'Pclass_2', 'Pclass_3', 'Age_(-inf, 16.0]', 'Age_(16.0, 21.0]', 'Age_(21.0, 22.0]', 'Age_(22.0, 25.0]', 'Age_(25.0, 26.0]', 'Age_(26.0, 29.5]', 'Age_(29.5, 34.0]', 'Age_(34.0, 40.0]', 'Age_(40.0, 48.0]', 'Age_(48.0, inf]', 'Fare_(-inf, 7.25]', 'Fare_(10.5, 13.0]', 'Fare_(13.0, 15.742]', 'Fare_(15.742, 23.25]', 'Fare_(23.25, 26.55]', 'Fare_(26.55, 34.075]', 'Fare_(34.075, 56.496]', 'Fare_(56.496, 83.475]', 'Fare_(7.25, 7.75]', 'Fare_(7.75, 7.896]', 'Fare_(7.896, 8.05]', 'Fare_(8.05, 10.5]', 'Fare_(83.475, inf]', 'Embarked_C', 'Embarked_Q', 'Embarked_S', 'Title_Master', 'Title_Miss', 'Title_Mr', 'Title_Mrs', 'Deck_ABC', 'Deck_DE', 'Deck_FG', 'Deck_M', 'FamilySize_Alone', 'FamilySize_Large', 'FamilySize_Medium', 'FamilySize_Small', 'Family_Abbing', 'Family_Abbott', 'Family_Abelseth', 'Family_Abelson', 'Family_Abrahamsson', 'Family_Abrahim', 'Family_Adahl', 'Family_Adams', 'Family_Ahlin', 'Family_Aks', 'Family_Albimona', 'Family_Aldworth', 'Family_Alexander', 'Family_Alhomaki', 'Family_Ali', 'Family_Allen', 'Family_Allison', 'Family_Allum', 'Family_Andersen', 'Family_Andersen-Jensen', 'Family_Anderson', 'Family_Andersson', 'Family_Andreasson', 'Family_Andrew', 'Family_Andrews', 'Family_Angheloff', 'Family_Angle', 'Family_Appleton', 'Family_Arnold-Franchi', 'Family_Aronsson', 'Family_Artagaveytia', 'Family_Ashby', 'Family_Asim', 'Family_Asplund', 'Family_Assaf', 'Family_Assaf Khalil', 'Family_Assam', 'Family_Astor', 'Family_Attalah', 'Family_Aubart', 'Family_Augustsson', 'Family_Ayoub', 'Family_Baccos', 'Family_Backstrom', 'Family_Baclini', 'Family_Badman', 'Family_Badt', 'Family_Bailey', 'Family_Baimbrigge', 'Family_Balkic', 'Family_Ball', 'Family_Banfield', 'Family_Barah', 'Family_Barbara', 'Family_Barber', 'Family_Barkworth', 'Family_Barry', 'Family_Barton', 'Family_Bateman', 'Family_Baumann', 'Family_Baxter', 'Family_Bazzani', 'Family_Beane', 'Family_Beattie', 'Family_Beauchamp', 'Family_Beavan', 'Family_Becker', 'Family_Beckwith', 'Family_Beesley', 'Family_Behr', 'Family_Bengtsson', 'Family_Bentham', 'Family_Berglund', 'Family_Berriman', 'Family_Betros', 'Family_Bidois', 'Family_Bing', 'Family_Bird', 'Family_Birkeland', 'Family_Birnbaum', 'Family_Bishop', 'Family_Bissette', 'Family_Bjorklund', 'Family_Bjornstrom-Steffansson', 'Family_Blackwell', 'Family_Blank', 'Family_Bonnell', 'Family_Borebank', 'Family_Bostandyeff', 'Family_Botsford', 'Family_Boulos', 'Family_Bourke', 'Family_Bowen', 'Family_Bowenur', 'Family_Bowerman', 'Family_Bracken', 'Family_Bradley', 'Family_Brady', 'Family_Braf', 'Family_Brandeis', 'Family_Braund', 'Family_Brewe', 'Family_Brobeck', 'Family_Brocklebank', 'Family_Brown', 'Family_Bryhl', 'Family_Buckley', 'Family_Bucknell', 'Family_Burke', 'Family_Burns', 'Family_Buss', 'Family_Butler', 'Family_Butt', 'Family_Byles', 'Family_Bystrom', 'Family_Cacic', 'Family_Cairns', 'Family_Calderhead', 'Family_Caldwell', 'Family_Calic', 'Family_Cameron', 'Family_Campbell', 'Family_Canavan', 'Family_Candee', 'Family_Cann', 'Family_Caram', 'Family_Carbines', 'Family_Cardeza', 'Family_Carlsson', 'Family_Carr', 'Family_Carrau', 'Family_Carter', 'Family_Carver', 'Family_Case', 'Family_Cassebeer', 'Family_Cavendish', 'Family_Celotti', 'Family_Chaffee', 'Family_Chambers', 'Family_Chapman', 'Family_Charters', 'Family_Chaudanson', 'Family_Cherry', 'Family_Chevre', 'Family_Chibnall', 'Family_Chip', 'Family_Chisholm', 'Family_Christmann', 'Family_Christy', 'Family_Chronopoulos', 'Family_Clark', 'Family_Clarke', 'Family_Cleaver', 'Family_Clifford', 'Family_Coelho', 'Family_Cohen', 'Family_Colbert', 'Family_Coleff', 'Family_Coleridge', 'Family_Collander', 'Family_Collett', 'Family_Colley', 'Family_Collyer', 'Family_Compton', 'Family_Conlon', 'Family_Connaghton', 'Family_Connolly', 'Family_Connors', 'Family_Cook', 'Family_Cor', 'Family_Corbett', 'Family_Corey', 'Family_Corn', 'Family_Cornell', 'Family_Cotterill', 'Family_Coutts', 'Family_Coxon', 'Family_Crafton', 'Family_Crease', 'Family_Cribb', 'Family_Crosby', 'Family_Culumovic', 'Family_Cumings', 'Family_Cunningham', 'Family_Daher', 'Family_Dahl', 'Family_Dahlberg', 'Family_Dakic', 'Family_Daly', 'Family_Danbom', 'Family_Daniel', 'Family_Daniels', 'Family_Danoff', 'Family_Dantcheff', 'Family_Davidson', 'Family_Davies', 'Family_Davis', 'Family_Davison', 'Family_Deacon', 'Family_Dean', 'Family_Delalic', 'Family_Demetri', 'Family_Denbury', 'Family_Denkoff', 'Family_Dennis', 'Family_Devaney', 'Family_Dibden', 'Family_Dick', 'Family_Dika', 'Family_Dimic', 'Family_Dintcheff', 'Family_Dodge', 'Family_Doharr', 'Family_Doling', 'Family_Dooley', 'Family_Dorking', 'Family_Douglas', 'Family_Dowdell', 'Family_Downton', 'Family_Doyle', 'Family_Drapkin', 'Family_Drazenoic', 'Family_Drew', 'Family_Duane', 'Family_Duff Gordon', 'Family_Dulles', 'Family_Duquemin', 'Family_Duran y More', 'Family_Dyker', 'Family_Earnshaw', 'Family_Edvardsson', 'Family_Eitemiller', 'Family_Eklund', 'Family_Ekstrom', 'Family_Elias', 'Family_Elsbury', 'Family_Emanuel', 'Family_Emir', 'Family_Enander', 'Family_Endres', 'Family_Eustis', 'Family_Evans', 'Family_Everett', 'Family_Fahlstrom', 'Family_Farrell', 'Family_Farthing', 'Family_Faunthorpe', 'Family_Fillbrook', 'Family_Finoli', 'Family_Fischer', 'Family_Flegenheim', 'Family_Fleming', 'Family_Flynn', 'Family_Foley', 'Family_Foo', 'Family_Ford', 'Family_Foreman', 'Family_Fortune', 'Family_Fox', 'Family_Francatelli', 'Family_Franklin', 'Family_Frauenthal', 'Family_Frolicher', 'Family_Frolicher-Stehli', 'Family_Frost', 'Family_Fry', 'Family_Funk', 'Family_Futrelle', 'Family_Fynney', 'Family_Gale', 'Family_Gallagher', 'Family_Garfirth', 'Family_Garside', 'Family_Gaskell', 'Family_Gavey', 'Family_Gee', 'Family_Geiger', 'Family_Gheorgheff', 'Family_Gibson', 'Family_Giglio', 'Family_Gilbert', 'Family_Giles', 'Family_Gilinski', 'Family_Gill', 'Family_Gillespie', 'Family_Gilnagh', 'Family_Givard', 'Family_Glynn', 'Family_Goldenberg', 'Family_Goldschmidt', 'Family_Goldsmith', 'Family_Goncalves', 'Family_Goodwin', 'Family_Gracie', 'Family_Graham', 'Family_Green', 'Family_Greenberg', 'Family_Greenfield', 'Family_Gronnestad', 'Family_Guest', 'Family_Guggenheim', 'Family_Gustafsson', 'Family_Haas', 'Family_Hagardon', 'Family_Hagland', 'Family_Hakkarainen', 'Family_Hale', 'Family_Hamalainen', 'Family_Hampe', 'Family_Hanna', 'Family_Hansen', 'Family_Harbeck', 'Family_Harder', 'Family_Harknett', 'Family_Harmer', 'Family_Harper', 'Family_Harrington', 'Family_Harris', 'Family_Harrison', 'Family_Hart', 'Family_Hassab', 'Family_Hassan', 'Family_Hawksford', 'Family_Hays', 'Family_Head', 'Family_Healy', 'Family_Hedman', 'Family_Hee', 'Family_Hegarty', 'Family_Heikkinen', 'Family_Heininen', 'Family_Hellstrom', 'Family_Hendekovic', 'Family_Henriksson', 'Family_Henry', 'Family_Herman', 'Family_Hewlett', 'Family_Hickman', 'Family_Hilliard', 'Family_Hiltunen', 'Family_Hipkins', 'Family_Hippach', 'Family_Hirvonen', 'Family_Hocking', 'Family_Hodges', 'Family_Hogeboom', 'Family_Hold', 'Family_Holm', 'Family_Holthen', 'Family_Holverson', 'Family_Homer', 'Family_Honkanen', 'Family_Hood', 'Family_Horgan', 'Family_Hosono', 'Family_Howard', 'Family_Hoyt', 'Family_Humblen', 'Family_Hunt', 'Family_Hyman', 'Family_Ibrahim Shawah', 'Family_Icard', 'Family_Ilett', 'Family_Ilieff', 'Family_Ilmakangas', 'Family_Isham', 'Family_Ismay', 'Family_Ivanoff', 'Family_Jacobsohn', 'Family_Jalsevac', 'Family_Jansson', 'Family_Jardin', 'Family_Jarvis', 'Family_Jefferys', 'Family_Jenkin', 'Family_Jensen', 'Family_Jermyn', 'Family_Jerwan', 'Family_Johannesen-Bratthammer', 'Family_Johanson', 'Family_Johansson', 'Family_Johansson Palmquist', 'Family_Johnson', 'Family_Johnston', 'Family_Jones', 'Family_Jonkoff', 'Family_Jonsson', 'Family_Julian', 'Family_Jussila', 'Family_Kallio', 'Family_Kalvik', 'Family_Kantor', 'Family_Karaic', 'Family_Karlsson', 'Family_Karnes', 'Family_Karun', 'Family_Kassem', 'Family_Katavelas', 'Family_Keane', 'Family_Keefe', 'Family_Keeping', 'Family_Kelly', 'Family_Kennedy', 'Family_Kent', 'Family_Kenyon', 'Family_Khalil', 'Family_Kiernan', 'Family_Kilgannon', 'Family_Kimball', 'Family_Kink', 'Family_Kink-Heilmann', 'Family_Kirkland', 'Family_Klaber', 'Family_Klasen', 'Family_Knight', 'Family_Kraeff', 'Family_Krekorian', 'Family_Kreuchen', 'Family_Kvillner', 'Family_Lahoud', 'Family_Lahtinen', 'Family_Laitinen', 'Family_Laleff', 'Family_Lam', 'Family_Lamb', 'Family_Landergren', 'Family_Lane', 'Family_Lang', 'Family_Laroche', 'Family_Larsson', 'Family_Larsson-Rondberg', 'Family_LeRoy', 'Family_Leader', 'Family_Leeni', 'Family_Lefebre', 'Family_Lehmann', 'Family_Leinonen', 'Family_Leitch', 'Family_Lemberopolous', 'Family_Lemore', 'Family_Lennon', 'Family_Leonard', 'Family_Lester', 'Family_Lesurer', 'Family_Levy', 'Family_Lewy', 'Family_Leyson', 'Family_Lievens', 'Family_Lindahl', 'Family_Lindblom', 'Family_Lindeberg-Lind', 'Family_Lindell', 'Family_Lindqvist', 'Family_Lindstrom', 'Family_Linehan', 'Family_Lines', 'Family_Ling', 'Family_Lingane', 'Family_Lithman', 'Family_Lobb', 'Family_Lockyer', 'Family_Long', 'Family_Longley', 'Family_Loring', 'Family_Louch', 'Family_Lovell', 'Family_Lulic', 'Family_Lundahl', 'Family_Lundin', 'Family_Lundstrom', 'Family_Lurette', 'Family_Lyntakoff', 'Family_MacKay', 'Family_Mack', 'Family_Madigan', 'Family_Madill', 'Family_Madsen', 'Family_Maenpaa', 'Family_Maguire', 'Family_Mahon', 'Family_Maioni', 'Family_Maisner', 'Family_Makinen', 'Family_Malachard', 'Family_Mallet', 'Family_Mamee', 'Family_Mangan', 'Family_Mangiavacchi', 'Family_Mannion', 'Family_Mardirosian', 'Family_Marechal', 'Family_Markoff', 'Family_Markun', 'Family_Marvin', 'Family_Masselmani', 'Family_Matinoff', 'Family_Matthews', 'Family_Maybery', 'Family_Mayne', 'Family_McCaffry', 'Family_McCarthy', 'Family_McCormack', 'Family_McCoy', 'Family_McCrae', 'Family_McCrie', 'Family_McDermott', 'Family_McEvoy', 'Family_McGough', 'Family_McGovern', 'Family_McGowan', 'Family_McKane', 'Family_McMahon', 'Family_McNamee', 'Family_McNeill', 'Family_Meanwell', 'Family_Meek', 'Family_Mellinger', 'Family_Mellors', 'Family_Meo', 'Family_Mernagh', 'Family_Meyer', 'Family_Midtsjo', 'Family_Miles', 'Family_Millet', 'Family_Milling', 'Family_Minahan', 'Family_Mineff', 'Family_Minkoff', 'Family_Mionoff', 'Family_Mitchell', 'Family_Mitkoff', 'Family_Mock', 'Family_Mockler', 'Family_Moen', 'Family_Molson', 'Family_Montvila', 'Family_Moor', 'Family_Moore', 'Family_Moran', 'Family_Moraweck', 'Family_Morley', 'Family_Morrow', 'Family_Moss', 'Family_Moubarek', 'Family_Moussa', 'Family_Moutal', 'Family_Mudd', 'Family_Mullens', 'Family_Mulvihill', 'Family_Murdlin', 'Family_Murphy', 'Family_Myhrman', 'Family_Myles', 'Family_Naidenoff', 'Family_Najib', 'Family_Nakid', 'Family_Nancarrow', 'Family_Nankoff', 'Family_Nasr', 'Family_Nasser', 'Family_Natsch', 'Family_Naughton', 'Family_Navratil', 'Family_Nenkoff', 'Family_Nesson', 'Family_Newell', 'Family_Newsom', 'Family_Nicholls', 'Family_Nicholson', 'Family_Nicola-Yarred', 'Family_Nieminen', 'Family_Niklasson', 'Family_Nilsson', 'Family_Nirva', 'Family_Niskanen', 'Family_Norman', 'Family_Nosworthy', 'Family_Nourney', 'Family_Novel', 'Family_Nye', 'Family_Nysten', 'Family_Nysveen', \"Family_O'Brien\", \"Family_O'Connell\", \"Family_O'Connor\", \"Family_O'Donoghue\", \"Family_O'Driscoll\", \"Family_O'Dwyer\", \"Family_O'Keefe\", \"Family_O'Leary\", \"Family_O'Sullivan\", 'Family_Odahl', 'Family_Ohman', 'Family_Oliva y Ocana', 'Family_Olsen', 'Family_Olsson', 'Family_Olsvigen', 'Family_Omont', 'Family_Oreskovic', 'Family_Osen', 'Family_Osman', 'Family_Ostby', 'Family_Otter', 'Family_Ovies y Rodriguez', 'Family_Oxenham', 'Family_Padro y Manent', 'Family_Pain', 'Family_Pallas y Castello', 'Family_Palsson', 'Family_Panula', 'Family_Parker', 'Family_Parkes', 'Family_Parr', 'Family_Parrish', 'Family_Partner', 'Family_Pasic', 'Family_Patchett', 'Family_Paulner', 'Family_Pavlovic', 'Family_Payne', 'Family_Peacock', 'Family_Pearce', 'Family_Pears', 'Family_Pedersen', 'Family_Peduzzi', 'Family_Pekoniemi', 'Family_Peltomaki', 'Family_Penasco y Castellana', 'Family_Pengelly', 'Family_Perkin', 'Family_Pernot', 'Family_Perreault', 'Family_Persson', 'Family_Peruschitz', 'Family_Peter', 'Family_Peters', 'Family_Petersen', 'Family_Petranec', 'Family_Petroff', 'Family_Petterson', 'Family_Pettersson', 'Family_Peuchen', 'Family_Phillips', 'Family_Pickard', 'Family_Pinsky', 'Family_Plotcharsky', 'Family_Pokrnic', 'Family_Ponesell', 'Family_Portaluppi', 'Family_Porter', 'Family_Potter', 'Family_Pulbaum', 'Family_Quick', 'Family_Radeff', 'Family_Rasmussen', 'Family_Razi', 'Family_Reed', 'Family_Reeves', 'Family_Rekic', 'Family_Renouf', 'Family_Reuchlin', 'Family_Reynaldo', 'Family_Reynolds', 'Family_Rheims', 'Family_Rice', 'Family_Richard', 'Family_Richards', 'Family_Ridsdale', 'Family_Riihivouri', 'Family_Ringhini', 'Family_Rintamaki', 'Family_Riordan', 'Family_Risien', 'Family_Robbins', 'Family_Robert', 'Family_Robins', 'Family_Roebling', 'Family_Rogers', 'Family_Romaine', 'Family_Rommetvedt', 'Family_Rood', 'Family_Rosblom', 'Family_Rosenbaum', 'Family_Rosenshine', 'Family_Ross', 'Family_Roth', 'Family_Rothes', 'Family_Rothschild', 'Family_Rouse', 'Family_Rowe', 'Family_Rugg', 'Family_Rush', 'Family_Ryan', 'Family_Ryerson', 'Family_Saad', 'Family_Saade', 'Family_Saalfeld', 'Family_Sadlier', 'Family_Sadowitz', 'Family_Saether', 'Family_Sage', 'Family_Sagesser', 'Family_Salander', 'Family_Salkjelsvik', 'Family_Salomon', 'Family_Salonen', 'Family_Samaan', 'Family_Sandstrom', 'Family_Sap', 'Family_Saundercock', 'Family_Sawyer', 'Family_Scanlan', 'Family_Schabert', 'Family_Schmidt', 'Family_Sdycoff', 'Family_Sedgwick', 'Family_Serepeca', 'Family_Seward', 'Family_Sharp', 'Family_Shaughnessy', 'Family_Sheerlinck', 'Family_Shellard', 'Family_Shelley', 'Family_Shine', 'Family_Shorney', 'Family_Shutes', 'Family_Silven', 'Family_Silverthorne', 'Family_Silvey', 'Family_Simmons', 'Family_Simonius-Blumer', 'Family_Sincock', 'Family_Sinkkonen', 'Family_Sirayanian', 'Family_Sirota', 'Family_Sivic', 'Family_Sivola', 'Family_Sjoblom', 'Family_Sjostedt', 'Family_Skoog', 'Family_Slabenoff', 'Family_Slayter', 'Family_Slemen', 'Family_Slocovski', 'Family_Sloper', 'Family_Smart', 'Family_Smiljanic', 'Family_Smith', 'Family_Smyth', 'Family_Snyder', 'Family_Sobey', 'Family_Soholt', 'Family_Somerton', 'Family_Spector', 'Family_Spedden', 'Family_Spencer', 'Family_Spinner', 'Family_Stahelin-Maeglin', 'Family_Staneff', 'Family_Stankovic', 'Family_Stanley', 'Family_Stanton', 'Family_Stead', 'Family_Stengel', 'Family_Stephenson', 'Family_Stewart', 'Family_Stokes', 'Family_Stone', 'Family_Storey', 'Family_Stoytcheff', 'Family_Strandberg', 'Family_Stranden', 'Family_Straus', 'Family_Strilic', 'Family_Strom', 'Family_Sunderland', 'Family_Sundman', 'Family_Sutehall', 'Family_Sutton', 'Family_Svensson', 'Family_Swane', 'Family_Sweet', 'Family_Swift', 'Family_Taussig', 'Family_Taylor', 'Family_Tenglin', 'Family_Thayer', 'Family_Theobald', 'Family_Thomas', 'Family_Thomson', 'Family_Thorne', 'Family_Thorneycroft', 'Family_Tikkanen', 'Family_Tobin', 'Family_Todoroff', 'Family_Tomlin', 'Family_Toomey', 'Family_Torber', 'Family_Torfa', 'Family_Tornquist', 'Family_Toufik', 'Family_Touma', 'Family_Troupiansky', 'Family_Trout', 'Family_Troutt', 'Family_Tucker', 'Family_Turcin', 'Family_Turja', 'Family_Turkula', 'Family_Turpin', 'Family_Uruchurtu', 'Family_Van Impe', 'Family_Van der hoef', 'Family_Vande Velde', 'Family_Vande Walle', 'Family_Vanden Steen', 'Family_Vander Cruyssen', 'Family_Vander Planke', 'Family_Vartanian', 'Family_Veal', 'Family_Vendel', 'Family_Vestrom', 'Family_Vovk', 'Family_Waelens', 'Family_Walcroft', 'Family_Walker', 'Family_Ward', 'Family_Ware', 'Family_Warren', 'Family_Watson', 'Family_Watt', 'Family_Webber', 'Family_Weir', 'Family_Weisz', 'Family_Wells', 'Family_Wenzel', 'Family_West', 'Family_Whabee', 'Family_Wheadon', 'Family_Wheeler', 'Family_White', 'Family_Wick', 'Family_Widegren', 'Family_Widener', 'Family_Wiklund', 'Family_Wilhelms', 'Family_Wilkes', 'Family_Willard', 'Family_Willer', 'Family_Willey', 'Family_Williams', 'Family_Williams-Lambert', 'Family_Wilson', 'Family_Windelov', 'Family_Wirz', 'Family_Wiseman', 'Family_Wittevrongel', 'Family_Woolner', 'Family_Wright', 'Family_Yasbeck', 'Family_Young', 'Family_Youseff', 'Family_Yousif', 'Family_Yousseff', 'Family_Yrois', 'Family_Zabour', 'Family_Zakarian', 'Family_Zimmerman', 'Family_de Brito', 'Family_de Messemaeker', 'Family_de Mulder', 'Family_de Pelsmaeker', 'Family_del Carlo', 'Family_van Billiard', 'Family_van Melkebeke']\n"
     ]
    }
   ],
   "source": [
    "full_pipeline = Pipeline([\n",
    "    ('title_tagger', TagAdder(titles, 'Name', 'Title')),\n",
    "    ('title_replacer', TitleReplacer()),\n",
    "    ('deck_tagger', TagAdder(decks, 'Cabin', 'Deck', 'M')),\n",
    "    ('feature_fixer', TitanicFeatureFixer(['Name', 'Ticket', 'SibSp', 'Parch', 'Cabin', 'PassengerId'])),\n",
    "    ('dfbiner', DfBiner({'Fare': 13, 'Age': 10}, quantile=True)),\n",
    "    ('auto_encoder', AutoEncoder(extra_cat_features=['Pclass'])),\n",
    "    ('minmax_scaler', MinMaxScaler()),  # TODO try another encoder\n",
    "])\n",
    "\n",
    "all_df = pd.concat([train_df, test_df])\n",
    "X_all = full_pipeline.fit_transform(all_df)\n",
    "X_train, X_test = X_all[:train_df.shape[0]], X_all[train_df.shape[0]:]\n",
    "print(full_pipeline['auto_encoder'].categories_)\n",
    "# X_all"
   ],
   "metadata": {
    "collapsed": false,
    "pycharm": {
     "name": "#%%\n"
    }
   }
  },
  {
   "cell_type": "code",
   "execution_count": 20,
   "outputs": [
    {
     "data": {
      "text/plain": "{'whiskers': [<matplotlib.lines.Line2D at 0x7f50e0592c10>,\n  <matplotlib.lines.Line2D at 0x7f50e0592fa0>,\n  <matplotlib.lines.Line2D at 0x7f50e05a3460>,\n  <matplotlib.lines.Line2D at 0x7f50e05a37f0>,\n  <matplotlib.lines.Line2D at 0x7f50e05abd90>,\n  <matplotlib.lines.Line2D at 0x7f50e0536160>],\n 'caps': [<matplotlib.lines.Line2D at 0x7f50e059a370>,\n  <matplotlib.lines.Line2D at 0x7f50e059a700>,\n  <matplotlib.lines.Line2D at 0x7f50e05a3b80>,\n  <matplotlib.lines.Line2D at 0x7f50e05a3f10>,\n  <matplotlib.lines.Line2D at 0x7f50e05364f0>,\n  <matplotlib.lines.Line2D at 0x7f50e0536880>],\n 'boxes': [<matplotlib.lines.Line2D at 0x7f50e0592880>,\n  <matplotlib.lines.Line2D at 0x7f50e05a30d0>,\n  <matplotlib.lines.Line2D at 0x7f50e05aba00>],\n 'medians': [<matplotlib.lines.Line2D at 0x7f50e059aa90>,\n  <matplotlib.lines.Line2D at 0x7f50e05ab2e0>,\n  <matplotlib.lines.Line2D at 0x7f50e0536c10>],\n 'fliers': [<matplotlib.lines.Line2D at 0x7f50e059ae20>,\n  <matplotlib.lines.Line2D at 0x7f50e05ab670>,\n  <matplotlib.lines.Line2D at 0x7f50e0536fa0>],\n 'means': []}"
     },
     "execution_count": 20,
     "metadata": {},
     "output_type": "execute_result"
    },
    {
     "data": {
      "text/plain": "<Figure size 432x288 with 1 Axes>",
      "image/png": "[encoded data removed]"
     },
     "metadata": {},
     "output_type": "display_data"
    }
   ],
   "source": [
    "forest_clf = RandomForestClassifier(random_state=228)\n",
    "sgd_clf = SGDClassifier(random_state=228)\n",
    "svm_clf = SVC(gamma='auto', random_state=228)\n",
    "\n",
    "cv = 10\n",
    "models = [forest_clf, sgd_clf, svm_clf]\n",
    "scores = [cross_val_score(model, X_train, y_train.ravel(), cv=cv, n_jobs=-1) for model in models]\n",
    "for i in range(len(scores)):\n",
    "    plt.scatter([i + 1] * cv, scores[i], s=30)\n",
    "plt.boxplot(scores, labels=['forest_clf', 'sgd_clf', 'svm_clf'])"
   ],
   "metadata": {
    "collapsed": false,
    "pycharm": {
     "name": "#%%\n"
    }
   }
  },
  {
   "cell_type": "code",
   "execution_count": 21,
   "outputs": [],
   "source": [
    "forest_clf = RandomForestClassifier(random_state=228, n_jobs=-1, verbose=1)\n",
    "param_grid = [{\n",
    "    'n_estimators': [1000, 1300, 1600],\n",
    "    'max_depth': [3,5,7],\n",
    "    'min_samples_split': [4,5,6],\n",
    "    'min_samples_leaf': [5,6,7]\n",
    "}]\n",
    "grid_search = GridSearchCV(forest_clf, param_grid, cv=3)\n",
    "grid_search.fit(X_train, y_train)"
   ],
   "metadata": {
    "collapsed": false,
    "pycharm": {
     "name": "#%%\n"
    }
   }
  },
  {
   "cell_type": "code",
   "execution_count": 22,
   "outputs": [],
   "source": [
    "cvres = grid_search.cv_results_\n",
    "for accuracy, params in zip(cvres['mean_test_score'], cvres['params']):\n",
    "    print(accuracy, params)\n",
    "print(grid_search.best_estimator_)"
   ],
   "metadata": {
    "collapsed": false,
    "pycharm": {
     "name": "#%%\n"
    }
   }
  },
  {
   "cell_type": "code",
   "execution_count": null,
   "outputs": [],
   "source": [
    "# N = 5\n",
    "# oob = 0\n",
    "# probs = pd.DataFrame(np.zeros((len(X_test), N * 2)), columns=['Fold_{}_Prob_{}'.format(i, j) for i in range(1, N + 1) for j in range(2)])\n",
    "# importances = pd.DataFrame(np.zeros((X_train.shape[1], N)), columns=['Fold_{}'.format(i) for i in range(1, N + 1)], index=df_all.columns)\n",
    "# fprs, tprs, scores = [], [], []\n",
    "#\n",
    "# skf = StratifiedKFold(n_splits=N, random_state=N, shuffle=True)\n",
    "#\n",
    "# for fold, (trn_idx, val_idx) in enumerate(skf.split(X_train, y_train), 1):\n",
    "#     print('Fold {}\\n'.format(fold))\n",
    "#\n",
    "#     # Fitting the model\n",
    "#     leaderboard_model.fit(X_train[trn_idx], y_train[trn_idx])\n",
    "#\n",
    "#     # Computing Train AUC score\n",
    "#     trn_fpr, trn_tpr, trn_thresholds = roc_curve(y_train[trn_idx], leaderboard_model.predict_proba(X_train[trn_idx])[:, 1])\n",
    "#     trn_auc_score = auc(trn_fpr, trn_tpr)\n",
    "#     # Computing Validation AUC score\n",
    "#     val_fpr, val_tpr, val_thresholds = roc_curve(y_train[val_idx], leaderboard_model.predict_proba(X_train[val_idx])[:, 1])\n",
    "#     val_auc_score = auc(val_fpr, val_tpr)\n",
    "#\n",
    "#     scores.append((trn_auc_score, val_auc_score))\n",
    "#     fprs.append(val_fpr)\n",
    "#     tprs.append(val_tpr)\n",
    "#\n",
    "#     # X_test probabilities\n",
    "#     probs.loc[:, 'Fold_{}_Prob_0'.format(fold)] = leaderboard_model.predict_proba(X_test)[:, 0]\n",
    "#     probs.loc[:, 'Fold_{}_Prob_1'.format(fold)] = leaderboard_model.predict_proba(X_test)[:, 1]\n",
    "#     importances.iloc[:, fold - 1] = leaderboard_model.feature_importances_\n",
    "#\n",
    "#     oob += leaderboard_model.oob_score_ / N\n",
    "#     print('Fold {} OOB Score: {}\\n'.format(fold, leaderboard_model.oob_score_))\n",
    "#\n",
    "# print('Average OOB Score: {}'.format(oob))"
   ],
   "metadata": {
    "collapsed": false,
    "pycharm": {
     "name": "#%%\n"
    }
   }
  },
  {
   "cell_type": "code",
   "execution_count": 23,
   "outputs": [
    {
     "name": "stderr",
     "output_type": "stream",
     "text": [
      "[Parallel(n_jobs=-1)]: Using backend ThreadingBackend with 12 concurrent workers.\n",
      "[Parallel(n_jobs=-1)]: Done  26 tasks      | elapsed:    0.1s\n",
      "[Parallel(n_jobs=-1)]: Done 176 tasks      | elapsed:    0.3s\n",
      "[Parallel(n_jobs=-1)]: Done 426 tasks      | elapsed:    0.6s\n",
      "[Parallel(n_jobs=-1)]: Done 776 tasks      | elapsed:    1.0s\n",
      "[Parallel(n_jobs=-1)]: Done 1100 out of 1100 | elapsed:    1.4s finished\n",
      "[Parallel(n_jobs=12)]: Using backend ThreadingBackend with 12 concurrent workers.\n",
      "[Parallel(n_jobs=12)]: Done  26 tasks      | elapsed:    0.0s\n",
      "[Parallel(n_jobs=12)]: Done 176 tasks      | elapsed:    0.0s\n",
      "[Parallel(n_jobs=12)]: Done 426 tasks      | elapsed:    0.1s\n",
      "[Parallel(n_jobs=12)]: Done 776 tasks      | elapsed:    0.2s\n"
     ]
    },
    {
     "name": "stdout",
     "output_type": "stream",
     "text": [
      "             Survived\n",
      "PassengerId          \n",
      "892                 0\n",
      "893                 0\n",
      "894                 0\n",
      "895                 0\n",
      "896                 0\n",
      "...               ...\n",
      "1305                0\n",
      "1306                1\n",
      "1307                0\n",
      "1308                0\n",
      "1309                0\n",
      "\n",
      "[418 rows x 1 columns]\n"
     ]
    },
    {
     "name": "stderr",
     "output_type": "stream",
     "text": [
      "[Parallel(n_jobs=12)]: Done 1100 out of 1100 | elapsed:    0.2s finished\n"
     ]
    }
   ],
   "source": [
    "forest_clf = RandomForestClassifier(criterion='gini', n_estimators=1100, max_depth=5, min_samples_split=4, min_samples_leaf=5, max_features='auto', oob_score=True, random_state=228, n_jobs=-1, verbose=1)\n",
    "forest_clf.fit(X_train, y_train)\n",
    "prediction = forest_clf.predict(X_test)\n",
    "submission = pd.DataFrame({'Survived': prediction}, index=test_df['PassengerId'])\n",
    "print(submission)\n",
    "submission.to_csv('data/submission.csv')"
   ],
   "metadata": {
    "collapsed": false,
    "pycharm": {
     "name": "#%%\n"
    }
   }
  }
 ],
 "metadata": {
  "kernelspec": {
   "name": "python3",
   "language": "python",
   "display_name": "Python 3 (ipykernel)"
  },
  "language_info": {
   "codemirror_mode": {
    "name": "ipython",
    "version": 2
   },
   "file_extension": ".py",
   "mimetype": "text/x-python",
   "name": "python",
   "nbconvert_exporter": "python",
   "pygments_lexer": "ipython2",
   "version": "2.7.6"
  }
 },
 "nbformat": 4,
 "nbformat_minor": 0
}