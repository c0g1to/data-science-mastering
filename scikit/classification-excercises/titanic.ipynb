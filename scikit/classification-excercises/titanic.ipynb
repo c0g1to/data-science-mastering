{
 "cells": [
  {
   "cell_type": "code",
   "execution_count": 2,
   "outputs": [],
   "source": [
    "#@formatter:off\n",
    "import re\n",
    "import numpy as np\n",
    "import pandas\n",
    "import pandas as pd\n",
    "import seaborn as sns\n",
    "import matplotlib.pyplot as plt\n",
    "from sklearn.base import BaseEstimator, TransformerMixin\n",
    "from sklearn.ensemble import RandomForestClassifier\n",
    "from sklearn.impute import SimpleImputer\n",
    "from sklearn.linear_model import SGDClassifier\n",
    "from sklearn.model_selection import cross_val_score\n",
    "from sklearn.pipeline import Pipeline\n",
    "from sklearn.preprocessing import OneHotEncoder, OrdinalEncoder,  MinMaxScaler\n",
    "from sklearn.svm import SVC\n",
    "\n",
    "\n",
    "pandas.options.display.max_rows = 100\n",
    "pandas.options.display.max_columns = 100\n",
    "%matplotlib inline\n",
    "sns.set_theme(style='whitegrid')\n",
    "#@formatter:on"
   ],
   "metadata": {
    "collapsed": false,
    "pycharm": {
     "name": "#%%\n"
    }
   }
  },
  {
   "cell_type": "code",
   "execution_count": 3,
   "outputs": [],
   "source": [
    "def get_tags(column, tags):\n",
    "    column.fillna('', inplace=True)\n",
    "    output = pd.Series(index=column.index, dtype=object)\n",
    "    for tag in tags:\n",
    "        output[column.str.contains(tag)] = tag\n",
    "    return output\n",
    "\n",
    "\n",
    "def extend_feature_names(origin_column, new_features):\n",
    "    if isinstance(new_features, str):\n",
    "        return [origin_column + '_' + str(new_features)]\n",
    "    else:\n",
    "        return [origin_column + '_' + str(feature) for feature in new_features]\n",
    "\n",
    "\n",
    "def extend_intervals_borders(intervals):\n",
    "    leftmost = pd.Interval(-np.inf, intervals[0].right)\n",
    "    rightmost = pd.Interval(intervals[-1].left, np.inf)\n",
    "    return pd.IntervalIndex([leftmost, *intervals[1:-1], rightmost])\n",
    "\n",
    "\n",
    "class TagAdder(BaseEstimator):\n",
    "    def __init__(self, tags, column, tag_column, na_value=None):\n",
    "        self.tags = tags\n",
    "        self.column = column\n",
    "        self.tag_column = tag_column\n",
    "        self.na_value = na_value\n",
    "\n",
    "    def fit(self, df, y=None):\n",
    "        return self\n",
    "\n",
    "    def transform(self, df, y=None):\n",
    "        df = df.copy()\n",
    "        df[self.tag_column] = get_tags(df[self.column], self.tags)\n",
    "        if self.na_value is not None:\n",
    "            df[self.tag_column].fillna(self.na_value, inplace=True)\n",
    "        return df\n",
    "\n",
    "\n",
    "# TODO quantile choice for each column\n",
    "class DfBiner(BaseEstimator, TransformerMixin):\n",
    "    def __init__(self, col_bins, quantile=False):\n",
    "        self.col_bins = col_bins\n",
    "        self.cut_func = pd.qcut if quantile else pd.cut\n",
    "        self.col_bins_fitted = {}\n",
    "\n",
    "    def fit(self, df, y=None):\n",
    "        for col, bins in self.col_bins.items():\n",
    "            self.col_bins_fitted[col] = extend_intervals_borders(\n",
    "                self.cut_func(df[col], bins, duplicates='drop').dtype.categories)\n",
    "        return self\n",
    "\n",
    "    def transform(self, df, y=None):\n",
    "        df = df.copy()\n",
    "        for col, bins in self.col_bins_fitted.items():\n",
    "            df[col] = pd.cut(df[col], bins).astype(str)\n",
    "        return df\n",
    "\n",
    "\n",
    "class TitleReplacer(BaseEstimator):\n",
    "    def fit(self, df, y=None):\n",
    "        return self\n",
    "\n",
    "    def transform(self, df, y=None):\n",
    "        df = df.copy()\n",
    "        df['Title'] = df.apply(self.__replace_title, axis=1)\n",
    "        return df\n",
    "\n",
    "    def __replace_title(self, row):\n",
    "        title = row['Title']\n",
    "        if title in ['Don', 'Major', 'Capt', 'Jonkheer', 'Rev', 'Col']:\n",
    "            return 'Mr'\n",
    "        elif title in ['Countess', 'Mme']:\n",
    "            return 'Mrs'\n",
    "        elif title in ['Mlle', 'Ms']:\n",
    "            return 'Miss'\n",
    "        elif title == 'Dr':\n",
    "            if row['Sex'] == 'Male':\n",
    "                return 'Mr'\n",
    "            else:\n",
    "                return 'Mrs'\n",
    "        else:\n",
    "            return title\n",
    "\n",
    "\n",
    "class TitanicFeatureFixer(BaseEstimator):\n",
    "    def __init__(self, remove_list):\n",
    "        self.remove_list = remove_list\n",
    "\n",
    "    def fit(self, df, y=None):\n",
    "        return self\n",
    "\n",
    "    def transform(self, df, y=None):\n",
    "        df = df.copy()\n",
    "        mode_imputer = SimpleImputer(strategy='most_frequent')\n",
    "        median_imputer = SimpleImputer(strategy='median')\n",
    "        df['Embarked'] = mode_imputer.fit_transform(np.c_[df['Embarked']])\n",
    "        df[['Age', 'Fare']] = median_imputer.fit_transform(df[['Age', 'Fare']])\n",
    "        df['FamilySize'] = df['SibSp'] + df['Parch']\n",
    "        df['AgeClass'] = df['Age'] * df['Pclass']\n",
    "        df['FarePerPerson'] = df['Fare'] / (df['FamilySize'] + 1)\n",
    "        df.drop(self.remove_list, axis=1, inplace=True)\n",
    "        return df\n",
    "\n",
    "\n",
    "class AutoEncoder(BaseEstimator, TransformerMixin):  # TODO extra categorical features\n",
    "    def __init__(self, extra_cat_features=()):\n",
    "        self.extra_cat_features = extra_cat_features\n",
    "        self.__clean_attributes()\n",
    "\n",
    "    def fit(self, df, y=None):\n",
    "        self.__init_attributes(df)\n",
    "        self.categories_.extend(self.__numeric.copy())\n",
    "        for col in self.__binary:\n",
    "            encoder = OrdinalEncoder()\n",
    "            encoder.fit(np.c_[df[col]])\n",
    "            self.categories_.extend(extend_feature_names(col, encoder.categories_[0][0]))\n",
    "            self.__encoders.append(encoder)\n",
    "        for col in self.__categorical:\n",
    "            encoder = OneHotEncoder(sparse=False)\n",
    "            encoder.fit(np.c_[df[col]])\n",
    "            extended_features = extend_feature_names(col, encoder.categories_[0])\n",
    "            self.categories_.extend(extended_features)\n",
    "            self.__encoders.append(encoder)\n",
    "        return self\n",
    "\n",
    "    def transform(self, df, y=None):\n",
    "        features = [df[self.__numeric].to_numpy()]\n",
    "        for col, enc in zip(self.__binary + self.__categorical, self.__encoders):\n",
    "            feature = enc.transform(np.c_[df[col]])\n",
    "            features.append(feature)\n",
    "        return np.concatenate([*features], axis=1)\n",
    "\n",
    "    def __init_attributes(self, df):\n",
    "        self.__clean_attributes()\n",
    "        for col in df.columns:\n",
    "            print(col)\n",
    "            if np.issubdtype(df[col], np.number) and col not in self.extra_cat_features:\n",
    "                self.__numeric.append(col)\n",
    "            else:\n",
    "                if len(df[col].unique()) == 2:\n",
    "                    self.__binary.append(col)\n",
    "                else:\n",
    "                    self.__categorical.append(col)\n",
    "\n",
    "    def __clean_attributes(self):\n",
    "        self.__numeric = []\n",
    "        self.__binary = []\n",
    "        self.__categorical = []\n",
    "        self.__encoders = []\n",
    "        self.categories_ = []"
   ],
   "metadata": {
    "collapsed": false,
    "pycharm": {
     "name": "#%%\n"
    }
   }
  },
  {
   "cell_type": "code",
   "execution_count": 4,
   "outputs": [],
   "source": [
    "def which_contains(self, regexp):\n",
    "    if not isinstance(regexp, str):\n",
    "        regexp = iterable_to_regexp(regexp)\n",
    "    return self.loc[self.str.contains(regexp)]\n",
    "\n",
    "\n",
    "def iterable_to_regexp(entries):\n",
    "    return '|'.join([re.escape(entry) for entry in entries])\n",
    "\n",
    "\n",
    "pd.Series.which_contains = which_contains"
   ],
   "metadata": {
    "collapsed": false,
    "pycharm": {
     "name": "#%%\n"
    }
   }
  },
  {
   "cell_type": "code",
   "execution_count": 5,
   "outputs": [
    {
     "data": {
      "text/plain": "   PassengerId  Pclass                                               Name  \\\n0            1       3                            Braund, Mr. Owen Harris   \n1            2       1  Cumings, Mrs. John Bradley (Florence Briggs Th...   \n2            3       3                             Heikkinen, Miss. Laina   \n3            4       1       Futrelle, Mrs. Jacques Heath (Lily May Peel)   \n4            5       3                           Allen, Mr. William Henry   \n\n      Sex   Age  SibSp  Parch            Ticket     Fare Cabin Embarked  \n0    male  22.0      1      0         A/5 21171   7.2500   NaN        S  \n1  female  38.0      1      0          PC 17599  71.2833   C85        C  \n2  female  26.0      0      0  STON/O2. 3101282   7.9250   NaN        S  \n3  female  35.0      1      0            113803  53.1000  C123        S  \n4    male  35.0      0      0            373450   8.0500   NaN        S  ",
      "text/html": "<div>\n<style scoped>\n    .dataframe tbody tr th:only-of-type {\n        vertical-align: middle;\n    }\n\n    .dataframe tbody tr th {\n        vertical-align: top;\n    }\n\n    .dataframe thead th {\n        text-align: right;\n    }\n</style>\n<table border=\"1\" class=\"dataframe\">\n  <thead>\n    <tr style=\"text-align: right;\">\n      <th></th>\n      <th>PassengerId</th>\n      <th>Pclass</th>\n      <th>Name</th>\n      <th>Sex</th>\n      <th>Age</th>\n      <th>SibSp</th>\n      <th>Parch</th>\n      <th>Ticket</th>\n      <th>Fare</th>\n      <th>Cabin</th>\n      <th>Embarked</th>\n    </tr>\n  </thead>\n  <tbody>\n    <tr>\n      <th>0</th>\n      <td>1</td>\n      <td>3</td>\n      <td>Braund, Mr. Owen Harris</td>\n      <td>male</td>\n      <td>22.0</td>\n      <td>1</td>\n      <td>0</td>\n      <td>A/5 21171</td>\n      <td>7.2500</td>\n      <td>NaN</td>\n      <td>S</td>\n    </tr>\n    <tr>\n      <th>1</th>\n      <td>2</td>\n      <td>1</td>\n      <td>Cumings, Mrs. John Bradley (Florence Briggs Th...</td>\n      <td>female</td>\n      <td>38.0</td>\n      <td>1</td>\n      <td>0</td>\n      <td>PC 17599</td>\n      <td>71.2833</td>\n      <td>C85</td>\n      <td>C</td>\n    </tr>\n    <tr>\n      <th>2</th>\n      <td>3</td>\n      <td>3</td>\n      <td>Heikkinen, Miss. Laina</td>\n      <td>female</td>\n      <td>26.0</td>\n      <td>0</td>\n      <td>0</td>\n      <td>STON/O2. 3101282</td>\n      <td>7.9250</td>\n      <td>NaN</td>\n      <td>S</td>\n    </tr>\n    <tr>\n      <th>3</th>\n      <td>4</td>\n      <td>1</td>\n      <td>Futrelle, Mrs. Jacques Heath (Lily May Peel)</td>\n      <td>female</td>\n      <td>35.0</td>\n      <td>1</td>\n      <td>0</td>\n      <td>113803</td>\n      <td>53.1000</td>\n      <td>C123</td>\n      <td>S</td>\n    </tr>\n    <tr>\n      <th>4</th>\n      <td>5</td>\n      <td>3</td>\n      <td>Allen, Mr. William Henry</td>\n      <td>male</td>\n      <td>35.0</td>\n      <td>0</td>\n      <td>0</td>\n      <td>373450</td>\n      <td>8.0500</td>\n      <td>NaN</td>\n      <td>S</td>\n    </tr>\n  </tbody>\n</table>\n</div>"
     },
     "execution_count": 5,
     "metadata": {},
     "output_type": "execute_result"
    }
   ],
   "source": [
    "train_df = pd.read_csv('data/titanic_train.csv')\n",
    "test_df = pd.read_csv('data/titanic_test.csv')\n",
    "y_train = train_df.Survived.to_numpy()\n",
    "train_df.drop(columns='Survived', inplace=True)\n",
    "train_df.head()"
   ],
   "metadata": {
    "collapsed": false,
    "pycharm": {
     "name": "#%%\n"
    }
   }
  },
  {
   "cell_type": "code",
   "execution_count": 6,
   "outputs": [
    {
     "name": "stdout",
     "output_type": "stream",
     "text": [
      "['Mr', 'Mrs', 'Miss', 'Master', 'Don', 'Rev', 'Dr', 'Mme', 'Ms', 'Major', 'Mlle', 'Col', 'Capt', 'Countess', 'Jonkheer']\n",
      "['C' 'E' 'G' 'D' 'A' 'B' 'F' 'T']\n"
     ]
    }
   ],
   "source": [
    "list_of_list_of_names = train_df.Name.str.split().values\n",
    "words = [word for lst in list_of_list_of_names for word in lst]\n",
    "titles = pd.Series(words).which_contains('\\\\.').str.replace('\\\\.', '').unique().tolist()\n",
    "for i in ['L', 'Lady', 'Sir']:\n",
    "    titles.remove(i)\n",
    "print(titles)\n",
    "\n",
    "decks = train_df.Cabin.str[0].unique()[1:]\n",
    "print(decks)"
   ],
   "metadata": {
    "collapsed": false,
    "pycharm": {
     "name": "#%%\n"
    }
   }
  },
  {
   "cell_type": "code",
   "execution_count": 7,
   "outputs": [
    {
     "name": "stdout",
     "output_type": "stream",
     "text": [
      "Pclass\n",
      "Sex\n",
      "Age\n",
      "SibSp\n",
      "Parch\n",
      "Fare\n",
      "Embarked\n",
      "Title\n",
      "Deck\n",
      "FamilySize\n",
      "AgeClass\n",
      "FarePerPerson\n",
      "['SibSp', 'Parch', 'Fare', 'FamilySize', 'AgeClass', 'FarePerPerson', 'Sex_female', 'Pclass_1', 'Pclass_2', 'Pclass_3', 'Age_(-inf, 17.0]', 'Age_(17.0, 22.0]', 'Age_(22.0, 27.0]', 'Age_(27.0, 28.0]', 'Age_(28.0, 29.0]', 'Age_(29.0, 35.0]', 'Age_(35.0, 45.0]', 'Age_(45.0, inf]', 'Embarked_C', 'Embarked_Q', 'Embarked_S', 'Title_Master', 'Title_Miss', 'Title_Mr', 'Title_Mrs', 'Deck_A', 'Deck_B', 'Deck_C', 'Deck_D', 'Deck_E', 'Deck_F', 'Deck_G', 'Deck_T', 'Deck_U']\n"
     ]
    }
   ],
   "source": [
    "full_pipeline = Pipeline([\n",
    "    ('title_tagger', TagAdder(titles, 'Name', 'Title')),\n",
    "    ('title_replacer', TitleReplacer()),\n",
    "    ('deck_tagger', TagAdder(decks, 'Cabin', 'Deck', 'U')),\n",
    "    ('feature_fixer', TitanicFeatureFixer(['Name', 'Ticket', 'Cabin', 'PassengerId'])),\n",
    "    ('df_biner', DfBiner({'Age': 8}, quantile=True)),\n",
    "    ('auto_encoder', AutoEncoder(extra_cat_features=['Pclass'])),\n",
    "    ('minmax_scaler', MinMaxScaler())\n",
    "])\n",
    "\n",
    "X_train = full_pipeline.fit_transform(train_df)\n",
    "X_test = full_pipeline.transform(test_df)\n",
    "print(full_pipeline['auto_encoder'].categories_)"
   ],
   "metadata": {
    "collapsed": false,
    "pycharm": {
     "name": "#%%\n"
    }
   }
  },
  {
   "cell_type": "code",
   "execution_count": 8,
   "outputs": [
    {
     "data": {
      "text/plain": "{'whiskers': [<matplotlib.lines.Line2D at 0x7fe7ac9ffe20>,\n  <matplotlib.lines.Line2D at 0x7fe7ac9ab370>,\n  <matplotlib.lines.Line2D at 0x7fe7ac9b5910>,\n  <matplotlib.lines.Line2D at 0x7fe7ac9b5ca0>,\n  <matplotlib.lines.Line2D at 0x7fe7ac9c9280>,\n  <matplotlib.lines.Line2D at 0x7fe7ac9c9610>],\n 'caps': [<matplotlib.lines.Line2D at 0x7fe7ac9ab700>,\n  <matplotlib.lines.Line2D at 0x7fe7ac9aba90>,\n  <matplotlib.lines.Line2D at 0x7fe7ac9c0070>,\n  <matplotlib.lines.Line2D at 0x7fe7ac9c0400>,\n  <matplotlib.lines.Line2D at 0x7fe7ac9c99a0>,\n  <matplotlib.lines.Line2D at 0x7fe7ac9c9d30>],\n 'boxes': [<matplotlib.lines.Line2D at 0x7fe7ac991dc0>,\n  <matplotlib.lines.Line2D at 0x7fe7ac9b5580>,\n  <matplotlib.lines.Line2D at 0x7fe7ac9c0eb0>],\n 'medians': [<matplotlib.lines.Line2D at 0x7fe7ac9abe20>,\n  <matplotlib.lines.Line2D at 0x7fe7ac9c0790>,\n  <matplotlib.lines.Line2D at 0x7fe7ac955100>],\n 'fliers': [<matplotlib.lines.Line2D at 0x7fe7ac9b51f0>,\n  <matplotlib.lines.Line2D at 0x7fe7ac9c0b20>,\n  <matplotlib.lines.Line2D at 0x7fe7ac955490>],\n 'means': []}"
     },
     "execution_count": 8,
     "metadata": {},
     "output_type": "execute_result"
    },
    {
     "data": {
      "text/plain": "<Figure size 432x288 with 1 Axes>",
      "image/png": "[encoded data removed]"
     },
     "metadata": {},
     "output_type": "display_data"
    }
   ],
   "source": [
    "forest_clf = RandomForestClassifier(random_state=228)\n",
    "sgd_clf = SGDClassifier(random_state=228)  # TODO tune hyperparams\n",
    "svm_clf = SVC(gamma='auto', random_state=228)\n",
    "\n",
    "cv = 10\n",
    "models = [forest_clf, sgd_clf, svm_clf]\n",
    "scores = [cross_val_score(model, X_train, y_train.ravel(), cv=cv, n_jobs=-1) for model in models]\n",
    "for i in range(len(scores)):\n",
    "    plt.scatter([i + 1] * cv, scores[i], s=30)\n",
    "plt.boxplot(scores, labels=['forest_clf', 'sgd_clf', 'svm_clf'])\n",
    "# cross_val_score(forest_clf, X_train, y_train.ravel(), cv=5, n_jobs=-1, scoring='accuracy').mean()"
   ],
   "metadata": {
    "collapsed": false,
    "pycharm": {
     "name": "#%%\n"
    }
   }
  },
  {
   "cell_type": "code",
   "execution_count": 9,
   "outputs": [
    {
     "name": "stdout",
     "output_type": "stream",
     "text": [
      "             Survived\n",
      "PassengerId          \n",
      "892                 0\n",
      "893                 0\n",
      "894                 0\n",
      "895                 1\n",
      "896                 1\n",
      "...               ...\n",
      "1305                0\n",
      "1306                1\n",
      "1307                0\n",
      "1308                0\n",
      "1309                1\n",
      "\n",
      "[418 rows x 1 columns]\n"
     ]
    }
   ],
   "source": [
    "forest_clf.fit(X_train, y_train.ravel())\n",
    "prediction = forest_clf.predict(X_test)\n",
    "submission = pd.DataFrame({'Survived': prediction}, index=test_df['PassengerId'])\n",
    "print(submission)\n",
    "submission.to_csv('data/submission.csv')"
   ],
   "metadata": {
    "collapsed": false,
    "pycharm": {
     "name": "#%%\n"
    }
   }
  },
  {
   "cell_type": "code",
   "execution_count": 10,
   "outputs": [
    {
     "data": {
      "text/plain": "0             NaN\n1             C85\n2             NaN\n3            C123\n4             NaN\n5             NaN\n6             E46\n7             NaN\n8             NaN\n9             NaN\n10             G6\n11           C103\n12            NaN\n13            NaN\n14            NaN\n15            NaN\n16            NaN\n17            NaN\n18            NaN\n19            NaN\n20            NaN\n21            D56\n22            NaN\n23             A6\n24            NaN\n25            NaN\n26            NaN\n27    C23 C25 C27\n28            NaN\n29            NaN\n30            NaN\n31            B78\n32            NaN\n33            NaN\n34            NaN\n35            NaN\n36            NaN\n37            NaN\n38            NaN\n39            NaN\n40            NaN\n41            NaN\n42            NaN\n43            NaN\n44            NaN\n45            NaN\n46            NaN\n47            NaN\n48            NaN\n49            NaN\nName: Cabin, dtype: object"
     },
     "execution_count": 10,
     "metadata": {},
     "output_type": "execute_result"
    }
   ],
   "source": [
    "train_df.Cabin.head(50)"
   ],
   "metadata": {
    "collapsed": false,
    "pycharm": {
     "name": "#%%\n"
    }
   }
  },
  {
   "cell_type": "code",
   "execution_count": 10,
   "outputs": [],
   "source": [],
   "metadata": {
    "collapsed": false,
    "pycharm": {
     "name": "#%%\n"
    }
   }
  }
 ],
 "metadata": {
  "kernelspec": {
   "name": "pycharm-239e5136",
   "language": "python",
   "display_name": "PyCharm (Researches)"
  },
  "language_info": {
   "codemirror_mode": {
    "name": "ipython",
    "version": 2
   },
   "file_extension": ".py",
   "mimetype": "text/x-python",
   "name": "python",
   "nbconvert_exporter": "python",
   "pygments_lexer": "ipython2",
   "version": "2.7.6"
  }
 },
 "nbformat": 4,
 "nbformat_minor": 0
}