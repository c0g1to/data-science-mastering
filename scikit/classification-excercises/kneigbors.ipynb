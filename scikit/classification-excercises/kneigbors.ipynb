{
 "cells": [
  {
   "cell_type": "code",
   "execution_count": 18,
   "metadata": {
    "collapsed": true
   },
   "outputs": [],
   "source": [
    "import numpy as np\n",
    "import matplotlib.pyplot as plt\n",
    "import matplotlib as mpl\n",
    "import pandas as pd\n",
    "from sklearn.datasets import fetch_openml\n",
    "from sklearn.model_selection import GridSearchCV\n",
    "from sklearn.neighbors import KNeighborsClassifier\n",
    "from sklearn.base import BaseEstimator, TransformerMixin\n",
    "from sklearn.pipeline import FeatureUnion\n"
   ]
  },
  {
   "cell_type": "code",
   "execution_count": 2,
   "outputs": [
    {
     "name": "stdout",
     "output_type": "stream",
     "text": [
      "fetched!\n"
     ]
    }
   ],
   "source": [
    "mnist = fetch_openml('mnist_784')\n",
    "X, y = np.array(mnist['data'], dtype=float), np.array(mnist['target'], dtype=float)\n",
    "print('fetched!')"
   ],
   "metadata": {
    "collapsed": false,
    "pycharm": {
     "name": "#%%\n"
    }
   }
  },
  {
   "cell_type": "markdown",
   "source": [
    "## Task 1"
   ],
   "metadata": {
    "collapsed": false,
    "pycharm": {
     "name": "#%% md\n"
    }
   },
   "execution_count": 27
  },
  {
   "cell_type": "code",
   "execution_count": 3,
   "outputs": [],
   "source": [
    "train_size = 60000\n",
    "shuffle_index = np.random.permutation(train_size)\n",
    "X_train, X_test, y_train, y_test = X[:train_size], X[train_size:], y[:train_size], y[train_size:]\n",
    "X_train, y_train = X_train[shuffle_index], y_train[shuffle_index]"
   ],
   "metadata": {
    "collapsed": false,
    "pycharm": {
     "name": "#%%\n"
    }
   }
  },
  {
   "cell_type": "code",
   "execution_count": 26,
   "outputs": [
    {
     "name": "stdout",
     "output_type": "stream",
     "text": [
      "competed!\n"
     ]
    }
   ],
   "source": [
    "param_grid = [{'weights': ['uniform', 'distance'], 'n_neighbors': [2, 3, 4, 5]}]\n",
    "kn_cls = KNeighborsClassifier()\n",
    "grid_search = GridSearchCV(kn_cls, param_grid, cv=3, scoring='neg_mean_squared_error')\n",
    "grid_search.fit(X_train, y_train)\n",
    "print('competed!')"
   ],
   "metadata": {
    "collapsed": false,
    "pycharm": {
     "name": "#%%\n"
    }
   }
  },
  {
   "cell_type": "code",
   "execution_count": 28,
   "outputs": [
    {
     "name": "stdout",
     "output_type": "stream",
     "text": [
      "0.8170373308484747 {'n_neighbors': 2, 'weights': 'uniform'}\n",
      "0.7333371212023385 {'n_neighbors': 2, 'weights': 'distance'}\n",
      "0.7640462464188059 {'n_neighbors': 3, 'weights': 'uniform'}\n",
      "0.7303880247284088 {'n_neighbors': 3, 'weights': 'distance'}\n",
      "0.7676587783644502 {'n_neighbors': 4, 'weights': 'uniform'}\n",
      "0.718656153293539 {'n_neighbors': 4, 'weights': 'distance'}\n",
      "0.7641334961902927 {'n_neighbors': 5, 'weights': 'uniform'}\n",
      "0.738342738841522 {'n_neighbors': 5, 'weights': 'distance'}\n",
      "KNeighborsClassifier(n_neighbors=4, weights='distance')\n"
     ]
    }
   ],
   "source": [
    "cvres = grid_search.cv_results_\n",
    "for mean_score, params in zip(cvres['mean_test_score'], cvres['params']):\n",
    "    print(np.sqrt(-mean_score), params)\n",
    "print(grid_search.best_estimator_)"
   ],
   "metadata": {
    "collapsed": false,
    "pycharm": {
     "name": "#%%\n"
    }
   }
  },
  {
   "cell_type": "code",
   "execution_count": 26,
   "outputs": [
    {
     "name": "stdout",
     "output_type": "stream",
     "text": [
      "0.9714\n"
     ]
    }
   ],
   "source": [
    "def coincidence(predictions, targets):\n",
    "    n_correct = np.sum(predictions == targets)\n",
    "    return n_correct / len(targets)\n",
    "\n",
    "\n",
    "try:\n",
    "    best_cls = grid_search.best_estimator_\n",
    "except:\n",
    "    best_cls = KNeighborsClassifier(n_neighbors=4, weights='distance')\n",
    "    best_cls.fit(X_train, y_train)\n",
    "y_predict = best_cls.predict(X_test)\n",
    "\n",
    "print(coincidence(y_predict, y_test))"
   ],
   "metadata": {
    "collapsed": false,
    "pycharm": {
     "name": "#%%\n"
    }
   }
  },
  {
   "cell_type": "code",
   "execution_count": null,
   "outputs": [],
   "source": [
    "## Task 2"
   ],
   "metadata": {
    "collapsed": false,
    "pycharm": {
     "name": "#%%\n"
    }
   }
  },
  {
   "cell_type": "code",
   "execution_count": 22,
   "outputs": [],
   "source": [
    "def plot_digit(flat_digit, ax=None):\n",
    "    if ax is None:\n",
    "        fig, ax = plt.subplots()\n",
    "    ax.imshow(flat_digit.reshape(28, 28), cmap=mpl.cm.binary, interpolation='nearest')\n",
    "    ax.axis('off')\n",
    "\n",
    "class ImageShifter(BaseEstimator, TransformerMixin):\n",
    "    def __init__(self, direction):\n",
    "        self.direction = direction\n",
    "\n",
    "    def fit(self, X, y=None):\n",
    "        return self\n",
    "\n",
    "    def transform(self, X, y=None):\n",
    "        return np.array([\n",
    "            self.__move_image(digit.reshape(28, 28)).ravel()\n",
    "            for digit in X])\n",
    "\n",
    "    def __move_image(self, image):\n",
    "        if self.direction == 'up':\n",
    "            zeros = np.zeros((1, image.shape[0]))\n",
    "            return np.vstack([image[1:, :], zeros])\n",
    "        elif self.direction == 'down':\n",
    "            zeros = np.zeros((1, image.shape[0]))\n",
    "            return np.vstack([zeros, image[:-1, :]])\n",
    "        elif self.direction == 'left':\n",
    "            zeros = np.zeros((image.shape[0], 1))\n",
    "            return np.hstack([image[:, 1:], zeros])\n",
    "        elif self.direction == 'right':\n",
    "            zeros = np.zeros((image.shape[0], 1))\n",
    "            return np.hstack([zeros, image[:, :-1]])\n",
    "\n",
    "directions = ['up', 'down', 'left', 'right']\n",
    "image_shifters = [ImageShifter(direction) for direction in directions]\n",
    "# all_directions_extender = FeatureUnion(transformer_list=[\n",
    "#     (direction + '_shift', ImageShifter(direction)) for direction in directions\n",
    "# ])"
   ],
   "metadata": {
    "collapsed": false,
    "pycharm": {
     "name": "#%%\n"
    }
   }
  },
  {
   "cell_type": "code",
   "execution_count": 23,
   "outputs": [
    {
     "data": {
      "text/plain": "<Figure size 432x288 with 1 Axes>",
      "image/png": "[encoded data removed]"
     },
     "metadata": {
      "needs_background": "light"
     },
     "output_type": "display_data"
    },
    {
     "data": {
      "text/plain": "<Figure size 432x288 with 1 Axes>",
      "image/png": "[encoded data removed]"
     },
     "metadata": {
      "needs_background": "light"
     },
     "output_type": "display_data"
    },
    {
     "data": {
      "text/plain": "<Figure size 432x288 with 1 Axes>",
      "image/png": "[encoded data removed]"
     },
     "metadata": {
      "needs_background": "light"
     },
     "output_type": "display_data"
    },
    {
     "data": {
      "text/plain": "<Figure size 432x288 with 1 Axes>",
      "image/png": "[encoded data removed]"
     },
     "metadata": {
      "needs_background": "light"
     },
     "output_type": "display_data"
    },
    {
     "data": {
      "text/plain": "<Figure size 432x288 with 1 Axes>",
      "image/png": "[encoded data removed]"
     },
     "metadata": {
      "needs_background": "light"
     },
     "output_type": "display_data"
    }
   ],
   "source": [
    "random_index = 1489\n",
    "common_digit = X_train[random_index]\n",
    "plot_digit(common_digit)\n",
    "\n",
    "for shifter in image_shifters:\n",
    "    plot_digit(shifter.transform([common_digit]))"
   ],
   "metadata": {
    "collapsed": false,
    "pycharm": {
     "name": "#%%\n"
    }
   }
  },
  {
   "cell_type": "code",
   "execution_count": 24,
   "outputs": [
    {
     "data": {
      "text/plain": "<Figure size 432x288 with 1 Axes>",
      "image/png": "[encoded data removed]"
     },
     "metadata": {
      "needs_background": "light"
     },
     "output_type": "display_data"
    }
   ],
   "source": [
    "X_train_expanded = np.concatenate([X_train, *[shifter.transform(X_train) for shifter in image_shifters]])\n",
    "y_train_expanded = np.tile(y_train, 5)\n",
    "plot_digit(X_train_expanded[2 * len(X_train) + random_index].reshape(28, 28))"
   ],
   "metadata": {
    "collapsed": false,
    "pycharm": {
     "name": "#%%\n"
    }
   }
  },
  {
   "cell_type": "code",
   "execution_count": 27,
   "outputs": [
    {
     "name": "stdout",
     "output_type": "stream",
     "text": [
      "0.9763\n"
     ]
    }
   ],
   "source": [
    "best_cls.fit(X_train_expanded, y_train_expanded)\n",
    "y_predict = best_cls.predict(X_test)\n",
    "print(coincidence(y_predict, y_test))"
   ],
   "metadata": {
    "collapsed": false,
    "pycharm": {
     "name": "#%%\n"
    }
   }
  },
  {
   "cell_type": "code",
   "execution_count": 27,
   "outputs": [],
   "source": [],
   "metadata": {
    "collapsed": false,
    "pycharm": {
     "name": "#%%\n"
    }
   }
  },
  {
   "cell_type": "code",
   "execution_count": 27,
   "outputs": [],
   "source": [
    "\n"
   ],
   "metadata": {
    "collapsed": false,
    "pycharm": {
     "name": "#%%\n"
    }
   }
  }
 ],
 "metadata": {
  "kernelspec": {
   "name": "pycharm-239e5136",
   "language": "python",
   "display_name": "PyCharm (Researches)"
  },
  "language_info": {
   "codemirror_mode": {
    "name": "ipython",
    "version": 2
   },
   "file_extension": ".py",
   "mimetype": "text/x-python",
   "name": "python",
   "nbconvert_exporter": "python",
   "pygments_lexer": "ipython2",
   "version": "2.7.6"
  }
 },
 "nbformat": 4,
 "nbformat_minor": 0
}