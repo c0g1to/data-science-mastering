{
 "cells": [
  {
   "cell_type": "markdown",
   "metadata": {},
   "source": [
    "# Ex1 - Filtering and Sorting Data"
   ]
  },
  {
   "cell_type": "markdown",
   "metadata": {},
   "source": [
    "This time we are going to pull data directly from the internet.\n",
    "Special thanks to: https://github.com/justmarkham for sharing the dataset and materials.\n",
    "\n",
    "### Step 1. Import the necessary libraries"
   ]
  },
  {
   "cell_type": "code",
   "execution_count": 43,
   "metadata": {
    "collapsed": false
   },
   "outputs": [],
   "source": [
    "import pandas as pd\n",
    "import numpy as np"
   ]
  },
  {
   "cell_type": "markdown",
   "metadata": {},
   "source": [
    "### Step 2. Import the dataset from this [address](https://raw.githubusercontent.com/justmarkham/DAT8/master/data/chipotle.tsv). "
   ]
  },
  {
   "cell_type": "markdown",
   "metadata": {},
   "source": [
    "### Step 3. Assign it to a variable called chipo."
   ]
  },
  {
   "cell_type": "code",
   "execution_count": 44,
   "metadata": {
    "collapsed": false
   },
   "outputs": [
    {
     "data": {
      "text/plain": "   order_id  quantity                              item_name  \\\n0         1         1           Chips and Fresh Tomato Salsa   \n1         1         1                                   Izze   \n2         1         1                       Nantucket Nectar   \n3         1         1  Chips and Tomatillo-Green Chili Salsa   \n4         2         2                           Chicken Bowl   \n\n                                  choice_description  item_price  \n0                                                NaN        2.39  \n1                                       [Clementine]        3.39  \n2                                            [Apple]        3.39  \n3                                                NaN        2.39  \n4  [Tomatillo-Red Chili Salsa (Hot), [Black Beans...       16.98  ",
      "text/html": "<div>\n<style scoped>\n    .dataframe tbody tr th:only-of-type {\n        vertical-align: middle;\n    }\n\n    .dataframe tbody tr th {\n        vertical-align: top;\n    }\n\n    .dataframe thead th {\n        text-align: right;\n    }\n</style>\n<table border=\"1\" class=\"dataframe\">\n  <thead>\n    <tr style=\"text-align: right;\">\n      <th></th>\n      <th>order_id</th>\n      <th>quantity</th>\n      <th>item_name</th>\n      <th>choice_description</th>\n      <th>item_price</th>\n    </tr>\n  </thead>\n  <tbody>\n    <tr>\n      <th>0</th>\n      <td>1</td>\n      <td>1</td>\n      <td>Chips and Fresh Tomato Salsa</td>\n      <td>NaN</td>\n      <td>2.39</td>\n    </tr>\n    <tr>\n      <th>1</th>\n      <td>1</td>\n      <td>1</td>\n      <td>Izze</td>\n      <td>[Clementine]</td>\n      <td>3.39</td>\n    </tr>\n    <tr>\n      <th>2</th>\n      <td>1</td>\n      <td>1</td>\n      <td>Nantucket Nectar</td>\n      <td>[Apple]</td>\n      <td>3.39</td>\n    </tr>\n    <tr>\n      <th>3</th>\n      <td>1</td>\n      <td>1</td>\n      <td>Chips and Tomatillo-Green Chili Salsa</td>\n      <td>NaN</td>\n      <td>2.39</td>\n    </tr>\n    <tr>\n      <th>4</th>\n      <td>2</td>\n      <td>2</td>\n      <td>Chicken Bowl</td>\n      <td>[Tomatillo-Red Chili Salsa (Hot), [Black Beans...</td>\n      <td>16.98</td>\n    </tr>\n  </tbody>\n</table>\n</div>"
     },
     "execution_count": 44,
     "metadata": {},
     "output_type": "execute_result"
    }
   ],
   "source": [
    "url = \"https://raw.githubusercontent.com/justmarkham/DAT8/master/data/chipotle.tsv\"\n",
    "chipo = pd.read_table(url)\n",
    "\n",
    "chipo.item_price = chipo.item_price.str[1:].astype(float)\n",
    "chipo.head()"
   ]
  },
  {
   "cell_type": "markdown",
   "metadata": {},
   "source": [
    "### Step 4. How many products cost more than $10.00?"
   ]
  },
  {
   "cell_type": "code",
   "execution_count": 45,
   "metadata": {
    "collapsed": false
   },
   "outputs": [
    {
     "data": {
      "text/plain": "5650"
     },
     "execution_count": 45,
     "metadata": {},
     "output_type": "execute_result"
    }
   ],
   "source": [
    "chipo[chipo.item_price > 10].size"
   ]
  },
  {
   "cell_type": "markdown",
   "metadata": {},
   "source": [
    "### Step 5. What is the price of each item? \n",
    "###### print a data frame with only two columns item_name and item_price"
   ]
  },
  {
   "cell_type": "code",
   "execution_count": 46,
   "metadata": {
    "collapsed": false
   },
   "outputs": [],
   "source": [
    "# df1 = chipo[['item_name', 'item_price']].groupby('item_name').first()\n",
    "df2 = chipo[['item_name', 'item_price']].groupby('item_name').mean()\n",
    "# pd.concat([df1, df2], keys=['df1', 'df2'], axis=1)"
   ]
  },
  {
   "cell_type": "markdown",
   "metadata": {},
   "source": [
    "### Step 6. Sort by the name of the item"
   ]
  },
  {
   "cell_type": "code",
   "execution_count": 47,
   "metadata": {
    "collapsed": false
   },
   "outputs": [
    {
     "data": {
      "text/plain": "      order_id  quantity          item_name  \\\n3389      1360         2  6 Pack Soft Drink   \n341        148         1  6 Pack Soft Drink   \n1849       749         1  6 Pack Soft Drink   \n1860       754         1  6 Pack Soft Drink   \n2713      1076         1  6 Pack Soft Drink   \n...        ...       ...                ...   \n2384       948         1  Veggie Soft Tacos   \n781        322         1  Veggie Soft Tacos   \n2851      1132         1  Veggie Soft Tacos   \n1699       688         1  Veggie Soft Tacos   \n1395       567         1  Veggie Soft Tacos   \n\n                                     choice_description  item_price  \n3389                                        [Diet Coke]       12.98  \n341                                         [Diet Coke]        6.49  \n1849                                             [Coke]        6.49  \n1860                                        [Diet Coke]        6.49  \n2713                                             [Coke]        6.49  \n...                                                 ...         ...  \n2384  [Roasted Chili Corn Salsa, [Fajita Vegetables,...        8.75  \n781   [Fresh Tomato Salsa, [Black Beans, Cheese, Sou...        8.75  \n2851  [Roasted Chili Corn Salsa (Medium), [Black Bea...        8.49  \n1699  [Fresh Tomato Salsa, [Fajita Vegetables, Rice,...       11.25  \n1395  [Fresh Tomato Salsa (Mild), [Pinto Beans, Rice...        8.49  \n\n[4622 rows x 5 columns]",
      "text/html": "<div>\n<style scoped>\n    .dataframe tbody tr th:only-of-type {\n        vertical-align: middle;\n    }\n\n    .dataframe tbody tr th {\n        vertical-align: top;\n    }\n\n    .dataframe thead th {\n        text-align: right;\n    }\n</style>\n<table border=\"1\" class=\"dataframe\">\n  <thead>\n    <tr style=\"text-align: right;\">\n      <th></th>\n      <th>order_id</th>\n      <th>quantity</th>\n      <th>item_name</th>\n      <th>choice_description</th>\n      <th>item_price</th>\n    </tr>\n  </thead>\n  <tbody>\n    <tr>\n      <th>3389</th>\n      <td>1360</td>\n      <td>2</td>\n      <td>6 Pack Soft Drink</td>\n      <td>[Diet Coke]</td>\n      <td>12.98</td>\n    </tr>\n    <tr>\n      <th>341</th>\n      <td>148</td>\n      <td>1</td>\n      <td>6 Pack Soft Drink</td>\n      <td>[Diet Coke]</td>\n      <td>6.49</td>\n    </tr>\n    <tr>\n      <th>1849</th>\n      <td>749</td>\n      <td>1</td>\n      <td>6 Pack Soft Drink</td>\n      <td>[Coke]</td>\n      <td>6.49</td>\n    </tr>\n    <tr>\n      <th>1860</th>\n      <td>754</td>\n      <td>1</td>\n      <td>6 Pack Soft Drink</td>\n      <td>[Diet Coke]</td>\n      <td>6.49</td>\n    </tr>\n    <tr>\n      <th>2713</th>\n      <td>1076</td>\n      <td>1</td>\n      <td>6 Pack Soft Drink</td>\n      <td>[Coke]</td>\n      <td>6.49</td>\n    </tr>\n    <tr>\n      <th>...</th>\n      <td>...</td>\n      <td>...</td>\n      <td>...</td>\n      <td>...</td>\n      <td>...</td>\n    </tr>\n    <tr>\n      <th>2384</th>\n      <td>948</td>\n      <td>1</td>\n      <td>Veggie Soft Tacos</td>\n      <td>[Roasted Chili Corn Salsa, [Fajita Vegetables,...</td>\n      <td>8.75</td>\n    </tr>\n    <tr>\n      <th>781</th>\n      <td>322</td>\n      <td>1</td>\n      <td>Veggie Soft Tacos</td>\n      <td>[Fresh Tomato Salsa, [Black Beans, Cheese, Sou...</td>\n      <td>8.75</td>\n    </tr>\n    <tr>\n      <th>2851</th>\n      <td>1132</td>\n      <td>1</td>\n      <td>Veggie Soft Tacos</td>\n      <td>[Roasted Chili Corn Salsa (Medium), [Black Bea...</td>\n      <td>8.49</td>\n    </tr>\n    <tr>\n      <th>1699</th>\n      <td>688</td>\n      <td>1</td>\n      <td>Veggie Soft Tacos</td>\n      <td>[Fresh Tomato Salsa, [Fajita Vegetables, Rice,...</td>\n      <td>11.25</td>\n    </tr>\n    <tr>\n      <th>1395</th>\n      <td>567</td>\n      <td>1</td>\n      <td>Veggie Soft Tacos</td>\n      <td>[Fresh Tomato Salsa (Mild), [Pinto Beans, Rice...</td>\n      <td>8.49</td>\n    </tr>\n  </tbody>\n</table>\n<p>4622 rows × 5 columns</p>\n</div>"
     },
     "execution_count": 47,
     "metadata": {},
     "output_type": "execute_result"
    }
   ],
   "source": [
    "chipo.sort_values(by='item_name')"
   ]
  },
  {
   "cell_type": "markdown",
   "metadata": {},
   "source": [
    "### Step 7. What was the quantity of the most expensive item ordered?"
   ]
  },
  {
   "cell_type": "code",
   "execution_count": 48,
   "metadata": {
    "collapsed": false
   },
   "outputs": [
    {
     "data": {
      "text/plain": "15"
     },
     "execution_count": 48,
     "metadata": {},
     "output_type": "execute_result"
    }
   ],
   "source": [
    "chipo.sort_values('item_price', ascending=False).iloc[0]['quantity']"
   ]
  },
  {
   "cell_type": "markdown",
   "metadata": {},
   "source": [
    "### Step 8. How many times was a Veggie Salad Bowl ordered?"
   ]
  },
  {
   "cell_type": "code",
   "execution_count": 51,
   "metadata": {
    "collapsed": false
   },
   "outputs": [
    {
     "data": {
      "text/plain": "      order_id  quantity          item_name  \\\n186         83         1  Veggie Salad Bowl   \n295        128         1  Veggie Salad Bowl   \n455        195         1  Veggie Salad Bowl   \n496        207         1  Veggie Salad Bowl   \n960        394         1  Veggie Salad Bowl   \n1316       536         1  Veggie Salad Bowl   \n1884       760         1  Veggie Salad Bowl   \n2156       869         1  Veggie Salad Bowl   \n2223       896         1  Veggie Salad Bowl   \n2269       913         1  Veggie Salad Bowl   \n2683      1066         1  Veggie Salad Bowl   \n3223      1289         1  Veggie Salad Bowl   \n3293      1321         1  Veggie Salad Bowl   \n4109      1646         1  Veggie Salad Bowl   \n4201      1677         1  Veggie Salad Bowl   \n4261      1700         1  Veggie Salad Bowl   \n4541      1805         1  Veggie Salad Bowl   \n4573      1818         1  Veggie Salad Bowl   \n\n                                     choice_description  item_price  \n186   [Fresh Tomato Salsa, [Fajita Vegetables, Rice,...       11.25  \n295   [Fresh Tomato Salsa, [Fajita Vegetables, Lettu...       11.25  \n455   [Fresh Tomato Salsa, [Fajita Vegetables, Rice,...       11.25  \n496   [Fresh Tomato Salsa, [Rice, Lettuce, Guacamole...       11.25  \n960   [Fresh Tomato Salsa, [Fajita Vegetables, Lettu...        8.75  \n1316  [Fresh Tomato Salsa, [Fajita Vegetables, Rice,...        8.75  \n1884  [Fresh Tomato Salsa, [Fajita Vegetables, Rice,...       11.25  \n2156  [Tomatillo Red Chili Salsa, [Fajita Vegetables...       11.25  \n2223      [Roasted Chili Corn Salsa, Fajita Vegetables]        8.75  \n2269  [Fresh Tomato Salsa, [Fajita Vegetables, Rice,...        8.75  \n2683  [Roasted Chili Corn Salsa, [Fajita Vegetables,...        8.75  \n3223  [Tomatillo Red Chili Salsa, [Fajita Vegetables...       11.25  \n3293  [Fresh Tomato Salsa, [Rice, Black Beans, Chees...        8.75  \n4109  [Tomatillo Red Chili Salsa, [Fajita Vegetables...       11.25  \n4201  [Fresh Tomato Salsa, [Fajita Vegetables, Black...       11.25  \n4261  [Fresh Tomato Salsa, [Fajita Vegetables, Rice,...       11.25  \n4541  [Tomatillo Green Chili Salsa, [Fajita Vegetabl...        8.75  \n4573  [Fresh Tomato Salsa, [Fajita Vegetables, Pinto...        8.75  ",
      "text/html": "<div>\n<style scoped>\n    .dataframe tbody tr th:only-of-type {\n        vertical-align: middle;\n    }\n\n    .dataframe tbody tr th {\n        vertical-align: top;\n    }\n\n    .dataframe thead th {\n        text-align: right;\n    }\n</style>\n<table border=\"1\" class=\"dataframe\">\n  <thead>\n    <tr style=\"text-align: right;\">\n      <th></th>\n      <th>order_id</th>\n      <th>quantity</th>\n      <th>item_name</th>\n      <th>choice_description</th>\n      <th>item_price</th>\n    </tr>\n  </thead>\n  <tbody>\n    <tr>\n      <th>186</th>\n      <td>83</td>\n      <td>1</td>\n      <td>Veggie Salad Bowl</td>\n      <td>[Fresh Tomato Salsa, [Fajita Vegetables, Rice,...</td>\n      <td>11.25</td>\n    </tr>\n    <tr>\n      <th>295</th>\n      <td>128</td>\n      <td>1</td>\n      <td>Veggie Salad Bowl</td>\n      <td>[Fresh Tomato Salsa, [Fajita Vegetables, Lettu...</td>\n      <td>11.25</td>\n    </tr>\n    <tr>\n      <th>455</th>\n      <td>195</td>\n      <td>1</td>\n      <td>Veggie Salad Bowl</td>\n      <td>[Fresh Tomato Salsa, [Fajita Vegetables, Rice,...</td>\n      <td>11.25</td>\n    </tr>\n    <tr>\n      <th>496</th>\n      <td>207</td>\n      <td>1</td>\n      <td>Veggie Salad Bowl</td>\n      <td>[Fresh Tomato Salsa, [Rice, Lettuce, Guacamole...</td>\n      <td>11.25</td>\n    </tr>\n    <tr>\n      <th>960</th>\n      <td>394</td>\n      <td>1</td>\n      <td>Veggie Salad Bowl</td>\n      <td>[Fresh Tomato Salsa, [Fajita Vegetables, Lettu...</td>\n      <td>8.75</td>\n    </tr>\n    <tr>\n      <th>1316</th>\n      <td>536</td>\n      <td>1</td>\n      <td>Veggie Salad Bowl</td>\n      <td>[Fresh Tomato Salsa, [Fajita Vegetables, Rice,...</td>\n      <td>8.75</td>\n    </tr>\n    <tr>\n      <th>1884</th>\n      <td>760</td>\n      <td>1</td>\n      <td>Veggie Salad Bowl</td>\n      <td>[Fresh Tomato Salsa, [Fajita Vegetables, Rice,...</td>\n      <td>11.25</td>\n    </tr>\n    <tr>\n      <th>2156</th>\n      <td>869</td>\n      <td>1</td>\n      <td>Veggie Salad Bowl</td>\n      <td>[Tomatillo Red Chili Salsa, [Fajita Vegetables...</td>\n      <td>11.25</td>\n    </tr>\n    <tr>\n      <th>2223</th>\n      <td>896</td>\n      <td>1</td>\n      <td>Veggie Salad Bowl</td>\n      <td>[Roasted Chili Corn Salsa, Fajita Vegetables]</td>\n      <td>8.75</td>\n    </tr>\n    <tr>\n      <th>2269</th>\n      <td>913</td>\n      <td>1</td>\n      <td>Veggie Salad Bowl</td>\n      <td>[Fresh Tomato Salsa, [Fajita Vegetables, Rice,...</td>\n      <td>8.75</td>\n    </tr>\n    <tr>\n      <th>2683</th>\n      <td>1066</td>\n      <td>1</td>\n      <td>Veggie Salad Bowl</td>\n      <td>[Roasted Chili Corn Salsa, [Fajita Vegetables,...</td>\n      <td>8.75</td>\n    </tr>\n    <tr>\n      <th>3223</th>\n      <td>1289</td>\n      <td>1</td>\n      <td>Veggie Salad Bowl</td>\n      <td>[Tomatillo Red Chili Salsa, [Fajita Vegetables...</td>\n      <td>11.25</td>\n    </tr>\n    <tr>\n      <th>3293</th>\n      <td>1321</td>\n      <td>1</td>\n      <td>Veggie Salad Bowl</td>\n      <td>[Fresh Tomato Salsa, [Rice, Black Beans, Chees...</td>\n      <td>8.75</td>\n    </tr>\n    <tr>\n      <th>4109</th>\n      <td>1646</td>\n      <td>1</td>\n      <td>Veggie Salad Bowl</td>\n      <td>[Tomatillo Red Chili Salsa, [Fajita Vegetables...</td>\n      <td>11.25</td>\n    </tr>\n    <tr>\n      <th>4201</th>\n      <td>1677</td>\n      <td>1</td>\n      <td>Veggie Salad Bowl</td>\n      <td>[Fresh Tomato Salsa, [Fajita Vegetables, Black...</td>\n      <td>11.25</td>\n    </tr>\n    <tr>\n      <th>4261</th>\n      <td>1700</td>\n      <td>1</td>\n      <td>Veggie Salad Bowl</td>\n      <td>[Fresh Tomato Salsa, [Fajita Vegetables, Rice,...</td>\n      <td>11.25</td>\n    </tr>\n    <tr>\n      <th>4541</th>\n      <td>1805</td>\n      <td>1</td>\n      <td>Veggie Salad Bowl</td>\n      <td>[Tomatillo Green Chili Salsa, [Fajita Vegetabl...</td>\n      <td>8.75</td>\n    </tr>\n    <tr>\n      <th>4573</th>\n      <td>1818</td>\n      <td>1</td>\n      <td>Veggie Salad Bowl</td>\n      <td>[Fresh Tomato Salsa, [Fajita Vegetables, Pinto...</td>\n      <td>8.75</td>\n    </tr>\n  </tbody>\n</table>\n</div>"
     },
     "execution_count": 51,
     "metadata": {},
     "output_type": "execute_result"
    }
   ],
   "source": [
    "chipo.loc[chipo['item_name'] == 'Veggie Salad Bowl']['quantity'].count()"
   ]
  },
  {
   "cell_type": "markdown",
   "metadata": {},
   "source": [
    "### Step 9. How many times did someone order more than one Canned Soda?"
   ]
  },
  {
   "cell_type": "code",
   "execution_count": 50,
   "metadata": {
    "collapsed": false
   },
   "outputs": [
    {
     "data": {
      "text/plain": "20"
     },
     "execution_count": 50,
     "metadata": {},
     "output_type": "execute_result"
    }
   ],
   "source": [
    "chipo.loc[(chipo['item_name'] == 'Canned Soda') & (chipo['quantity'] > 1)].quantity.count()"
   ]
  }
 ],
 "metadata": {
  "kernelspec": {
   "name": "python3",
   "language": "python",
   "display_name": "Python 3"
  },
  "language_info": {
   "codemirror_mode": {
    "name": "ipython",
    "version": 2
   },
   "file_extension": ".py",
   "mimetype": "text/x-python",
   "name": "python",
   "nbconvert_exporter": "python",
   "pygments_lexer": "ipython2",
   "version": "2.7.11"
  }
 },
 "nbformat": 4,
 "nbformat_minor": 0
}