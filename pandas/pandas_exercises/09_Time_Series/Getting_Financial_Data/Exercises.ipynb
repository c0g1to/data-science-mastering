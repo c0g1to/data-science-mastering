{
 "cells": [
  {
   "cell_type": "markdown",
   "metadata": {},
   "source": [
    "# Getting Financial Data - Pandas Datareader"
   ]
  },
  {
   "cell_type": "markdown",
   "metadata": {},
   "source": [
    "### Introduction:\n",
    "\n",
    "This time you will get data from a website.\n",
    "\n",
    "\n",
    "### Step 1. Import the necessary libraries"
   ]
  },
  {
   "cell_type": "code",
   "execution_count": 56,
   "metadata": {},
   "outputs": [],
   "source": [
    "import numpy as np\n",
    "import pandas as pd\n",
    "import pandas_datareader as pdr"
   ]
  },
  {
   "cell_type": "markdown",
   "metadata": {},
   "source": [
    "### Step 2. Create your time range (start and end variables). The start date should be 01/01/2015 and the end should today (whatever your today is)."
   ]
  },
  {
   "cell_type": "code",
   "execution_count": 57,
   "metadata": {},
   "outputs": [
    {
     "data": {
      "text/plain": "DatetimeIndex(['2015-01-01', '2015-01-02', '2015-01-03', '2015-01-04',\n               '2015-01-05', '2015-01-06', '2015-01-07', '2015-01-08',\n               '2015-01-09', '2015-01-10',\n               ...\n               '2021-07-22', '2021-07-23', '2021-07-24', '2021-07-25',\n               '2021-07-26', '2021-07-27', '2021-07-28', '2021-07-29',\n               '2021-07-30', '2021-07-31'],\n              dtype='datetime64[ns]', length=2404, freq='D')"
     },
     "execution_count": 57,
     "metadata": {},
     "output_type": "execute_result"
    }
   ],
   "source": [
    "rng = pd.date_range('01/01/2015', pd.Timestamp.today())\n",
    "rng"
   ]
  },
  {
   "cell_type": "markdown",
   "metadata": {},
   "source": [
    "### Step 3. Get an API key for one of the APIs that are supported by Pandas Datareader, preferably for AlphaVantage.\n",
    "\n",
    "If you do not have an API key for any of the supported APIs, it is easiest to get one for [AlphaVantage](https://www.alphavantage.co/support/#api-key). (Note that the API key is shown directly after the signup. You do *not* receive it via e-mail.)\n",
    "\n",
    "(For a full list of the APIs that are supported by Pandas Datareader, [see here](https://pydata.github.io/pandas-datareader/readers/index.html). As the APIs are provided by third parties, this list may change.)"
   ]
  },
  {
   "cell_type": "markdown",
   "metadata": {},
   "source": [
    "### Step 4. Use Pandas Datarader to read the daily time series for the Apple stock (ticker symbol AAPL) between 01/01/2015 and today, assign it to df_apple and print it."
   ]
  },
  {
   "cell_type": "code",
   "execution_count": 58,
   "metadata": {},
   "outputs": [],
   "source": [
    "df_apple = pdr.data.DataReader(name='AAPL', data_source='av-daily',\n",
    "                               start=rng[0], end=rng[-1],\n",
    "                               api_key='DOMSBVEMIWY5BYEF')"
   ]
  },
  {
   "cell_type": "markdown",
   "metadata": {},
   "source": [
    "### Step 5. Add a new column \"stock\" to the dataframe and add the ticker symbol"
   ]
  },
  {
   "cell_type": "code",
   "execution_count": 59,
   "metadata": {},
   "outputs": [
    {
     "data": {
      "text/plain": "               open    high      low   close     volume stock\n2015-01-02  111.390  111.44  107.350  109.33   53204626  AAPL\n2015-01-05  108.290  108.65  105.410  106.25   64285491  AAPL\n2015-01-06  106.540  107.43  104.630  106.26   65797116  AAPL\n2015-01-07  107.200  108.20  106.695  107.75   40105934  AAPL\n2015-01-08  109.230  112.15  108.700  111.89   59364547  AAPL\n...             ...     ...      ...     ...        ...   ...\n2021-07-26  148.270  149.83  147.700  148.99   72434089  AAPL\n2021-07-27  149.120  149.21  145.550  146.77  104818578  AAPL\n2021-07-28  144.810  146.97  142.540  144.98  118931191  AAPL\n2021-07-29  144.685  146.55  144.580  145.64   54323047  AAPL\n2021-07-30  144.380  146.33  144.110  145.86   70440626  AAPL\n\n[1656 rows x 6 columns]",
      "text/html": "<div>\n<style scoped>\n    .dataframe tbody tr th:only-of-type {\n        vertical-align: middle;\n    }\n\n    .dataframe tbody tr th {\n        vertical-align: top;\n    }\n\n    .dataframe thead th {\n        text-align: right;\n    }\n</style>\n<table border=\"1\" class=\"dataframe\">\n  <thead>\n    <tr style=\"text-align: right;\">\n      <th></th>\n      <th>open</th>\n      <th>high</th>\n      <th>low</th>\n      <th>close</th>\n      <th>volume</th>\n      <th>stock</th>\n    </tr>\n  </thead>\n  <tbody>\n    <tr>\n      <th>2015-01-02</th>\n      <td>111.390</td>\n      <td>111.44</td>\n      <td>107.350</td>\n      <td>109.33</td>\n      <td>53204626</td>\n      <td>AAPL</td>\n    </tr>\n    <tr>\n      <th>2015-01-05</th>\n      <td>108.290</td>\n      <td>108.65</td>\n      <td>105.410</td>\n      <td>106.25</td>\n      <td>64285491</td>\n      <td>AAPL</td>\n    </tr>\n    <tr>\n      <th>2015-01-06</th>\n      <td>106.540</td>\n      <td>107.43</td>\n      <td>104.630</td>\n      <td>106.26</td>\n      <td>65797116</td>\n      <td>AAPL</td>\n    </tr>\n    <tr>\n      <th>2015-01-07</th>\n      <td>107.200</td>\n      <td>108.20</td>\n      <td>106.695</td>\n      <td>107.75</td>\n      <td>40105934</td>\n      <td>AAPL</td>\n    </tr>\n    <tr>\n      <th>2015-01-08</th>\n      <td>109.230</td>\n      <td>112.15</td>\n      <td>108.700</td>\n      <td>111.89</td>\n      <td>59364547</td>\n      <td>AAPL</td>\n    </tr>\n    <tr>\n      <th>...</th>\n      <td>...</td>\n      <td>...</td>\n      <td>...</td>\n      <td>...</td>\n      <td>...</td>\n      <td>...</td>\n    </tr>\n    <tr>\n      <th>2021-07-26</th>\n      <td>148.270</td>\n      <td>149.83</td>\n      <td>147.700</td>\n      <td>148.99</td>\n      <td>72434089</td>\n      <td>AAPL</td>\n    </tr>\n    <tr>\n      <th>2021-07-27</th>\n      <td>149.120</td>\n      <td>149.21</td>\n      <td>145.550</td>\n      <td>146.77</td>\n      <td>104818578</td>\n      <td>AAPL</td>\n    </tr>\n    <tr>\n      <th>2021-07-28</th>\n      <td>144.810</td>\n      <td>146.97</td>\n      <td>142.540</td>\n      <td>144.98</td>\n      <td>118931191</td>\n      <td>AAPL</td>\n    </tr>\n    <tr>\n      <th>2021-07-29</th>\n      <td>144.685</td>\n      <td>146.55</td>\n      <td>144.580</td>\n      <td>145.64</td>\n      <td>54323047</td>\n      <td>AAPL</td>\n    </tr>\n    <tr>\n      <th>2021-07-30</th>\n      <td>144.380</td>\n      <td>146.33</td>\n      <td>144.110</td>\n      <td>145.86</td>\n      <td>70440626</td>\n      <td>AAPL</td>\n    </tr>\n  </tbody>\n</table>\n<p>1656 rows × 6 columns</p>\n</div>"
     },
     "execution_count": 59,
     "metadata": {},
     "output_type": "execute_result"
    }
   ],
   "source": [
    "df_apple['stock'] = 'AAPL'\n",
    "df_apple"
   ]
  },
  {
   "cell_type": "markdown",
   "metadata": {},
   "source": [
    "### Step 6. Repeat the two previous steps for a few other stocks, always creating a new dataframe: Tesla, IBM and Microsoft. (Ticker symbols TSLA, IBM and MSFT.)"
   ]
  },
  {
   "cell_type": "code",
   "execution_count": 60,
   "metadata": {},
   "outputs": [],
   "source": [
    "df_tesla = pdr.data.DataReader('TSLA', 'av-daily', start=rng[0], end=rng[-1], api_key='DOMSBVEMIWY5BYEF')\n",
    "df_ibm = pdr.data.DataReader('IBM', 'av-daily', start=rng[0], end=rng[-1], api_key='DOMSBVEMIWY5BYEF')\n",
    "df_microsoft = pdr.data.DataReader('MSFT', 'av-daily', start=rng[0], end=rng[-1], api_key='DOMSBVEMIWY5BYEF')"
   ]
  },
  {
   "cell_type": "code",
   "execution_count": 61,
   "outputs": [
    {
     "data": {
      "text/plain": "               open      high       low    close    volume stock\n2015-01-02  222.870  223.2500  213.2600  219.310   4764443  TSLA\n2015-01-05  214.550  216.5000  207.1626  210.090   5368477  TSLA\n2015-01-06  210.060  214.2000  204.2100  211.280   6261936  TSLA\n2015-01-07  213.350  214.7800  209.7800  210.950   2968390  TSLA\n2015-01-08  212.810  213.7999  210.0100  210.615   3442509  TSLA\n...             ...       ...       ...      ...       ...   ...\n2021-07-26  650.970  668.1999  647.1100  657.620  25336556  TSLA\n2021-07-27  663.400  666.5000  627.2400  644.780  32813290  TSLA\n2021-07-28  646.995  654.9699  639.4001  646.980  16006596  TSLA\n2021-07-29  649.790  683.6900  648.8000  677.350  29688446  TSLA\n2021-07-30  671.758  697.5300  669.0000  687.200  28706645  TSLA\n\n[1656 rows x 6 columns]",
      "text/html": "<div>\n<style scoped>\n    .dataframe tbody tr th:only-of-type {\n        vertical-align: middle;\n    }\n\n    .dataframe tbody tr th {\n        vertical-align: top;\n    }\n\n    .dataframe thead th {\n        text-align: right;\n    }\n</style>\n<table border=\"1\" class=\"dataframe\">\n  <thead>\n    <tr style=\"text-align: right;\">\n      <th></th>\n      <th>open</th>\n      <th>high</th>\n      <th>low</th>\n      <th>close</th>\n      <th>volume</th>\n      <th>stock</th>\n    </tr>\n  </thead>\n  <tbody>\n    <tr>\n      <th>2015-01-02</th>\n      <td>222.870</td>\n      <td>223.2500</td>\n      <td>213.2600</td>\n      <td>219.310</td>\n      <td>4764443</td>\n      <td>TSLA</td>\n    </tr>\n    <tr>\n      <th>2015-01-05</th>\n      <td>214.550</td>\n      <td>216.5000</td>\n      <td>207.1626</td>\n      <td>210.090</td>\n      <td>5368477</td>\n      <td>TSLA</td>\n    </tr>\n    <tr>\n      <th>2015-01-06</th>\n      <td>210.060</td>\n      <td>214.2000</td>\n      <td>204.2100</td>\n      <td>211.280</td>\n      <td>6261936</td>\n      <td>TSLA</td>\n    </tr>\n    <tr>\n      <th>2015-01-07</th>\n      <td>213.350</td>\n      <td>214.7800</td>\n      <td>209.7800</td>\n      <td>210.950</td>\n      <td>2968390</td>\n      <td>TSLA</td>\n    </tr>\n    <tr>\n      <th>2015-01-08</th>\n      <td>212.810</td>\n      <td>213.7999</td>\n      <td>210.0100</td>\n      <td>210.615</td>\n      <td>3442509</td>\n      <td>TSLA</td>\n    </tr>\n    <tr>\n      <th>...</th>\n      <td>...</td>\n      <td>...</td>\n      <td>...</td>\n      <td>...</td>\n      <td>...</td>\n      <td>...</td>\n    </tr>\n    <tr>\n      <th>2021-07-26</th>\n      <td>650.970</td>\n      <td>668.1999</td>\n      <td>647.1100</td>\n      <td>657.620</td>\n      <td>25336556</td>\n      <td>TSLA</td>\n    </tr>\n    <tr>\n      <th>2021-07-27</th>\n      <td>663.400</td>\n      <td>666.5000</td>\n      <td>627.2400</td>\n      <td>644.780</td>\n      <td>32813290</td>\n      <td>TSLA</td>\n    </tr>\n    <tr>\n      <th>2021-07-28</th>\n      <td>646.995</td>\n      <td>654.9699</td>\n      <td>639.4001</td>\n      <td>646.980</td>\n      <td>16006596</td>\n      <td>TSLA</td>\n    </tr>\n    <tr>\n      <th>2021-07-29</th>\n      <td>649.790</td>\n      <td>683.6900</td>\n      <td>648.8000</td>\n      <td>677.350</td>\n      <td>29688446</td>\n      <td>TSLA</td>\n    </tr>\n    <tr>\n      <th>2021-07-30</th>\n      <td>671.758</td>\n      <td>697.5300</td>\n      <td>669.0000</td>\n      <td>687.200</td>\n      <td>28706645</td>\n      <td>TSLA</td>\n    </tr>\n  </tbody>\n</table>\n<p>1656 rows × 6 columns</p>\n</div>"
     },
     "execution_count": 61,
     "metadata": {},
     "output_type": "execute_result"
    }
   ],
   "source": [
    "df_tesla['stock'] = 'TSLA'\n",
    "df_tesla"
   ],
   "metadata": {
    "collapsed": false,
    "pycharm": {
     "name": "#%%\n"
    }
   }
  },
  {
   "cell_type": "code",
   "execution_count": 62,
   "outputs": [
    {
     "data": {
      "text/plain": "              open     high     low   close   volume stock\n2015-01-02  161.31  163.310  161.00  162.06  5525341   IBM\n2015-01-05  161.27  161.270  159.19  159.51  4880389   IBM\n2015-01-06  159.67  159.960  155.17  156.07  6145670   IBM\n2015-01-07  157.20  157.200  154.03  155.05  4701015   IBM\n2015-01-08  156.24  159.044  155.55  158.42  4240585   IBM\n...            ...      ...     ...     ...      ...   ...\n2021-07-26  141.39  143.000  141.13  142.77  4246266   IBM\n2021-07-27  142.53  143.640  141.60  142.75  3137027   IBM\n2021-07-28  143.01  143.100  141.64  141.77  2544099   IBM\n2021-07-29  142.33  142.960  141.60  141.93  2657669   IBM\n2021-07-30  141.52  141.850  140.79  140.96  3535555   IBM\n\n[1656 rows x 6 columns]",
      "text/html": "<div>\n<style scoped>\n    .dataframe tbody tr th:only-of-type {\n        vertical-align: middle;\n    }\n\n    .dataframe tbody tr th {\n        vertical-align: top;\n    }\n\n    .dataframe thead th {\n        text-align: right;\n    }\n</style>\n<table border=\"1\" class=\"dataframe\">\n  <thead>\n    <tr style=\"text-align: right;\">\n      <th></th>\n      <th>open</th>\n      <th>high</th>\n      <th>low</th>\n      <th>close</th>\n      <th>volume</th>\n      <th>stock</th>\n    </tr>\n  </thead>\n  <tbody>\n    <tr>\n      <th>2015-01-02</th>\n      <td>161.31</td>\n      <td>163.310</td>\n      <td>161.00</td>\n      <td>162.06</td>\n      <td>5525341</td>\n      <td>IBM</td>\n    </tr>\n    <tr>\n      <th>2015-01-05</th>\n      <td>161.27</td>\n      <td>161.270</td>\n      <td>159.19</td>\n      <td>159.51</td>\n      <td>4880389</td>\n      <td>IBM</td>\n    </tr>\n    <tr>\n      <th>2015-01-06</th>\n      <td>159.67</td>\n      <td>159.960</td>\n      <td>155.17</td>\n      <td>156.07</td>\n      <td>6145670</td>\n      <td>IBM</td>\n    </tr>\n    <tr>\n      <th>2015-01-07</th>\n      <td>157.20</td>\n      <td>157.200</td>\n      <td>154.03</td>\n      <td>155.05</td>\n      <td>4701015</td>\n      <td>IBM</td>\n    </tr>\n    <tr>\n      <th>2015-01-08</th>\n      <td>156.24</td>\n      <td>159.044</td>\n      <td>155.55</td>\n      <td>158.42</td>\n      <td>4240585</td>\n      <td>IBM</td>\n    </tr>\n    <tr>\n      <th>...</th>\n      <td>...</td>\n      <td>...</td>\n      <td>...</td>\n      <td>...</td>\n      <td>...</td>\n      <td>...</td>\n    </tr>\n    <tr>\n      <th>2021-07-26</th>\n      <td>141.39</td>\n      <td>143.000</td>\n      <td>141.13</td>\n      <td>142.77</td>\n      <td>4246266</td>\n      <td>IBM</td>\n    </tr>\n    <tr>\n      <th>2021-07-27</th>\n      <td>142.53</td>\n      <td>143.640</td>\n      <td>141.60</td>\n      <td>142.75</td>\n      <td>3137027</td>\n      <td>IBM</td>\n    </tr>\n    <tr>\n      <th>2021-07-28</th>\n      <td>143.01</td>\n      <td>143.100</td>\n      <td>141.64</td>\n      <td>141.77</td>\n      <td>2544099</td>\n      <td>IBM</td>\n    </tr>\n    <tr>\n      <th>2021-07-29</th>\n      <td>142.33</td>\n      <td>142.960</td>\n      <td>141.60</td>\n      <td>141.93</td>\n      <td>2657669</td>\n      <td>IBM</td>\n    </tr>\n    <tr>\n      <th>2021-07-30</th>\n      <td>141.52</td>\n      <td>141.850</td>\n      <td>140.79</td>\n      <td>140.96</td>\n      <td>3535555</td>\n      <td>IBM</td>\n    </tr>\n  </tbody>\n</table>\n<p>1656 rows × 6 columns</p>\n</div>"
     },
     "execution_count": 62,
     "metadata": {},
     "output_type": "execute_result"
    }
   ],
   "source": [
    "df_ibm['stock'] = 'IBM'\n",
    "df_ibm"
   ],
   "metadata": {
    "collapsed": false,
    "pycharm": {
     "name": "#%%\n"
    }
   }
  },
  {
   "cell_type": "code",
   "execution_count": 63,
   "outputs": [
    {
     "data": {
      "text/plain": "               open      high       low    close    volume stock\n2015-01-02   46.660   47.4200   46.5400   46.760  27913852  MSFT\n2015-01-05   46.370   46.7300   46.2500   46.325  39673865  MSFT\n2015-01-06   46.380   46.7490   45.5400   45.650  36447854  MSFT\n2015-01-07   45.980   46.4600   45.4900   46.230  29114061  MSFT\n2015-01-08   46.750   47.7499   46.7200   47.590  29645202  MSFT\n...             ...       ...       ...      ...       ...   ...\n2021-07-26  289.000  289.6900  286.6420  289.050  23176073  MSFT\n2021-07-27  289.430  289.5750  282.9500  286.540  33604073  MSFT\n2021-07-28  288.990  290.1500  283.8303  286.220  33566853  MSFT\n2021-07-29  286.235  288.6180  286.0800  286.500  17782235  MSFT\n2021-07-30  285.170  286.6600  283.9100  284.910  20944846  MSFT\n\n[1656 rows x 6 columns]",
      "text/html": "<div>\n<style scoped>\n    .dataframe tbody tr th:only-of-type {\n        vertical-align: middle;\n    }\n\n    .dataframe tbody tr th {\n        vertical-align: top;\n    }\n\n    .dataframe thead th {\n        text-align: right;\n    }\n</style>\n<table border=\"1\" class=\"dataframe\">\n  <thead>\n    <tr style=\"text-align: right;\">\n      <th></th>\n      <th>open</th>\n      <th>high</th>\n      <th>low</th>\n      <th>close</th>\n      <th>volume</th>\n      <th>stock</th>\n    </tr>\n  </thead>\n  <tbody>\n    <tr>\n      <th>2015-01-02</th>\n      <td>46.660</td>\n      <td>47.4200</td>\n      <td>46.5400</td>\n      <td>46.760</td>\n      <td>27913852</td>\n      <td>MSFT</td>\n    </tr>\n    <tr>\n      <th>2015-01-05</th>\n      <td>46.370</td>\n      <td>46.7300</td>\n      <td>46.2500</td>\n      <td>46.325</td>\n      <td>39673865</td>\n      <td>MSFT</td>\n    </tr>\n    <tr>\n      <th>2015-01-06</th>\n      <td>46.380</td>\n      <td>46.7490</td>\n      <td>45.5400</td>\n      <td>45.650</td>\n      <td>36447854</td>\n      <td>MSFT</td>\n    </tr>\n    <tr>\n      <th>2015-01-07</th>\n      <td>45.980</td>\n      <td>46.4600</td>\n      <td>45.4900</td>\n      <td>46.230</td>\n      <td>29114061</td>\n      <td>MSFT</td>\n    </tr>\n    <tr>\n      <th>2015-01-08</th>\n      <td>46.750</td>\n      <td>47.7499</td>\n      <td>46.7200</td>\n      <td>47.590</td>\n      <td>29645202</td>\n      <td>MSFT</td>\n    </tr>\n    <tr>\n      <th>...</th>\n      <td>...</td>\n      <td>...</td>\n      <td>...</td>\n      <td>...</td>\n      <td>...</td>\n      <td>...</td>\n    </tr>\n    <tr>\n      <th>2021-07-26</th>\n      <td>289.000</td>\n      <td>289.6900</td>\n      <td>286.6420</td>\n      <td>289.050</td>\n      <td>23176073</td>\n      <td>MSFT</td>\n    </tr>\n    <tr>\n      <th>2021-07-27</th>\n      <td>289.430</td>\n      <td>289.5750</td>\n      <td>282.9500</td>\n      <td>286.540</td>\n      <td>33604073</td>\n      <td>MSFT</td>\n    </tr>\n    <tr>\n      <th>2021-07-28</th>\n      <td>288.990</td>\n      <td>290.1500</td>\n      <td>283.8303</td>\n      <td>286.220</td>\n      <td>33566853</td>\n      <td>MSFT</td>\n    </tr>\n    <tr>\n      <th>2021-07-29</th>\n      <td>286.235</td>\n      <td>288.6180</td>\n      <td>286.0800</td>\n      <td>286.500</td>\n      <td>17782235</td>\n      <td>MSFT</td>\n    </tr>\n    <tr>\n      <th>2021-07-30</th>\n      <td>285.170</td>\n      <td>286.6600</td>\n      <td>283.9100</td>\n      <td>284.910</td>\n      <td>20944846</td>\n      <td>MSFT</td>\n    </tr>\n  </tbody>\n</table>\n<p>1656 rows × 6 columns</p>\n</div>"
     },
     "execution_count": 63,
     "metadata": {},
     "output_type": "execute_result"
    }
   ],
   "source": [
    "df_microsoft['stock'] = 'MSFT'\n",
    "df_microsoft"
   ],
   "metadata": {
    "collapsed": false,
    "pycharm": {
     "name": "#%%\n"
    }
   }
  },
  {
   "cell_type": "markdown",
   "metadata": {},
   "source": [
    "### Step 7. Combine the four separate dataFrames into one combined dataFrame df that holds the information for all four stocks"
   ]
  },
  {
   "cell_type": "code",
   "execution_count": 92,
   "metadata": {},
   "outputs": [
    {
     "data": {
      "text/plain": "               open     high       low   close    volume stock\n2015-01-02  111.390  111.440  107.3500  109.33  53204626  AAPL\n2015-01-05  108.290  108.650  105.4100  106.25  64285491  AAPL\n2015-01-06  106.540  107.430  104.6300  106.26  65797116  AAPL\n2015-01-07  107.200  108.200  106.6950  107.75  40105934  AAPL\n2015-01-08  109.230  112.150  108.7000  111.89  59364547  AAPL\n...             ...      ...       ...     ...       ...   ...\n2021-07-26  289.000  289.690  286.6420  289.05  23176073  MSFT\n2021-07-27  289.430  289.575  282.9500  286.54  33604073  MSFT\n2021-07-28  288.990  290.150  283.8303  286.22  33566853  MSFT\n2021-07-29  286.235  288.618  286.0800  286.50  17782235  MSFT\n2021-07-30  285.170  286.660  283.9100  284.91  20944846  MSFT\n\n[6624 rows x 6 columns]",
      "text/html": "<div>\n<style scoped>\n    .dataframe tbody tr th:only-of-type {\n        vertical-align: middle;\n    }\n\n    .dataframe tbody tr th {\n        vertical-align: top;\n    }\n\n    .dataframe thead th {\n        text-align: right;\n    }\n</style>\n<table border=\"1\" class=\"dataframe\">\n  <thead>\n    <tr style=\"text-align: right;\">\n      <th></th>\n      <th>open</th>\n      <th>high</th>\n      <th>low</th>\n      <th>close</th>\n      <th>volume</th>\n      <th>stock</th>\n    </tr>\n  </thead>\n  <tbody>\n    <tr>\n      <th>2015-01-02</th>\n      <td>111.390</td>\n      <td>111.440</td>\n      <td>107.3500</td>\n      <td>109.33</td>\n      <td>53204626</td>\n      <td>AAPL</td>\n    </tr>\n    <tr>\n      <th>2015-01-05</th>\n      <td>108.290</td>\n      <td>108.650</td>\n      <td>105.4100</td>\n      <td>106.25</td>\n      <td>64285491</td>\n      <td>AAPL</td>\n    </tr>\n    <tr>\n      <th>2015-01-06</th>\n      <td>106.540</td>\n      <td>107.430</td>\n      <td>104.6300</td>\n      <td>106.26</td>\n      <td>65797116</td>\n      <td>AAPL</td>\n    </tr>\n    <tr>\n      <th>2015-01-07</th>\n      <td>107.200</td>\n      <td>108.200</td>\n      <td>106.6950</td>\n      <td>107.75</td>\n      <td>40105934</td>\n      <td>AAPL</td>\n    </tr>\n    <tr>\n      <th>2015-01-08</th>\n      <td>109.230</td>\n      <td>112.150</td>\n      <td>108.7000</td>\n      <td>111.89</td>\n      <td>59364547</td>\n      <td>AAPL</td>\n    </tr>\n    <tr>\n      <th>...</th>\n      <td>...</td>\n      <td>...</td>\n      <td>...</td>\n      <td>...</td>\n      <td>...</td>\n      <td>...</td>\n    </tr>\n    <tr>\n      <th>2021-07-26</th>\n      <td>289.000</td>\n      <td>289.690</td>\n      <td>286.6420</td>\n      <td>289.05</td>\n      <td>23176073</td>\n      <td>MSFT</td>\n    </tr>\n    <tr>\n      <th>2021-07-27</th>\n      <td>289.430</td>\n      <td>289.575</td>\n      <td>282.9500</td>\n      <td>286.54</td>\n      <td>33604073</td>\n      <td>MSFT</td>\n    </tr>\n    <tr>\n      <th>2021-07-28</th>\n      <td>288.990</td>\n      <td>290.150</td>\n      <td>283.8303</td>\n      <td>286.22</td>\n      <td>33566853</td>\n      <td>MSFT</td>\n    </tr>\n    <tr>\n      <th>2021-07-29</th>\n      <td>286.235</td>\n      <td>288.618</td>\n      <td>286.0800</td>\n      <td>286.50</td>\n      <td>17782235</td>\n      <td>MSFT</td>\n    </tr>\n    <tr>\n      <th>2021-07-30</th>\n      <td>285.170</td>\n      <td>286.660</td>\n      <td>283.9100</td>\n      <td>284.91</td>\n      <td>20944846</td>\n      <td>MSFT</td>\n    </tr>\n  </tbody>\n</table>\n<p>6624 rows × 6 columns</p>\n</div>"
     },
     "execution_count": 92,
     "metadata": {},
     "output_type": "execute_result"
    }
   ],
   "source": [
    "df_all = pd.concat([df_apple, df_tesla, df_ibm, df_microsoft])\n",
    "df_all"
   ]
  },
  {
   "cell_type": "markdown",
   "metadata": {},
   "source": [
    "### Step 8. Shift the stock column into the index (making it a multi-level index consisting of the ticker symbol and the date)."
   ]
  },
  {
   "cell_type": "code",
   "execution_count": 93,
   "metadata": {},
   "outputs": [
    {
     "data": {
      "text/plain": "                     open     high       low   close    volume\nstock date                                                    \nAAPL  2015-01-02  111.390  111.440  107.3500  109.33  53204626\n      2015-01-05  108.290  108.650  105.4100  106.25  64285491\n      2015-01-06  106.540  107.430  104.6300  106.26  65797116\n      2015-01-07  107.200  108.200  106.6950  107.75  40105934\n      2015-01-08  109.230  112.150  108.7000  111.89  59364547\n...                   ...      ...       ...     ...       ...\nMSFT  2021-07-26  289.000  289.690  286.6420  289.05  23176073\n      2021-07-27  289.430  289.575  282.9500  286.54  33604073\n      2021-07-28  288.990  290.150  283.8303  286.22  33566853\n      2021-07-29  286.235  288.618  286.0800  286.50  17782235\n      2021-07-30  285.170  286.660  283.9100  284.91  20944846\n\n[6624 rows x 5 columns]",
      "text/html": "<div>\n<style scoped>\n    .dataframe tbody tr th:only-of-type {\n        vertical-align: middle;\n    }\n\n    .dataframe tbody tr th {\n        vertical-align: top;\n    }\n\n    .dataframe thead th {\n        text-align: right;\n    }\n</style>\n<table border=\"1\" class=\"dataframe\">\n  <thead>\n    <tr style=\"text-align: right;\">\n      <th></th>\n      <th></th>\n      <th>open</th>\n      <th>high</th>\n      <th>low</th>\n      <th>close</th>\n      <th>volume</th>\n    </tr>\n    <tr>\n      <th>stock</th>\n      <th>date</th>\n      <th></th>\n      <th></th>\n      <th></th>\n      <th></th>\n      <th></th>\n    </tr>\n  </thead>\n  <tbody>\n    <tr>\n      <th rowspan=\"5\" valign=\"top\">AAPL</th>\n      <th>2015-01-02</th>\n      <td>111.390</td>\n      <td>111.440</td>\n      <td>107.3500</td>\n      <td>109.33</td>\n      <td>53204626</td>\n    </tr>\n    <tr>\n      <th>2015-01-05</th>\n      <td>108.290</td>\n      <td>108.650</td>\n      <td>105.4100</td>\n      <td>106.25</td>\n      <td>64285491</td>\n    </tr>\n    <tr>\n      <th>2015-01-06</th>\n      <td>106.540</td>\n      <td>107.430</td>\n      <td>104.6300</td>\n      <td>106.26</td>\n      <td>65797116</td>\n    </tr>\n    <tr>\n      <th>2015-01-07</th>\n      <td>107.200</td>\n      <td>108.200</td>\n      <td>106.6950</td>\n      <td>107.75</td>\n      <td>40105934</td>\n    </tr>\n    <tr>\n      <th>2015-01-08</th>\n      <td>109.230</td>\n      <td>112.150</td>\n      <td>108.7000</td>\n      <td>111.89</td>\n      <td>59364547</td>\n    </tr>\n    <tr>\n      <th>...</th>\n      <th>...</th>\n      <td>...</td>\n      <td>...</td>\n      <td>...</td>\n      <td>...</td>\n      <td>...</td>\n    </tr>\n    <tr>\n      <th rowspan=\"5\" valign=\"top\">MSFT</th>\n      <th>2021-07-26</th>\n      <td>289.000</td>\n      <td>289.690</td>\n      <td>286.6420</td>\n      <td>289.05</td>\n      <td>23176073</td>\n    </tr>\n    <tr>\n      <th>2021-07-27</th>\n      <td>289.430</td>\n      <td>289.575</td>\n      <td>282.9500</td>\n      <td>286.54</td>\n      <td>33604073</td>\n    </tr>\n    <tr>\n      <th>2021-07-28</th>\n      <td>288.990</td>\n      <td>290.150</td>\n      <td>283.8303</td>\n      <td>286.22</td>\n      <td>33566853</td>\n    </tr>\n    <tr>\n      <th>2021-07-29</th>\n      <td>286.235</td>\n      <td>288.618</td>\n      <td>286.0800</td>\n      <td>286.50</td>\n      <td>17782235</td>\n    </tr>\n    <tr>\n      <th>2021-07-30</th>\n      <td>285.170</td>\n      <td>286.660</td>\n      <td>283.9100</td>\n      <td>284.91</td>\n      <td>20944846</td>\n    </tr>\n  </tbody>\n</table>\n<p>6624 rows × 5 columns</p>\n</div>"
     },
     "execution_count": 93,
     "metadata": {},
     "output_type": "execute_result"
    }
   ],
   "source": [
    "df_all.index = pd.to_datetime(df_all.index)\n",
    "df_all = df_all.set_index(['stock', df_all.index])\n",
    "df_all.index.set_names(names='date', level=1, inplace=True)\n",
    "df_all"
   ]
  },
  {
   "cell_type": "markdown",
   "metadata": {},
   "source": [
    "### Step 7. Create a dataFrame called vol, with the volume values."
   ]
  },
  {
   "cell_type": "code",
   "execution_count": 178,
   "metadata": {},
   "outputs": [
    {
     "data": {
      "text/plain": "stock  date      \nAAPL   2015-01-02    53204626\n       2015-01-05    64285491\n       2015-01-06    65797116\n       2015-01-07    40105934\n       2015-01-08    59364547\n                       ...   \nMSFT   2021-07-26    23176073\n       2021-07-27    33604073\n       2021-07-28    33566853\n       2021-07-29    17782235\n       2021-07-30    20944846\nName: volume, Length: 6624, dtype: int64"
     },
     "execution_count": 178,
     "metadata": {},
     "output_type": "execute_result"
    }
   ],
   "source": [
    "vol = df_all.volume\n",
    "vol"
   ]
  },
  {
   "cell_type": "markdown",
   "metadata": {},
   "source": [
    "### Step 8. Aggregate the data of volume to weekly.\n",
    "Hint: Be careful to not sum data from the same week of 2015 and other years."
   ]
  },
  {
   "cell_type": "code",
   "execution_count": 186,
   "metadata": {},
   "outputs": [
    {
     "data": {
      "text/plain": "stock  date\nAAPL   1        53204626\n       2       282868187\n       3       304226647\n       4       198737041\n       5       465842684\n                 ...    \nTSLA   340     103666230\n       341      82990274\n       342     105114865\n       343      80448226\n       344     132551533\nName: volume, Length: 1376, dtype: int64"
     },
     "execution_count": 186,
     "metadata": {},
     "output_type": "execute_result"
    }
   ],
   "source": [
    "volw = vol.groupby('stock').resample('W', level=1).sum()\n",
    "# volw.index = volw.index.set_levels(np.arange(1, 100000), level=1)\n",
    "# volw\n",
    "#WRONG"
   ]
  },
  {
   "cell_type": "markdown",
   "metadata": {},
   "source": [
    "### Step 9. Find all the volume traded in the year of 2015"
   ]
  },
  {
   "cell_type": "code",
   "execution_count": 185,
   "metadata": {},
   "outputs": [
    {
     "data": {
      "text/plain": "stock\nAAPL    13064316775\nIBM      1105545521\nMSFT     9057582311\nTSLA     1086708380\nName: volume, dtype: int64"
     },
     "execution_count": 185,
     "metadata": {},
     "output_type": "execute_result"
    }
   ],
   "source": [
    "vol.loc[vol.index.get_level_values(1).year == 2015].groupby('stock').sum()"
   ]
  }
 ],
 "metadata": {
  "kernelspec": {
   "display_name": "Python 3",
   "language": "python",
   "name": "python3"
  },
  "language_info": {
   "codemirror_mode": {
    "name": "ipython",
    "version": 3
   },
   "file_extension": ".py",
   "mimetype": "text/x-python",
   "name": "python",
   "nbconvert_exporter": "python",
   "pygments_lexer": "ipython3",
   "version": "3.7.4"
  }
 },
 "nbformat": 4,
 "nbformat_minor": 1
}