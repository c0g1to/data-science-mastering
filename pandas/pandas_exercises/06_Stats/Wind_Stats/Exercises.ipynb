{
 "cells": [
  {
   "cell_type": "markdown",
   "metadata": {},
   "source": [
    "# Wind Statistics"
   ]
  },
  {
   "cell_type": "markdown",
   "metadata": {},
   "source": [
    "### Introduction:\n",
    "\n",
    "The data have been modified to contain some missing values, identified by NaN.  \n",
    "Using pandas should make this exercise\n",
    "easier, in particular for the bonus question.\n",
    "\n",
    "You should be able to perform all of these operations without using\n",
    "a for loop or other looping construct.\n",
    "\n",
    "\n",
    "1. The data in 'wind.data' has the following format:"
   ]
  },
  {
   "cell_type": "code",
   "execution_count": 99,
   "metadata": {
    "collapsed": false
   },
   "outputs": [
    {
     "data": {
      "text/plain": "'\\nYr Mo Dy   RPT   VAL   ROS   KIL   SHA   BIR   DUB   CLA   MUL   CLO   BEL   MAL\\n61  1  1 15.04 14.96 13.17  9.29   NaN  9.87 13.67 10.25 10.83 12.58 18.50 15.04\\n61  1  2 14.71   NaN 10.83  6.50 12.62  7.67 11.50 10.04  9.79  9.67 17.54 13.83\\n61  1  3 18.50 16.88 12.33 10.13 11.17  6.17 11.25   NaN  8.50  7.67 12.75 12.71\\n'"
     },
     "execution_count": 99,
     "metadata": {},
     "output_type": "execute_result"
    }
   ],
   "source": [
    "\"\"\"\n",
    "Yr Mo Dy   RPT   VAL   ROS   KIL   SHA   BIR   DUB   CLA   MUL   CLO   BEL   MAL\n",
    "61  1  1 15.04 14.96 13.17  9.29   NaN  9.87 13.67 10.25 10.83 12.58 18.50 15.04\n",
    "61  1  2 14.71   NaN 10.83  6.50 12.62  7.67 11.50 10.04  9.79  9.67 17.54 13.83\n",
    "61  1  3 18.50 16.88 12.33 10.13 11.17  6.17 11.25   NaN  8.50  7.67 12.75 12.71\n",
    "\"\"\""
   ]
  },
  {
   "cell_type": "markdown",
   "metadata": {},
   "source": [
    "   The first three columns are year, month and day.  The\n",
    "   remaining 12 columns are average windspeeds in knots at 12\n",
    "   locations in Ireland on that day.   \n",
    "\n",
    "   More information about the dataset go [here](wind.desc)."
   ]
  },
  {
   "cell_type": "markdown",
   "metadata": {
    "collapsed": false
   },
   "source": [
    "### Step 1. Import the necessary libraries"
   ]
  },
  {
   "cell_type": "code",
   "execution_count": 100,
   "metadata": {
    "collapsed": false
   },
   "outputs": [],
   "source": [
    "import numpy as np\n",
    "import pandas as pd"
   ]
  },
  {
   "cell_type": "markdown",
   "metadata": {},
   "source": [
    "### Step 2. Import the dataset from this [address](https://raw.githubusercontent.com/guipsamora/pandas_exercises/master/06_Stats/Wind_Stats/wind.data)"
   ]
  },
  {
   "cell_type": "markdown",
   "metadata": {},
   "source": [
    "### Step 3. Assign it to a variable called data and replace the first 3 columns by a proper datetime index."
   ]
  },
  {
   "cell_type": "code",
   "execution_count": 101,
   "metadata": {
    "collapsed": false
   },
   "outputs": [
    {
     "data": {
      "text/plain": "      Yr  Mo  Dy    RPT    VAL    ROS    KIL    SHA    BIR    DUB    CLA  \\\n0     61   1   1  15.04  14.96  13.17   9.29    NaN   9.87  13.67  10.25   \n1     61   1   2  14.71    NaN  10.83   6.50  12.62   7.67  11.50  10.04   \n2     61   1   3  18.50  16.88  12.33  10.13  11.17   6.17  11.25    NaN   \n3     61   1   4  10.58   6.63  11.75   4.58   4.54   2.88   8.63   1.79   \n4     61   1   5  13.33  13.25  11.42   6.17  10.71   8.21  11.92   6.54   \n...   ..  ..  ..    ...    ...    ...    ...    ...    ...    ...    ...   \n6569  78  12  27  17.58  16.96  17.62   8.08  13.21  11.67  14.46  15.59   \n6570  78  12  28  13.21   5.46  13.46   5.00   8.12   9.42  14.33  16.25   \n6571  78  12  29  14.00  10.29  14.42   8.71   9.71  10.54  19.17  12.46   \n6572  78  12  30  18.50  14.04  21.29   9.13  12.75   9.71  18.08  12.87   \n6573  78  12  31  20.33  17.41  27.29   9.59  12.08  10.13  19.25  11.63   \n\n        MUL    CLO    BEL    MAL  \n0     10.83  12.58  18.50  15.04  \n1      9.79   9.67  17.54  13.83  \n2      8.50   7.67  12.75  12.71  \n3      5.83   5.88   5.46  10.88  \n4     10.92  10.34  12.92  11.83  \n...     ...    ...    ...    ...  \n6569  14.04  14.00  17.21  40.08  \n6570  15.25  18.05  21.79  41.46  \n6571  14.50  16.42  18.88  29.58  \n6572  12.46  12.12  14.67  28.79  \n6573  11.58  11.38  12.08  22.08  \n\n[6574 rows x 15 columns]",
      "text/html": "<div>\n<style scoped>\n    .dataframe tbody tr th:only-of-type {\n        vertical-align: middle;\n    }\n\n    .dataframe tbody tr th {\n        vertical-align: top;\n    }\n\n    .dataframe thead th {\n        text-align: right;\n    }\n</style>\n<table border=\"1\" class=\"dataframe\">\n  <thead>\n    <tr style=\"text-align: right;\">\n      <th></th>\n      <th>Yr</th>\n      <th>Mo</th>\n      <th>Dy</th>\n      <th>RPT</th>\n      <th>VAL</th>\n      <th>ROS</th>\n      <th>KIL</th>\n      <th>SHA</th>\n      <th>BIR</th>\n      <th>DUB</th>\n      <th>CLA</th>\n      <th>MUL</th>\n      <th>CLO</th>\n      <th>BEL</th>\n      <th>MAL</th>\n    </tr>\n  </thead>\n  <tbody>\n    <tr>\n      <th>0</th>\n      <td>61</td>\n      <td>1</td>\n      <td>1</td>\n      <td>15.04</td>\n      <td>14.96</td>\n      <td>13.17</td>\n      <td>9.29</td>\n      <td>NaN</td>\n      <td>9.87</td>\n      <td>13.67</td>\n      <td>10.25</td>\n      <td>10.83</td>\n      <td>12.58</td>\n      <td>18.50</td>\n      <td>15.04</td>\n    </tr>\n    <tr>\n      <th>1</th>\n      <td>61</td>\n      <td>1</td>\n      <td>2</td>\n      <td>14.71</td>\n      <td>NaN</td>\n      <td>10.83</td>\n      <td>6.50</td>\n      <td>12.62</td>\n      <td>7.67</td>\n      <td>11.50</td>\n      <td>10.04</td>\n      <td>9.79</td>\n      <td>9.67</td>\n      <td>17.54</td>\n      <td>13.83</td>\n    </tr>\n    <tr>\n      <th>2</th>\n      <td>61</td>\n      <td>1</td>\n      <td>3</td>\n      <td>18.50</td>\n      <td>16.88</td>\n      <td>12.33</td>\n      <td>10.13</td>\n      <td>11.17</td>\n      <td>6.17</td>\n      <td>11.25</td>\n      <td>NaN</td>\n      <td>8.50</td>\n      <td>7.67</td>\n      <td>12.75</td>\n      <td>12.71</td>\n    </tr>\n    <tr>\n      <th>3</th>\n      <td>61</td>\n      <td>1</td>\n      <td>4</td>\n      <td>10.58</td>\n      <td>6.63</td>\n      <td>11.75</td>\n      <td>4.58</td>\n      <td>4.54</td>\n      <td>2.88</td>\n      <td>8.63</td>\n      <td>1.79</td>\n      <td>5.83</td>\n      <td>5.88</td>\n      <td>5.46</td>\n      <td>10.88</td>\n    </tr>\n    <tr>\n      <th>4</th>\n      <td>61</td>\n      <td>1</td>\n      <td>5</td>\n      <td>13.33</td>\n      <td>13.25</td>\n      <td>11.42</td>\n      <td>6.17</td>\n      <td>10.71</td>\n      <td>8.21</td>\n      <td>11.92</td>\n      <td>6.54</td>\n      <td>10.92</td>\n      <td>10.34</td>\n      <td>12.92</td>\n      <td>11.83</td>\n    </tr>\n    <tr>\n      <th>...</th>\n      <td>...</td>\n      <td>...</td>\n      <td>...</td>\n      <td>...</td>\n      <td>...</td>\n      <td>...</td>\n      <td>...</td>\n      <td>...</td>\n      <td>...</td>\n      <td>...</td>\n      <td>...</td>\n      <td>...</td>\n      <td>...</td>\n      <td>...</td>\n      <td>...</td>\n    </tr>\n    <tr>\n      <th>6569</th>\n      <td>78</td>\n      <td>12</td>\n      <td>27</td>\n      <td>17.58</td>\n      <td>16.96</td>\n      <td>17.62</td>\n      <td>8.08</td>\n      <td>13.21</td>\n      <td>11.67</td>\n      <td>14.46</td>\n      <td>15.59</td>\n      <td>14.04</td>\n      <td>14.00</td>\n      <td>17.21</td>\n      <td>40.08</td>\n    </tr>\n    <tr>\n      <th>6570</th>\n      <td>78</td>\n      <td>12</td>\n      <td>28</td>\n      <td>13.21</td>\n      <td>5.46</td>\n      <td>13.46</td>\n      <td>5.00</td>\n      <td>8.12</td>\n      <td>9.42</td>\n      <td>14.33</td>\n      <td>16.25</td>\n      <td>15.25</td>\n      <td>18.05</td>\n      <td>21.79</td>\n      <td>41.46</td>\n    </tr>\n    <tr>\n      <th>6571</th>\n      <td>78</td>\n      <td>12</td>\n      <td>29</td>\n      <td>14.00</td>\n      <td>10.29</td>\n      <td>14.42</td>\n      <td>8.71</td>\n      <td>9.71</td>\n      <td>10.54</td>\n      <td>19.17</td>\n      <td>12.46</td>\n      <td>14.50</td>\n      <td>16.42</td>\n      <td>18.88</td>\n      <td>29.58</td>\n    </tr>\n    <tr>\n      <th>6572</th>\n      <td>78</td>\n      <td>12</td>\n      <td>30</td>\n      <td>18.50</td>\n      <td>14.04</td>\n      <td>21.29</td>\n      <td>9.13</td>\n      <td>12.75</td>\n      <td>9.71</td>\n      <td>18.08</td>\n      <td>12.87</td>\n      <td>12.46</td>\n      <td>12.12</td>\n      <td>14.67</td>\n      <td>28.79</td>\n    </tr>\n    <tr>\n      <th>6573</th>\n      <td>78</td>\n      <td>12</td>\n      <td>31</td>\n      <td>20.33</td>\n      <td>17.41</td>\n      <td>27.29</td>\n      <td>9.59</td>\n      <td>12.08</td>\n      <td>10.13</td>\n      <td>19.25</td>\n      <td>11.63</td>\n      <td>11.58</td>\n      <td>11.38</td>\n      <td>12.08</td>\n      <td>22.08</td>\n    </tr>\n  </tbody>\n</table>\n<p>6574 rows × 15 columns</p>\n</div>"
     },
     "execution_count": 101,
     "metadata": {},
     "output_type": "execute_result"
    }
   ],
   "source": [
    "url = 'https://raw.githubusercontent.com/guipsamora/pandas_exercises/master/06_Stats/Wind_Stats/wind.data'\n",
    "\n",
    "#or JUST\n",
    "data = pd.read_csv(url, sep='\\s+', parse_dates=[[0, 1, 2]])\n",
    "\n",
    "data = pd.read_csv(url, sep='\\s+')\n",
    "dates = pd.to_datetime((data.Yr + 2000).astype(str) + '-' + (data.Mo).astype(str) + '-' + (data.Dy).astype(str))\n",
    "\n",
    "data"
   ]
  },
  {
   "cell_type": "markdown",
   "metadata": {},
   "source": [
    "### Step 4. Year 2061? Do we really have data from this year? Create a function to fix it and apply it."
   ]
  },
  {
   "cell_type": "code",
   "execution_count": 102,
   "metadata": {
    "collapsed": false
   },
   "outputs": [
    {
     "data": {
      "text/plain": "0      1961-01-26\n1      1961-01-27\n2      1961-01-28\n3      1961-01-29\n4      1961-01-30\n          ...    \n6569   1979-01-21\n6570   1979-01-22\n6571   1979-01-23\n6572   1979-01-24\n6573   1979-01-25\nLength: 6574, dtype: datetime64[ns]"
     },
     "execution_count": 102,
     "metadata": {},
     "output_type": "execute_result"
    }
   ],
   "source": [
    "dates -= pd.Timedelta(100 * 365, 'D')\n",
    "dates"
   ]
  },
  {
   "cell_type": "markdown",
   "metadata": {},
   "source": [
    "### Step 5. Set the right dates as the index. Pay attention at the data type, it should be datetime64[ns]."
   ]
  },
  {
   "cell_type": "code",
   "execution_count": 103,
   "metadata": {
    "collapsed": false
   },
   "outputs": [],
   "source": [
    "data.index = dates\n",
    "data.drop(columns=['Yr', 'Mo', 'Dy'], inplace=True)"
   ]
  },
  {
   "cell_type": "markdown",
   "metadata": {},
   "source": [
    "### Step 6. Compute how many values are missing for each location over the entire record.  \n",
    "#### They should be ignored in all calculations below. "
   ]
  },
  {
   "cell_type": "code",
   "execution_count": 104,
   "metadata": {
    "collapsed": false
   },
   "outputs": [
    {
     "data": {
      "text/plain": "RPT    6\nVAL    3\nROS    2\nKIL    5\nSHA    2\nBIR    0\nDUB    3\nCLA    2\nMUL    3\nCLO    1\nBEL    0\nMAL    4\ndtype: int64"
     },
     "execution_count": 104,
     "metadata": {},
     "output_type": "execute_result"
    }
   ],
   "source": [
    "data.isnull().sum()"
   ]
  },
  {
   "cell_type": "markdown",
   "metadata": {},
   "source": [
    "### Step 7. Compute how many non-missing values there are in total."
   ]
  },
  {
   "cell_type": "code",
   "execution_count": 105,
   "metadata": {
    "collapsed": false,
    "scrolled": true
   },
   "outputs": [],
   "source": [
    "nonmissing = data.notnull().sum().sum()"
   ]
  },
  {
   "cell_type": "markdown",
   "metadata": {},
   "source": [
    "### Step 8. Calculate the mean windspeeds of the windspeeds over all the locations and all the times.\n",
    "#### A single number for the entire dataset."
   ]
  },
  {
   "cell_type": "code",
   "execution_count": 106,
   "metadata": {
    "collapsed": false
   },
   "outputs": [
    {
     "data": {
      "text/plain": "10.227883764282181"
     },
     "execution_count": 106,
     "metadata": {},
     "output_type": "execute_result"
    }
   ],
   "source": [
    "# data.mean().mean()\n",
    "data.sum().sum() / nonmissing\n"
   ]
  },
  {
   "cell_type": "markdown",
   "metadata": {},
   "source": [
    "### Step 9. Create a DataFrame called loc_stats and calculate the min, max and mean windspeeds and standard deviations of the windspeeds at each location over all the days \n",
    "\n",
    "#### A different set of numbers for each location."
   ]
  },
  {
   "cell_type": "code",
   "execution_count": 107,
   "metadata": {
    "collapsed": false
   },
   "outputs": [
    {
     "data": {
      "text/plain": "               RPT          VAL          ROS          KIL          SHA  \\\ncount  6568.000000  6571.000000  6572.000000  6569.000000  6572.000000   \nmean     12.362987    10.644314    11.660526     6.306468    10.455834   \nstd       5.618413     5.267356     5.008450     3.605811     4.936125   \nmin       0.670000     0.210000     1.500000     0.000000     0.130000   \n50%      11.710000    10.170000    10.920000     5.750000     9.960000   \nmax      35.800000    33.370000    33.840000    28.460000    37.540000   \n\n               BIR          DUB          CLA          MUL          CLO  \\\ncount  6574.000000  6571.000000  6572.000000  6571.000000  6573.000000   \nmean      7.092254     9.797343     8.495053     8.493590     8.707332   \nstd       3.968683     4.977555     4.499449     4.166872     4.503954   \nmin       0.000000     0.000000     0.000000     0.000000     0.040000   \n50%       6.830000     9.210000     8.080000     8.170000     8.290000   \nmax      26.160000    30.370000    31.080000    25.880000    28.210000   \n\n               BEL          MAL  \ncount  6574.000000  6570.000000  \nmean     13.121007    15.599079  \nstd       5.835037     6.699794  \nmin       0.130000     0.670000  \n50%      12.500000    15.000000  \nmax      42.380000    42.540000  ",
      "text/html": "<div>\n<style scoped>\n    .dataframe tbody tr th:only-of-type {\n        vertical-align: middle;\n    }\n\n    .dataframe tbody tr th {\n        vertical-align: top;\n    }\n\n    .dataframe thead th {\n        text-align: right;\n    }\n</style>\n<table border=\"1\" class=\"dataframe\">\n  <thead>\n    <tr style=\"text-align: right;\">\n      <th></th>\n      <th>RPT</th>\n      <th>VAL</th>\n      <th>ROS</th>\n      <th>KIL</th>\n      <th>SHA</th>\n      <th>BIR</th>\n      <th>DUB</th>\n      <th>CLA</th>\n      <th>MUL</th>\n      <th>CLO</th>\n      <th>BEL</th>\n      <th>MAL</th>\n    </tr>\n  </thead>\n  <tbody>\n    <tr>\n      <th>count</th>\n      <td>6568.000000</td>\n      <td>6571.000000</td>\n      <td>6572.000000</td>\n      <td>6569.000000</td>\n      <td>6572.000000</td>\n      <td>6574.000000</td>\n      <td>6571.000000</td>\n      <td>6572.000000</td>\n      <td>6571.000000</td>\n      <td>6573.000000</td>\n      <td>6574.000000</td>\n      <td>6570.000000</td>\n    </tr>\n    <tr>\n      <th>mean</th>\n      <td>12.362987</td>\n      <td>10.644314</td>\n      <td>11.660526</td>\n      <td>6.306468</td>\n      <td>10.455834</td>\n      <td>7.092254</td>\n      <td>9.797343</td>\n      <td>8.495053</td>\n      <td>8.493590</td>\n      <td>8.707332</td>\n      <td>13.121007</td>\n      <td>15.599079</td>\n    </tr>\n    <tr>\n      <th>std</th>\n      <td>5.618413</td>\n      <td>5.267356</td>\n      <td>5.008450</td>\n      <td>3.605811</td>\n      <td>4.936125</td>\n      <td>3.968683</td>\n      <td>4.977555</td>\n      <td>4.499449</td>\n      <td>4.166872</td>\n      <td>4.503954</td>\n      <td>5.835037</td>\n      <td>6.699794</td>\n    </tr>\n    <tr>\n      <th>min</th>\n      <td>0.670000</td>\n      <td>0.210000</td>\n      <td>1.500000</td>\n      <td>0.000000</td>\n      <td>0.130000</td>\n      <td>0.000000</td>\n      <td>0.000000</td>\n      <td>0.000000</td>\n      <td>0.000000</td>\n      <td>0.040000</td>\n      <td>0.130000</td>\n      <td>0.670000</td>\n    </tr>\n    <tr>\n      <th>50%</th>\n      <td>11.710000</td>\n      <td>10.170000</td>\n      <td>10.920000</td>\n      <td>5.750000</td>\n      <td>9.960000</td>\n      <td>6.830000</td>\n      <td>9.210000</td>\n      <td>8.080000</td>\n      <td>8.170000</td>\n      <td>8.290000</td>\n      <td>12.500000</td>\n      <td>15.000000</td>\n    </tr>\n    <tr>\n      <th>max</th>\n      <td>35.800000</td>\n      <td>33.370000</td>\n      <td>33.840000</td>\n      <td>28.460000</td>\n      <td>37.540000</td>\n      <td>26.160000</td>\n      <td>30.370000</td>\n      <td>31.080000</td>\n      <td>25.880000</td>\n      <td>28.210000</td>\n      <td>42.380000</td>\n      <td>42.540000</td>\n    </tr>\n  </tbody>\n</table>\n</div>"
     },
     "execution_count": 107,
     "metadata": {},
     "output_type": "execute_result"
    }
   ],
   "source": [
    "loc_stats = data.describe(percentiles=[])\n",
    "loc_stats"
   ]
  },
  {
   "cell_type": "markdown",
   "metadata": {},
   "source": [
    "### Step 10. Create a DataFrame called day_stats and calculate the min, max and mean windspeed and standard deviations of the windspeeds across all the locations at each day.\n",
    "\n",
    "#### A different set of numbers for each day."
   ]
  },
  {
   "cell_type": "code",
   "execution_count": 108,
   "metadata": {
    "collapsed": false
   },
   "outputs": [
    {
     "data": {
      "text/plain": "       1961-01-26  1961-01-27  1961-01-28  1961-01-29  1961-01-30  1961-01-31  \\\ncount   11.000000   11.000000   11.000000   12.000000   12.000000   12.000000   \nmean    13.018182   11.336364   11.641818    6.619167   10.630000    8.240000   \nstd      2.808875    3.188994    3.681912    3.198126    2.445356    2.998063   \nmin      9.290000    6.500000    6.170000    1.790000    6.170000    4.420000   \nmax     18.500000   17.540000   18.500000   11.750000   13.330000   13.210000   \n\n       1961-02-01  1961-02-02  1961-02-03  1961-02-04  ...  1979-01-16  \\\ncount   12.000000   12.000000   12.000000    12.00000  ...   12.000000   \nmean    10.385000   10.487500    9.897500    10.47750  ...    7.000833   \nstd      3.072114    3.547237    2.905954     3.44261  ...    3.237337   \nmin      4.960000    5.910000    4.750000     6.54000  ...    2.460000   \nmax     14.290000   16.620000   15.370000    19.50000  ...   13.080000   \n\n       1979-01-17  1979-01-18  1979-01-19  1979-01-20  1979-01-21  1979-01-22  \\\ncount   12.000000   12.000000   12.000000   12.000000   12.000000   12.000000   \nmean    15.613333   10.823333    5.729167    6.523333   16.708333   15.150000   \nstd      3.850840    7.195039    3.583263    4.304510    7.868076    9.687857   \nmin      9.500000    4.790000    0.750000    1.960000    8.080000    5.000000   \nmax     22.210000   31.710000   13.960000   13.830000   40.080000   41.460000   \n\n       1979-01-23  1979-01-24  1979-01-25  \ncount   12.000000   12.000000   12.000000  \nmean    14.890000   15.367500   15.402500  \nstd      5.756836    5.540437    5.702483  \nmin      8.710000    9.130000    9.590000  \nmax     29.580000   28.790000   27.290000  \n\n[5 rows x 6574 columns]",
      "text/html": "<div>\n<style scoped>\n    .dataframe tbody tr th:only-of-type {\n        vertical-align: middle;\n    }\n\n    .dataframe tbody tr th {\n        vertical-align: top;\n    }\n\n    .dataframe thead th {\n        text-align: right;\n    }\n</style>\n<table border=\"1\" class=\"dataframe\">\n  <thead>\n    <tr style=\"text-align: right;\">\n      <th></th>\n      <th>1961-01-26</th>\n      <th>1961-01-27</th>\n      <th>1961-01-28</th>\n      <th>1961-01-29</th>\n      <th>1961-01-30</th>\n      <th>1961-01-31</th>\n      <th>1961-02-01</th>\n      <th>1961-02-02</th>\n      <th>1961-02-03</th>\n      <th>1961-02-04</th>\n      <th>...</th>\n      <th>1979-01-16</th>\n      <th>1979-01-17</th>\n      <th>1979-01-18</th>\n      <th>1979-01-19</th>\n      <th>1979-01-20</th>\n      <th>1979-01-21</th>\n      <th>1979-01-22</th>\n      <th>1979-01-23</th>\n      <th>1979-01-24</th>\n      <th>1979-01-25</th>\n    </tr>\n  </thead>\n  <tbody>\n    <tr>\n      <th>count</th>\n      <td>11.000000</td>\n      <td>11.000000</td>\n      <td>11.000000</td>\n      <td>12.000000</td>\n      <td>12.000000</td>\n      <td>12.000000</td>\n      <td>12.000000</td>\n      <td>12.000000</td>\n      <td>12.000000</td>\n      <td>12.00000</td>\n      <td>...</td>\n      <td>12.000000</td>\n      <td>12.000000</td>\n      <td>12.000000</td>\n      <td>12.000000</td>\n      <td>12.000000</td>\n      <td>12.000000</td>\n      <td>12.000000</td>\n      <td>12.000000</td>\n      <td>12.000000</td>\n      <td>12.000000</td>\n    </tr>\n    <tr>\n      <th>mean</th>\n      <td>13.018182</td>\n      <td>11.336364</td>\n      <td>11.641818</td>\n      <td>6.619167</td>\n      <td>10.630000</td>\n      <td>8.240000</td>\n      <td>10.385000</td>\n      <td>10.487500</td>\n      <td>9.897500</td>\n      <td>10.47750</td>\n      <td>...</td>\n      <td>7.000833</td>\n      <td>15.613333</td>\n      <td>10.823333</td>\n      <td>5.729167</td>\n      <td>6.523333</td>\n      <td>16.708333</td>\n      <td>15.150000</td>\n      <td>14.890000</td>\n      <td>15.367500</td>\n      <td>15.402500</td>\n    </tr>\n    <tr>\n      <th>std</th>\n      <td>2.808875</td>\n      <td>3.188994</td>\n      <td>3.681912</td>\n      <td>3.198126</td>\n      <td>2.445356</td>\n      <td>2.998063</td>\n      <td>3.072114</td>\n      <td>3.547237</td>\n      <td>2.905954</td>\n      <td>3.44261</td>\n      <td>...</td>\n      <td>3.237337</td>\n      <td>3.850840</td>\n      <td>7.195039</td>\n      <td>3.583263</td>\n      <td>4.304510</td>\n      <td>7.868076</td>\n      <td>9.687857</td>\n      <td>5.756836</td>\n      <td>5.540437</td>\n      <td>5.702483</td>\n    </tr>\n    <tr>\n      <th>min</th>\n      <td>9.290000</td>\n      <td>6.500000</td>\n      <td>6.170000</td>\n      <td>1.790000</td>\n      <td>6.170000</td>\n      <td>4.420000</td>\n      <td>4.960000</td>\n      <td>5.910000</td>\n      <td>4.750000</td>\n      <td>6.54000</td>\n      <td>...</td>\n      <td>2.460000</td>\n      <td>9.500000</td>\n      <td>4.790000</td>\n      <td>0.750000</td>\n      <td>1.960000</td>\n      <td>8.080000</td>\n      <td>5.000000</td>\n      <td>8.710000</td>\n      <td>9.130000</td>\n      <td>9.590000</td>\n    </tr>\n    <tr>\n      <th>max</th>\n      <td>18.500000</td>\n      <td>17.540000</td>\n      <td>18.500000</td>\n      <td>11.750000</td>\n      <td>13.330000</td>\n      <td>13.210000</td>\n      <td>14.290000</td>\n      <td>16.620000</td>\n      <td>15.370000</td>\n      <td>19.50000</td>\n      <td>...</td>\n      <td>13.080000</td>\n      <td>22.210000</td>\n      <td>31.710000</td>\n      <td>13.960000</td>\n      <td>13.830000</td>\n      <td>40.080000</td>\n      <td>41.460000</td>\n      <td>29.580000</td>\n      <td>28.790000</td>\n      <td>27.290000</td>\n    </tr>\n  </tbody>\n</table>\n<p>5 rows × 6574 columns</p>\n</div>"
     },
     "execution_count": 108,
     "metadata": {},
     "output_type": "execute_result"
    }
   ],
   "source": [
    "day_stats = data.T.describe().drop(index=['25%', '50%', '75%'])\n",
    "day_stats"
   ]
  },
  {
   "cell_type": "markdown",
   "metadata": {},
   "source": [
    "### Step 11. Find the average windspeed in January for each location.  \n",
    "#### Treat January 1961 and January 1962 both as January."
   ]
  },
  {
   "cell_type": "code",
   "execution_count": 114,
   "metadata": {
    "collapsed": false
   },
   "outputs": [
    {
     "data": {
      "text/plain": "RPT    14.110735\nVAL    11.787540\nROS    13.070538\nKIL     6.638315\nSHA    10.785655\nBIR     7.549570\nDUB    11.496900\nCLA     8.856194\nMUL     9.136846\nCLO     9.387348\nBEL    13.839104\nMAL    18.200341\ndtype: float64"
     },
     "execution_count": 114,
     "metadata": {},
     "output_type": "execute_result"
    }
   ],
   "source": [
    "data[data.index.month == 1].mean()"
   ]
  },
  {
   "cell_type": "markdown",
   "metadata": {},
   "source": [
    "### Step 12. Downsample the record to a yearly frequency for each location."
   ]
  },
  {
   "cell_type": "code",
   "execution_count": 110,
   "metadata": {
    "collapsed": false
   },
   "outputs": [
    {
     "data": {
      "text/plain": "                  RPT        VAL        ROS       KIL        SHA       BIR  \\\n1961-01-01  12.083851  10.215045  11.140237  6.945952  10.816183  7.674676   \n1962-01-01  12.122692  10.027863  11.710548  6.766758  10.508795  7.258219   \n1963-01-01  13.004438  10.961918  12.581342  7.540274  11.884082  8.601425   \n1964-01-01  12.297514  10.856448  12.047240  6.787213  11.505656  7.610410   \n1965-01-01  12.509863  11.070301  11.995973  6.847945  10.958219  7.446822   \n1966-01-01  13.367342  11.447151  12.063644  7.207945  11.572932  7.613589   \n1967-01-01  12.892959  11.242438  11.747836  7.266247  11.893726  7.643452   \n1968-01-01  11.838115  10.446694  11.333579  6.568251  10.888251  6.154454   \n1969-01-01  11.174521   9.670027  10.925973  5.819233   9.871808  6.025836   \n1970-01-01  12.655589  10.924493  11.593945  6.192137  10.601918  7.760247   \n1971-01-01  11.145562   8.918904  11.092219  5.140959   9.281918  5.868849   \n1972-01-01  12.407623  10.286093  12.135820  5.868497   9.426503  6.292842   \n1973-01-01  11.900411  10.855342  10.830082  5.687205   9.660959  6.726274   \n1974-01-01  13.269863  11.420164  12.063753  6.112000  10.672219  6.574466   \n1975-01-01  12.591699  11.003178  11.868712  5.706493   9.997973  6.126822   \n1976-01-01  11.716448  10.146230  10.802568  5.170956   8.750738  6.173306   \n1977-01-01  12.935397  10.940767  12.505205  5.870411   9.779890  8.419781   \n1978-01-01  12.396356  10.990959  11.177753  6.054411  10.173260  7.663342   \n1979-01-01  15.329600  12.732400  15.098000  6.567600  10.310800  8.136400   \n\n                  DUB        CLA       MUL        CLO        BEL        MAL  \n1961-01-01   9.586617   8.891213  8.704599   9.877788  13.603000  13.802433  \n1962-01-01  10.792247   8.572548  8.075753   9.455315  12.636575  13.703874  \n1963-01-01  11.370575  10.450082  9.171041  10.410658  13.766877  15.354877  \n1964-01-01  10.173634   9.576557  7.756366  10.155492  13.699945  14.818087  \n1965-01-01  10.688548   8.863151  7.902932   9.937425  13.076795  15.747507  \n1966-01-01  10.316575   8.669890  8.250055   9.735041  13.974986  15.959699  \n1967-01-01  10.827836   9.448877  8.798110   9.692712  14.920877  17.131233  \n1968-01-01   9.050273   8.420000  7.341913   7.795437  13.043634  15.072787  \n1969-01-01   8.521863   7.588822  7.882767   7.860603  12.532795  15.891781  \n1970-01-01   9.734329   8.506110  9.387288   8.346603  13.486712  16.534767  \n1971-01-01   8.035945   6.515288  7.670438   6.918000  11.601479  14.595671  \n1972-01-01   9.802049   7.586503  8.404454   7.625628  12.733661  15.246803  \n1973-01-01   8.557370   7.776904  8.284110   7.799288  12.451178  15.394822  \n1974-01-01   9.655205   9.419973  8.935151   8.508164  12.891397  16.648164  \n1975-01-01   9.045205   8.522603  9.304247   7.812055  13.127781  15.740027  \n1976-01-01   9.337514   7.233251  9.039891   7.948770  12.639699  15.698552  \n1977-01-01  11.213781   8.024712  8.827014   8.660986  13.091973  16.379562  \n1978-01-01   9.542959   8.806110  9.085534   8.184192  12.943096  16.570904  \n1979-01-01  11.049200   9.529600  9.706400  10.090800  12.970400  20.754800  ",
      "text/html": "<div>\n<style scoped>\n    .dataframe tbody tr th:only-of-type {\n        vertical-align: middle;\n    }\n\n    .dataframe tbody tr th {\n        vertical-align: top;\n    }\n\n    .dataframe thead th {\n        text-align: right;\n    }\n</style>\n<table border=\"1\" class=\"dataframe\">\n  <thead>\n    <tr style=\"text-align: right;\">\n      <th></th>\n      <th>RPT</th>\n      <th>VAL</th>\n      <th>ROS</th>\n      <th>KIL</th>\n      <th>SHA</th>\n      <th>BIR</th>\n      <th>DUB</th>\n      <th>CLA</th>\n      <th>MUL</th>\n      <th>CLO</th>\n      <th>BEL</th>\n      <th>MAL</th>\n    </tr>\n  </thead>\n  <tbody>\n    <tr>\n      <th>1961-01-01</th>\n      <td>12.083851</td>\n      <td>10.215045</td>\n      <td>11.140237</td>\n      <td>6.945952</td>\n      <td>10.816183</td>\n      <td>7.674676</td>\n      <td>9.586617</td>\n      <td>8.891213</td>\n      <td>8.704599</td>\n      <td>9.877788</td>\n      <td>13.603000</td>\n      <td>13.802433</td>\n    </tr>\n    <tr>\n      <th>1962-01-01</th>\n      <td>12.122692</td>\n      <td>10.027863</td>\n      <td>11.710548</td>\n      <td>6.766758</td>\n      <td>10.508795</td>\n      <td>7.258219</td>\n      <td>10.792247</td>\n      <td>8.572548</td>\n      <td>8.075753</td>\n      <td>9.455315</td>\n      <td>12.636575</td>\n      <td>13.703874</td>\n    </tr>\n    <tr>\n      <th>1963-01-01</th>\n      <td>13.004438</td>\n      <td>10.961918</td>\n      <td>12.581342</td>\n      <td>7.540274</td>\n      <td>11.884082</td>\n      <td>8.601425</td>\n      <td>11.370575</td>\n      <td>10.450082</td>\n      <td>9.171041</td>\n      <td>10.410658</td>\n      <td>13.766877</td>\n      <td>15.354877</td>\n    </tr>\n    <tr>\n      <th>1964-01-01</th>\n      <td>12.297514</td>\n      <td>10.856448</td>\n      <td>12.047240</td>\n      <td>6.787213</td>\n      <td>11.505656</td>\n      <td>7.610410</td>\n      <td>10.173634</td>\n      <td>9.576557</td>\n      <td>7.756366</td>\n      <td>10.155492</td>\n      <td>13.699945</td>\n      <td>14.818087</td>\n    </tr>\n    <tr>\n      <th>1965-01-01</th>\n      <td>12.509863</td>\n      <td>11.070301</td>\n      <td>11.995973</td>\n      <td>6.847945</td>\n      <td>10.958219</td>\n      <td>7.446822</td>\n      <td>10.688548</td>\n      <td>8.863151</td>\n      <td>7.902932</td>\n      <td>9.937425</td>\n      <td>13.076795</td>\n      <td>15.747507</td>\n    </tr>\n    <tr>\n      <th>1966-01-01</th>\n      <td>13.367342</td>\n      <td>11.447151</td>\n      <td>12.063644</td>\n      <td>7.207945</td>\n      <td>11.572932</td>\n      <td>7.613589</td>\n      <td>10.316575</td>\n      <td>8.669890</td>\n      <td>8.250055</td>\n      <td>9.735041</td>\n      <td>13.974986</td>\n      <td>15.959699</td>\n    </tr>\n    <tr>\n      <th>1967-01-01</th>\n      <td>12.892959</td>\n      <td>11.242438</td>\n      <td>11.747836</td>\n      <td>7.266247</td>\n      <td>11.893726</td>\n      <td>7.643452</td>\n      <td>10.827836</td>\n      <td>9.448877</td>\n      <td>8.798110</td>\n      <td>9.692712</td>\n      <td>14.920877</td>\n      <td>17.131233</td>\n    </tr>\n    <tr>\n      <th>1968-01-01</th>\n      <td>11.838115</td>\n      <td>10.446694</td>\n      <td>11.333579</td>\n      <td>6.568251</td>\n      <td>10.888251</td>\n      <td>6.154454</td>\n      <td>9.050273</td>\n      <td>8.420000</td>\n      <td>7.341913</td>\n      <td>7.795437</td>\n      <td>13.043634</td>\n      <td>15.072787</td>\n    </tr>\n    <tr>\n      <th>1969-01-01</th>\n      <td>11.174521</td>\n      <td>9.670027</td>\n      <td>10.925973</td>\n      <td>5.819233</td>\n      <td>9.871808</td>\n      <td>6.025836</td>\n      <td>8.521863</td>\n      <td>7.588822</td>\n      <td>7.882767</td>\n      <td>7.860603</td>\n      <td>12.532795</td>\n      <td>15.891781</td>\n    </tr>\n    <tr>\n      <th>1970-01-01</th>\n      <td>12.655589</td>\n      <td>10.924493</td>\n      <td>11.593945</td>\n      <td>6.192137</td>\n      <td>10.601918</td>\n      <td>7.760247</td>\n      <td>9.734329</td>\n      <td>8.506110</td>\n      <td>9.387288</td>\n      <td>8.346603</td>\n      <td>13.486712</td>\n      <td>16.534767</td>\n    </tr>\n    <tr>\n      <th>1971-01-01</th>\n      <td>11.145562</td>\n      <td>8.918904</td>\n      <td>11.092219</td>\n      <td>5.140959</td>\n      <td>9.281918</td>\n      <td>5.868849</td>\n      <td>8.035945</td>\n      <td>6.515288</td>\n      <td>7.670438</td>\n      <td>6.918000</td>\n      <td>11.601479</td>\n      <td>14.595671</td>\n    </tr>\n    <tr>\n      <th>1972-01-01</th>\n      <td>12.407623</td>\n      <td>10.286093</td>\n      <td>12.135820</td>\n      <td>5.868497</td>\n      <td>9.426503</td>\n      <td>6.292842</td>\n      <td>9.802049</td>\n      <td>7.586503</td>\n      <td>8.404454</td>\n      <td>7.625628</td>\n      <td>12.733661</td>\n      <td>15.246803</td>\n    </tr>\n    <tr>\n      <th>1973-01-01</th>\n      <td>11.900411</td>\n      <td>10.855342</td>\n      <td>10.830082</td>\n      <td>5.687205</td>\n      <td>9.660959</td>\n      <td>6.726274</td>\n      <td>8.557370</td>\n      <td>7.776904</td>\n      <td>8.284110</td>\n      <td>7.799288</td>\n      <td>12.451178</td>\n      <td>15.394822</td>\n    </tr>\n    <tr>\n      <th>1974-01-01</th>\n      <td>13.269863</td>\n      <td>11.420164</td>\n      <td>12.063753</td>\n      <td>6.112000</td>\n      <td>10.672219</td>\n      <td>6.574466</td>\n      <td>9.655205</td>\n      <td>9.419973</td>\n      <td>8.935151</td>\n      <td>8.508164</td>\n      <td>12.891397</td>\n      <td>16.648164</td>\n    </tr>\n    <tr>\n      <th>1975-01-01</th>\n      <td>12.591699</td>\n      <td>11.003178</td>\n      <td>11.868712</td>\n      <td>5.706493</td>\n      <td>9.997973</td>\n      <td>6.126822</td>\n      <td>9.045205</td>\n      <td>8.522603</td>\n      <td>9.304247</td>\n      <td>7.812055</td>\n      <td>13.127781</td>\n      <td>15.740027</td>\n    </tr>\n    <tr>\n      <th>1976-01-01</th>\n      <td>11.716448</td>\n      <td>10.146230</td>\n      <td>10.802568</td>\n      <td>5.170956</td>\n      <td>8.750738</td>\n      <td>6.173306</td>\n      <td>9.337514</td>\n      <td>7.233251</td>\n      <td>9.039891</td>\n      <td>7.948770</td>\n      <td>12.639699</td>\n      <td>15.698552</td>\n    </tr>\n    <tr>\n      <th>1977-01-01</th>\n      <td>12.935397</td>\n      <td>10.940767</td>\n      <td>12.505205</td>\n      <td>5.870411</td>\n      <td>9.779890</td>\n      <td>8.419781</td>\n      <td>11.213781</td>\n      <td>8.024712</td>\n      <td>8.827014</td>\n      <td>8.660986</td>\n      <td>13.091973</td>\n      <td>16.379562</td>\n    </tr>\n    <tr>\n      <th>1978-01-01</th>\n      <td>12.396356</td>\n      <td>10.990959</td>\n      <td>11.177753</td>\n      <td>6.054411</td>\n      <td>10.173260</td>\n      <td>7.663342</td>\n      <td>9.542959</td>\n      <td>8.806110</td>\n      <td>9.085534</td>\n      <td>8.184192</td>\n      <td>12.943096</td>\n      <td>16.570904</td>\n    </tr>\n    <tr>\n      <th>1979-01-01</th>\n      <td>15.329600</td>\n      <td>12.732400</td>\n      <td>15.098000</td>\n      <td>6.567600</td>\n      <td>10.310800</td>\n      <td>8.136400</td>\n      <td>11.049200</td>\n      <td>9.529600</td>\n      <td>9.706400</td>\n      <td>10.090800</td>\n      <td>12.970400</td>\n      <td>20.754800</td>\n    </tr>\n  </tbody>\n</table>\n</div>"
     },
     "execution_count": 110,
     "metadata": {},
     "output_type": "execute_result"
    }
   ],
   "source": [
    "data.resample('1AS').mean()"
   ]
  },
  {
   "cell_type": "markdown",
   "metadata": {},
   "source": [
    "### Step 13. Downsample the record to a monthly frequency for each location."
   ]
  },
  {
   "cell_type": "code",
   "execution_count": 111,
   "metadata": {
    "collapsed": false
   },
   "outputs": [
    {
     "data": {
      "text/plain": "                  RPT        VAL        ROS       KIL        SHA        BIR  \\\n1961-01-31  14.228333  11.968000  11.576667  7.223333   8.882000   6.550000   \n1961-02-28  15.135556  12.530357  13.464286  7.643214  11.704444   8.825000   \n1961-03-31  15.239355  14.222258  14.086333  9.130000  13.203871  10.767419   \n1961-04-30  11.184828  10.836000  11.061667  7.181379  10.412667   8.973333   \n1961-05-31  11.218065  10.174194  10.343226  6.393871   9.256129   6.883871   \n...               ...        ...        ...       ...        ...        ...   \n1978-09-30   8.764000   7.816667   8.323333  4.147333   6.542000   6.019333   \n1978-10-31  11.598065  11.512258  11.345484  6.076129  11.357097   9.501935   \n1978-11-30  10.554000   9.510333   9.683667  5.219333   8.785667   7.124667   \n1978-12-31  17.101935  15.278065  14.468387  7.627419  12.347097   9.592903   \n1979-01-31  15.329600  12.732400  15.098000  6.567600  10.310800   8.136400   \n\n                  DUB        CLA        MUL        CLO        BEL        MAL  \n1961-01-31  11.273333   6.608000   8.840000   8.940000  12.548333  12.910000  \n1961-02-28  11.022857   9.255714   8.947857   9.988929  13.785000  14.369286  \n1961-03-31  11.301613  12.089032  11.725000  12.934516  18.905484  15.535667  \n1961-04-30   9.656000   9.509000  10.327241  10.628000  15.915000  15.588667  \n1961-05-31   7.481613   7.807742   7.785161   7.975806  11.781290  10.618387  \n...               ...        ...        ...        ...        ...        ...  \n1978-09-30   5.457000   5.150000   7.282667   5.552667  10.326667  12.361667  \n1978-10-31  11.399032  10.471290  10.681290   9.742581  16.946129  20.719677  \n1978-11-30   8.365333   7.781333   8.569000   8.723000  14.596667  17.123333  \n1978-12-31  12.518065  10.001613  11.260645  11.311290  16.889677  21.444839  \n1979-01-31  11.049200   9.529600   9.706400  10.090800  12.970400  20.754800  \n\n[217 rows x 12 columns]",
      "text/html": "<div>\n<style scoped>\n    .dataframe tbody tr th:only-of-type {\n        vertical-align: middle;\n    }\n\n    .dataframe tbody tr th {\n        vertical-align: top;\n    }\n\n    .dataframe thead th {\n        text-align: right;\n    }\n</style>\n<table border=\"1\" class=\"dataframe\">\n  <thead>\n    <tr style=\"text-align: right;\">\n      <th></th>\n      <th>RPT</th>\n      <th>VAL</th>\n      <th>ROS</th>\n      <th>KIL</th>\n      <th>SHA</th>\n      <th>BIR</th>\n      <th>DUB</th>\n      <th>CLA</th>\n      <th>MUL</th>\n      <th>CLO</th>\n      <th>BEL</th>\n      <th>MAL</th>\n    </tr>\n  </thead>\n  <tbody>\n    <tr>\n      <th>1961-01-31</th>\n      <td>14.228333</td>\n      <td>11.968000</td>\n      <td>11.576667</td>\n      <td>7.223333</td>\n      <td>8.882000</td>\n      <td>6.550000</td>\n      <td>11.273333</td>\n      <td>6.608000</td>\n      <td>8.840000</td>\n      <td>8.940000</td>\n      <td>12.548333</td>\n      <td>12.910000</td>\n    </tr>\n    <tr>\n      <th>1961-02-28</th>\n      <td>15.135556</td>\n      <td>12.530357</td>\n      <td>13.464286</td>\n      <td>7.643214</td>\n      <td>11.704444</td>\n      <td>8.825000</td>\n      <td>11.022857</td>\n      <td>9.255714</td>\n      <td>8.947857</td>\n      <td>9.988929</td>\n      <td>13.785000</td>\n      <td>14.369286</td>\n    </tr>\n    <tr>\n      <th>1961-03-31</th>\n      <td>15.239355</td>\n      <td>14.222258</td>\n      <td>14.086333</td>\n      <td>9.130000</td>\n      <td>13.203871</td>\n      <td>10.767419</td>\n      <td>11.301613</td>\n      <td>12.089032</td>\n      <td>11.725000</td>\n      <td>12.934516</td>\n      <td>18.905484</td>\n      <td>15.535667</td>\n    </tr>\n    <tr>\n      <th>1961-04-30</th>\n      <td>11.184828</td>\n      <td>10.836000</td>\n      <td>11.061667</td>\n      <td>7.181379</td>\n      <td>10.412667</td>\n      <td>8.973333</td>\n      <td>9.656000</td>\n      <td>9.509000</td>\n      <td>10.327241</td>\n      <td>10.628000</td>\n      <td>15.915000</td>\n      <td>15.588667</td>\n    </tr>\n    <tr>\n      <th>1961-05-31</th>\n      <td>11.218065</td>\n      <td>10.174194</td>\n      <td>10.343226</td>\n      <td>6.393871</td>\n      <td>9.256129</td>\n      <td>6.883871</td>\n      <td>7.481613</td>\n      <td>7.807742</td>\n      <td>7.785161</td>\n      <td>7.975806</td>\n      <td>11.781290</td>\n      <td>10.618387</td>\n    </tr>\n    <tr>\n      <th>...</th>\n      <td>...</td>\n      <td>...</td>\n      <td>...</td>\n      <td>...</td>\n      <td>...</td>\n      <td>...</td>\n      <td>...</td>\n      <td>...</td>\n      <td>...</td>\n      <td>...</td>\n      <td>...</td>\n      <td>...</td>\n    </tr>\n    <tr>\n      <th>1978-09-30</th>\n      <td>8.764000</td>\n      <td>7.816667</td>\n      <td>8.323333</td>\n      <td>4.147333</td>\n      <td>6.542000</td>\n      <td>6.019333</td>\n      <td>5.457000</td>\n      <td>5.150000</td>\n      <td>7.282667</td>\n      <td>5.552667</td>\n      <td>10.326667</td>\n      <td>12.361667</td>\n    </tr>\n    <tr>\n      <th>1978-10-31</th>\n      <td>11.598065</td>\n      <td>11.512258</td>\n      <td>11.345484</td>\n      <td>6.076129</td>\n      <td>11.357097</td>\n      <td>9.501935</td>\n      <td>11.399032</td>\n      <td>10.471290</td>\n      <td>10.681290</td>\n      <td>9.742581</td>\n      <td>16.946129</td>\n      <td>20.719677</td>\n    </tr>\n    <tr>\n      <th>1978-11-30</th>\n      <td>10.554000</td>\n      <td>9.510333</td>\n      <td>9.683667</td>\n      <td>5.219333</td>\n      <td>8.785667</td>\n      <td>7.124667</td>\n      <td>8.365333</td>\n      <td>7.781333</td>\n      <td>8.569000</td>\n      <td>8.723000</td>\n      <td>14.596667</td>\n      <td>17.123333</td>\n    </tr>\n    <tr>\n      <th>1978-12-31</th>\n      <td>17.101935</td>\n      <td>15.278065</td>\n      <td>14.468387</td>\n      <td>7.627419</td>\n      <td>12.347097</td>\n      <td>9.592903</td>\n      <td>12.518065</td>\n      <td>10.001613</td>\n      <td>11.260645</td>\n      <td>11.311290</td>\n      <td>16.889677</td>\n      <td>21.444839</td>\n    </tr>\n    <tr>\n      <th>1979-01-31</th>\n      <td>15.329600</td>\n      <td>12.732400</td>\n      <td>15.098000</td>\n      <td>6.567600</td>\n      <td>10.310800</td>\n      <td>8.136400</td>\n      <td>11.049200</td>\n      <td>9.529600</td>\n      <td>9.706400</td>\n      <td>10.090800</td>\n      <td>12.970400</td>\n      <td>20.754800</td>\n    </tr>\n  </tbody>\n</table>\n<p>217 rows × 12 columns</p>\n</div>"
     },
     "execution_count": 111,
     "metadata": {},
     "output_type": "execute_result"
    }
   ],
   "source": [
    "data.resample('M').mean()"
   ]
  },
  {
   "cell_type": "markdown",
   "metadata": {},
   "source": [
    "### Step 14. Downsample the record to a weekly frequency for each location."
   ]
  },
  {
   "cell_type": "code",
   "execution_count": 112,
   "metadata": {
    "collapsed": false
   },
   "outputs": [],
   "source": [
    "weeks = data.resample('W').mean()"
   ]
  },
  {
   "cell_type": "markdown",
   "metadata": {},
   "source": [
    "### Step 15. Calculate the min, max and mean windspeeds and standard deviations of the windspeeds across all locations for each week (assume that the first week starts on January 2 1961) for the first 52 weeks."
   ]
  },
  {
   "cell_type": "code",
   "execution_count": 113,
   "metadata": {
    "collapsed": false
   },
   "outputs": [
    {
     "data": {
      "text/plain": "             RPT        VAL        ROS        KIL        SHA        BIR  \\\ncount  52.000000  52.000000  52.000000  52.000000  52.000000  52.000000   \nmean   12.355469  10.375879  11.341699   6.968636  10.899776   7.749210   \nstd     3.019324   2.690446   2.710988   1.772389   2.407320   2.088171   \nmin     5.667143   4.458333   5.655714   3.452857   5.465714   3.690000   \n25%     9.997500   8.689107   9.190357   5.823571   9.433571   6.545357   \n50%    11.988690   9.852857  11.020000   6.992143  10.778571   7.545000   \n75%    14.112143  11.795000  12.764286   7.777143  12.407143   8.891071   \nmax    19.172857  17.588571  17.751429  11.838571  16.664286  12.911429   \n\n             DUB        CLA        MUL        CLO        BEL        MAL  \ncount  52.000000  52.000000  52.000000  52.000000  52.000000  52.000000  \nmean    9.708409   8.886094   8.694357   9.847596  13.548070  13.671291  \nstd     2.732985   2.173264   2.165310   2.312079   3.294982   3.292887  \nmin     4.185714   4.377143   3.615714   5.488571   6.262857   6.905714  \n25%     7.311071   7.478929   7.270000   8.263929  11.220714  11.128571  \n50%     9.657857   8.816429   8.402143   9.360000  13.356429  13.093929  \n75%    11.351071  10.615000  10.003571  11.527500  15.698571  16.311786  \nmax    16.670000  13.134286  13.577143  15.734286  21.040000  22.255714  ",
      "text/html": "<div>\n<style scoped>\n    .dataframe tbody tr th:only-of-type {\n        vertical-align: middle;\n    }\n\n    .dataframe tbody tr th {\n        vertical-align: top;\n    }\n\n    .dataframe thead th {\n        text-align: right;\n    }\n</style>\n<table border=\"1\" class=\"dataframe\">\n  <thead>\n    <tr style=\"text-align: right;\">\n      <th></th>\n      <th>RPT</th>\n      <th>VAL</th>\n      <th>ROS</th>\n      <th>KIL</th>\n      <th>SHA</th>\n      <th>BIR</th>\n      <th>DUB</th>\n      <th>CLA</th>\n      <th>MUL</th>\n      <th>CLO</th>\n      <th>BEL</th>\n      <th>MAL</th>\n    </tr>\n  </thead>\n  <tbody>\n    <tr>\n      <th>count</th>\n      <td>52.000000</td>\n      <td>52.000000</td>\n      <td>52.000000</td>\n      <td>52.000000</td>\n      <td>52.000000</td>\n      <td>52.000000</td>\n      <td>52.000000</td>\n      <td>52.000000</td>\n      <td>52.000000</td>\n      <td>52.000000</td>\n      <td>52.000000</td>\n      <td>52.000000</td>\n    </tr>\n    <tr>\n      <th>mean</th>\n      <td>12.355469</td>\n      <td>10.375879</td>\n      <td>11.341699</td>\n      <td>6.968636</td>\n      <td>10.899776</td>\n      <td>7.749210</td>\n      <td>9.708409</td>\n      <td>8.886094</td>\n      <td>8.694357</td>\n      <td>9.847596</td>\n      <td>13.548070</td>\n      <td>13.671291</td>\n    </tr>\n    <tr>\n      <th>std</th>\n      <td>3.019324</td>\n      <td>2.690446</td>\n      <td>2.710988</td>\n      <td>1.772389</td>\n      <td>2.407320</td>\n      <td>2.088171</td>\n      <td>2.732985</td>\n      <td>2.173264</td>\n      <td>2.165310</td>\n      <td>2.312079</td>\n      <td>3.294982</td>\n      <td>3.292887</td>\n    </tr>\n    <tr>\n      <th>min</th>\n      <td>5.667143</td>\n      <td>4.458333</td>\n      <td>5.655714</td>\n      <td>3.452857</td>\n      <td>5.465714</td>\n      <td>3.690000</td>\n      <td>4.185714</td>\n      <td>4.377143</td>\n      <td>3.615714</td>\n      <td>5.488571</td>\n      <td>6.262857</td>\n      <td>6.905714</td>\n    </tr>\n    <tr>\n      <th>25%</th>\n      <td>9.997500</td>\n      <td>8.689107</td>\n      <td>9.190357</td>\n      <td>5.823571</td>\n      <td>9.433571</td>\n      <td>6.545357</td>\n      <td>7.311071</td>\n      <td>7.478929</td>\n      <td>7.270000</td>\n      <td>8.263929</td>\n      <td>11.220714</td>\n      <td>11.128571</td>\n    </tr>\n    <tr>\n      <th>50%</th>\n      <td>11.988690</td>\n      <td>9.852857</td>\n      <td>11.020000</td>\n      <td>6.992143</td>\n      <td>10.778571</td>\n      <td>7.545000</td>\n      <td>9.657857</td>\n      <td>8.816429</td>\n      <td>8.402143</td>\n      <td>9.360000</td>\n      <td>13.356429</td>\n      <td>13.093929</td>\n    </tr>\n    <tr>\n      <th>75%</th>\n      <td>14.112143</td>\n      <td>11.795000</td>\n      <td>12.764286</td>\n      <td>7.777143</td>\n      <td>12.407143</td>\n      <td>8.891071</td>\n      <td>11.351071</td>\n      <td>10.615000</td>\n      <td>10.003571</td>\n      <td>11.527500</td>\n      <td>15.698571</td>\n      <td>16.311786</td>\n    </tr>\n    <tr>\n      <th>max</th>\n      <td>19.172857</td>\n      <td>17.588571</td>\n      <td>17.751429</td>\n      <td>11.838571</td>\n      <td>16.664286</td>\n      <td>12.911429</td>\n      <td>16.670000</td>\n      <td>13.134286</td>\n      <td>13.577143</td>\n      <td>15.734286</td>\n      <td>21.040000</td>\n      <td>22.255714</td>\n    </tr>\n  </tbody>\n</table>\n</div>"
     },
     "execution_count": 113,
     "metadata": {},
     "output_type": "execute_result"
    }
   ],
   "source": [
    "weeks[:52].describe()"
   ]
  }
 ],
 "metadata": {
  "anaconda-cloud": {},
  "kernelspec": {
   "name": "python3",
   "language": "python",
   "display_name": "Python 3"
  },
  "language_info": {
   "codemirror_mode": {
    "name": "ipython",
    "version": 2
   },
   "file_extension": ".py",
   "mimetype": "text/x-python",
   "name": "python",
   "nbconvert_exporter": "python",
   "pygments_lexer": "ipython2",
   "version": "2.7.12"
  }
 },
 "nbformat": 4,
 "nbformat_minor": 0
}