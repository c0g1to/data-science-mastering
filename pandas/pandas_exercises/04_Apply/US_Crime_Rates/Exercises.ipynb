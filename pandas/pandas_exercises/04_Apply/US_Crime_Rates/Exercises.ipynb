{
 "cells": [
  {
   "cell_type": "markdown",
   "metadata": {},
   "source": [
    "# United States - Crime Rates - 1960 - 2014"
   ]
  },
  {
   "cell_type": "markdown",
   "metadata": {},
   "source": [
    "### Introduction:\n",
    "\n",
    "This time you will create a data \n",
    "\n",
    "Special thanks to: https://github.com/justmarkham for sharing the dataset and materials.\n",
    "\n",
    "### Step 1. Import the necessary libraries"
   ]
  },
  {
   "cell_type": "code",
   "execution_count": 212,
   "metadata": {
    "collapsed": false
   },
   "outputs": [],
   "source": [
    "import numpy as np\n",
    "import pandas as pd"
   ]
  },
  {
   "cell_type": "markdown",
   "metadata": {},
   "source": [
    "### Step 2. Import the dataset from this [address](https://raw.githubusercontent.com/guipsamora/pandas_exercises/master/04_Apply/US_Crime_Rates/US_Crime_Rates_1960_2014.csv). "
   ]
  },
  {
   "cell_type": "markdown",
   "metadata": {},
   "source": [
    "### Step 3. Assign it to a variable called crime."
   ]
  },
  {
   "cell_type": "code",
   "execution_count": 213,
   "metadata": {
    "collapsed": false
   },
   "outputs": [
    {
     "data": {
      "text/plain": "   Year  Population    Total  Violent  Property  Murder  Forcible_Rape  \\\n0  1960   179323175  3384200   288460   3095700    9110          17190   \n1  1961   182992000  3488000   289390   3198600    8740          17220   \n2  1962   185771000  3752200   301510   3450700    8530          17550   \n3  1963   188483000  4109500   316970   3792500    8640          17650   \n4  1964   191141000  4564600   364220   4200400    9360          21420   \n\n   Robbery  Aggravated_assault  Burglary  Larceny_Theft  Vehicle_Theft  \n0   107840              154320    912100        1855400         328200  \n1   106670              156760    949600        1913000         336000  \n2   110860              164570    994300        2089600         366800  \n3   116470              174210   1086400        2297800         408300  \n4   130390              203050   1213200        2514400         472800  ",
      "text/html": "<div>\n<style scoped>\n    .dataframe tbody tr th:only-of-type {\n        vertical-align: middle;\n    }\n\n    .dataframe tbody tr th {\n        vertical-align: top;\n    }\n\n    .dataframe thead th {\n        text-align: right;\n    }\n</style>\n<table border=\"1\" class=\"dataframe\">\n  <thead>\n    <tr style=\"text-align: right;\">\n      <th></th>\n      <th>Year</th>\n      <th>Population</th>\n      <th>Total</th>\n      <th>Violent</th>\n      <th>Property</th>\n      <th>Murder</th>\n      <th>Forcible_Rape</th>\n      <th>Robbery</th>\n      <th>Aggravated_assault</th>\n      <th>Burglary</th>\n      <th>Larceny_Theft</th>\n      <th>Vehicle_Theft</th>\n    </tr>\n  </thead>\n  <tbody>\n    <tr>\n      <th>0</th>\n      <td>1960</td>\n      <td>179323175</td>\n      <td>3384200</td>\n      <td>288460</td>\n      <td>3095700</td>\n      <td>9110</td>\n      <td>17190</td>\n      <td>107840</td>\n      <td>154320</td>\n      <td>912100</td>\n      <td>1855400</td>\n      <td>328200</td>\n    </tr>\n    <tr>\n      <th>1</th>\n      <td>1961</td>\n      <td>182992000</td>\n      <td>3488000</td>\n      <td>289390</td>\n      <td>3198600</td>\n      <td>8740</td>\n      <td>17220</td>\n      <td>106670</td>\n      <td>156760</td>\n      <td>949600</td>\n      <td>1913000</td>\n      <td>336000</td>\n    </tr>\n    <tr>\n      <th>2</th>\n      <td>1962</td>\n      <td>185771000</td>\n      <td>3752200</td>\n      <td>301510</td>\n      <td>3450700</td>\n      <td>8530</td>\n      <td>17550</td>\n      <td>110860</td>\n      <td>164570</td>\n      <td>994300</td>\n      <td>2089600</td>\n      <td>366800</td>\n    </tr>\n    <tr>\n      <th>3</th>\n      <td>1963</td>\n      <td>188483000</td>\n      <td>4109500</td>\n      <td>316970</td>\n      <td>3792500</td>\n      <td>8640</td>\n      <td>17650</td>\n      <td>116470</td>\n      <td>174210</td>\n      <td>1086400</td>\n      <td>2297800</td>\n      <td>408300</td>\n    </tr>\n    <tr>\n      <th>4</th>\n      <td>1964</td>\n      <td>191141000</td>\n      <td>4564600</td>\n      <td>364220</td>\n      <td>4200400</td>\n      <td>9360</td>\n      <td>21420</td>\n      <td>130390</td>\n      <td>203050</td>\n      <td>1213200</td>\n      <td>2514400</td>\n      <td>472800</td>\n    </tr>\n  </tbody>\n</table>\n</div>"
     },
     "execution_count": 213,
     "metadata": {},
     "output_type": "execute_result"
    }
   ],
   "source": [
    "url = 'https://raw.githubusercontent.com/guipsamora/pandas_exercises/master/04_Apply/US_Crime_Rates/US_Crime_Rates_1960_2014.csv'\n",
    "crime = pd.read_csv(url)\n",
    "crime.head()"
   ]
  },
  {
   "cell_type": "markdown",
   "metadata": {},
   "source": [
    "### Step 4. What is the type of the columns?"
   ]
  },
  {
   "cell_type": "code",
   "execution_count": 214,
   "metadata": {
    "collapsed": false
   },
   "outputs": [
    {
     "data": {
      "text/plain": "Year                  int64\nPopulation            int64\nTotal                 int64\nViolent               int64\nProperty              int64\nMurder                int64\nForcible_Rape         int64\nRobbery               int64\nAggravated_assault    int64\nBurglary              int64\nLarceny_Theft         int64\nVehicle_Theft         int64\ndtype: object"
     },
     "execution_count": 214,
     "metadata": {},
     "output_type": "execute_result"
    }
   ],
   "source": [
    "crime.dtypes"
   ]
  },
  {
   "cell_type": "markdown",
   "metadata": {},
   "source": [
    "##### Have you noticed that the type of Year is int64. But pandas has a different type to work with Time Series. Let's see it now.\n",
    "\n",
    "### Step 5. Convert the type of the column Year to datetime64"
   ]
  },
  {
   "cell_type": "code",
   "execution_count": 215,
   "metadata": {
    "collapsed": false
   },
   "outputs": [],
   "source": [
    "crime['Year'].apply(lambda x: np.datetime64(str(x)))\n",
    "#or\n",
    "crime.Year = pd.to_datetime(crime.Year, format='%Y')"
   ]
  },
  {
   "cell_type": "markdown",
   "metadata": {},
   "source": [
    "### Step 6. Set the Year column as the index of the dataframe"
   ]
  },
  {
   "cell_type": "code",
   "execution_count": 216,
   "metadata": {
    "collapsed": false
   },
   "outputs": [
    {
     "name": "stdout",
     "output_type": "stream",
     "text": [
      "Year                  datetime64[ns]\n",
      "Population                     int64\n",
      "Total                          int64\n",
      "Violent                        int64\n",
      "Property                       int64\n",
      "Murder                         int64\n",
      "Forcible_Rape                  int64\n",
      "Robbery                        int64\n",
      "Aggravated_assault             int64\n",
      "Burglary                       int64\n",
      "Larceny_Theft                  int64\n",
      "Vehicle_Theft                  int64\n",
      "dtype: object\n"
     ]
    }
   ],
   "source": [
    "print(crime.dtypes)\n",
    "crime.set_index('Year', inplace=True, drop=True)\n"
   ]
  },
  {
   "cell_type": "markdown",
   "metadata": {},
   "source": [
    "### Step 7. Delete the Total column"
   ]
  },
  {
   "cell_type": "code",
   "execution_count": 217,
   "metadata": {
    "collapsed": false
   },
   "outputs": [],
   "source": [
    "crime.drop('Total', axis=1)\n",
    "#or\n",
    "del crime['Total']"
   ]
  },
  {
   "cell_type": "markdown",
   "metadata": {},
   "source": [
    "### Step 8. Group the year by decades and sum the values\n",
    "\n",
    "#### Pay attention to the Population column number, summing this column is a mistake"
   ]
  },
  {
   "cell_type": "code",
   "execution_count": 218,
   "metadata": {
    "collapsed": false,
    "scrolled": true
   },
   "outputs": [
    {
     "data": {
      "text/plain": "            Aggravated_assault  Burglary  Forcible_Rape  Larceny_Theft  \\\nYear                                                                     \n1960-01-01             2158520  13321100         236720       26547700   \n1970-01-01             4702120  28486000         554570       53157800   \n1980-01-01             7619130  33073494         865639       72040253   \n1990-01-01            10568963  26750015         998827       77679366   \n2000-01-01             8652124  21565176         922499       67970291   \n2010-01-01             3764142  10125170         421059       30401698   \n\n            Murder  Population   Property  Robbery  Vehicle_Theft   Violent  \nYear                                                                         \n1960-01-01  106180   201385000   45160900  1633510        5292100   4134930  \n1970-01-01  192230   220099000   91383800  4159020        9739900   9607930  \n1980-01-01  206439   248239000  117048900  5383109       11935411  14074328  \n1990-01-01  211664   272690813  119053499  5748930       14624418  17527048  \n2000-01-01  163068   307006550  100944369  4230366       11412834  13968056  \n2010-01-01   72867   318857056   44095950  1749809        3569080   6072017  ",
      "text/html": "<div>\n<style scoped>\n    .dataframe tbody tr th:only-of-type {\n        vertical-align: middle;\n    }\n\n    .dataframe tbody tr th {\n        vertical-align: top;\n    }\n\n    .dataframe thead th {\n        text-align: right;\n    }\n</style>\n<table border=\"1\" class=\"dataframe\">\n  <thead>\n    <tr style=\"text-align: right;\">\n      <th></th>\n      <th>Aggravated_assault</th>\n      <th>Burglary</th>\n      <th>Forcible_Rape</th>\n      <th>Larceny_Theft</th>\n      <th>Murder</th>\n      <th>Population</th>\n      <th>Property</th>\n      <th>Robbery</th>\n      <th>Vehicle_Theft</th>\n      <th>Violent</th>\n    </tr>\n    <tr>\n      <th>Year</th>\n      <th></th>\n      <th></th>\n      <th></th>\n      <th></th>\n      <th></th>\n      <th></th>\n      <th></th>\n      <th></th>\n      <th></th>\n      <th></th>\n    </tr>\n  </thead>\n  <tbody>\n    <tr>\n      <th>1960-01-01</th>\n      <td>2158520</td>\n      <td>13321100</td>\n      <td>236720</td>\n      <td>26547700</td>\n      <td>106180</td>\n      <td>201385000</td>\n      <td>45160900</td>\n      <td>1633510</td>\n      <td>5292100</td>\n      <td>4134930</td>\n    </tr>\n    <tr>\n      <th>1970-01-01</th>\n      <td>4702120</td>\n      <td>28486000</td>\n      <td>554570</td>\n      <td>53157800</td>\n      <td>192230</td>\n      <td>220099000</td>\n      <td>91383800</td>\n      <td>4159020</td>\n      <td>9739900</td>\n      <td>9607930</td>\n    </tr>\n    <tr>\n      <th>1980-01-01</th>\n      <td>7619130</td>\n      <td>33073494</td>\n      <td>865639</td>\n      <td>72040253</td>\n      <td>206439</td>\n      <td>248239000</td>\n      <td>117048900</td>\n      <td>5383109</td>\n      <td>11935411</td>\n      <td>14074328</td>\n    </tr>\n    <tr>\n      <th>1990-01-01</th>\n      <td>10568963</td>\n      <td>26750015</td>\n      <td>998827</td>\n      <td>77679366</td>\n      <td>211664</td>\n      <td>272690813</td>\n      <td>119053499</td>\n      <td>5748930</td>\n      <td>14624418</td>\n      <td>17527048</td>\n    </tr>\n    <tr>\n      <th>2000-01-01</th>\n      <td>8652124</td>\n      <td>21565176</td>\n      <td>922499</td>\n      <td>67970291</td>\n      <td>163068</td>\n      <td>307006550</td>\n      <td>100944369</td>\n      <td>4230366</td>\n      <td>11412834</td>\n      <td>13968056</td>\n    </tr>\n    <tr>\n      <th>2010-01-01</th>\n      <td>3764142</td>\n      <td>10125170</td>\n      <td>421059</td>\n      <td>30401698</td>\n      <td>72867</td>\n      <td>318857056</td>\n      <td>44095950</td>\n      <td>1749809</td>\n      <td>3569080</td>\n      <td>6072017</td>\n    </tr>\n  </tbody>\n</table>\n</div>"
     },
     "execution_count": 218,
     "metadata": {},
     "output_type": "execute_result"
    }
   ],
   "source": [
    "resampler = crime.resample('10AS')\n",
    "population = resampler.agg({'Population': 'max'}).astype('int64')\n",
    "\n",
    "crime_decades = resampler.sum()\n",
    "crime_decades['Population'] = population\n",
    "#or\n",
    "crime_decades = population.combine_first(resampler.sum())\n",
    "\n",
    "crime_decades"
   ]
  },
  {
   "cell_type": "markdown",
   "metadata": {},
   "source": [
    "### Step 9. What is the most dangerous decade to live in the US?"
   ]
  },
  {
   "cell_type": "code",
   "execution_count": 219,
   "metadata": {
    "collapsed": false
   },
   "outputs": [
    {
     "data": {
      "text/plain": "Aggravated_assault   1990-01-01\nBurglary             1980-01-01\nForcible_Rape        1990-01-01\nLarceny_Theft        1990-01-01\nMurder               1990-01-01\nPopulation           2010-01-01\nProperty             1990-01-01\nRobbery              1990-01-01\nVehicle_Theft        1990-01-01\nViolent              1990-01-01\ndtype: datetime64[ns]"
     },
     "execution_count": 219,
     "metadata": {},
     "output_type": "execute_result"
    }
   ],
   "source": [
    "crime_decades.sort_values(by='Murder', ascending=False)\n",
    "#or\n",
    "crime_decades.idxmax()"
   ]
  }
 ],
 "metadata": {
  "anaconda-cloud": {},
  "kernelspec": {
   "name": "python3",
   "language": "python",
   "display_name": "Python 3"
  },
  "language_info": {
   "codemirror_mode": {
    "name": "ipython",
    "version": 2
   },
   "file_extension": ".py",
   "mimetype": "text/x-python",
   "name": "python",
   "nbconvert_exporter": "python",
   "pygments_lexer": "ipython2",
   "version": "2.7.12"
  }
 },
 "nbformat": 4,
 "nbformat_minor": 0
}