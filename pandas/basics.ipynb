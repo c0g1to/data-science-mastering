{
 "cells": [
  {
   "cell_type": "code",
   "execution_count": 1,
   "metadata": {
    "collapsed": false,
    "jupyter": {
     "outputs_hidden": false
    },
    "pycharm": {
     "name": "#%%\n"
    }
   },
   "outputs": [
    {
     "data": {
      "text/plain": [
       "'1.2.2'"
      ]
     },
     "execution_count": 1,
     "metadata": {},
     "output_type": "execute_result"
    }
   ],
   "source": [
    "import numpy as np\n",
    "import pandas as pd\n",
    "import seaborn\n",
    "from datetime import datetime\n",
    "\n",
    "pd.__version__"
   ]
  },
  {
   "cell_type": "markdown",
   "metadata": {},
   "source": [
    "### 1.1 OBJECTS: SERIES"
   ]
  },
  {
   "cell_type": "code",
   "execution_count": 2,
   "metadata": {
    "collapsed": false,
    "jupyter": {
     "outputs_hidden": false
    },
    "pycharm": {
     "name": "#%%\n"
    }
   },
   "outputs": [
    {
     "name": "stdout",
     "output_type": "stream",
     "text": [
      "0    2\n",
      "1    4\n",
      "2    6\n",
      "dtype: int64\n",
      "100    5\n",
      "200    5\n",
      "300    5\n",
      "dtype: int64\n",
      "10    Mike\n",
      "20    Jane\n",
      "30    Dick\n",
      "dtype: object\n",
      "30    37\n",
      "10    22\n",
      "20    12\n",
      "dtype: int64\n",
      "int64\n",
      "Int64Index([30, 10, 20], dtype='int64')\n",
      "[37 22 12] \n",
      "\n"
     ]
    }
   ],
   "source": [
    "print(pd.Series([2, 4, 6]))\n",
    "print(pd.Series(5, index=[100, 200, 300]))\n",
    "names = pd.Series({10: 'Mike', 20: 'Jane', 30: 'Dick'})\n",
    "ages = pd.Series({4: 0, 20: 12, 10: 22, 30: 37}, index=[30, 10, 20])\n",
    "print(names)\n",
    "print(ages)\n",
    "print(ages.dtype)\n",
    "print(ages.index)\n",
    "print(ages.values, '\\n')"
   ]
  },
  {
   "cell_type": "markdown",
   "metadata": {},
   "source": [
    "### 1.2 OBJECTS: DATAFRAME"
   ]
  },
  {
   "cell_type": "code",
   "execution_count": 3,
   "metadata": {
    "collapsed": false,
    "jupyter": {
     "outputs_hidden": false
    },
    "pycharm": {
     "name": "#%%\n"
    }
   },
   "outputs": [
    {
     "name": "stdout",
     "output_type": "stream",
     "text": [
      "       0\n",
      "10  Mike\n",
      "20  Jane\n",
      "30  Dick\n",
      "    name  age\n",
      "10  Mike   22\n",
      "20  Jane   12\n",
      "30  Dick   37\n",
      "   a   b\n",
      "2  4   6\n",
      "3  5   9\n",
      "4  6  12\n",
      "          water     pedal\n",
      "cacao  0.961213  0.600299\n",
      "beans  0.746341  0.174166\n",
      "  name  age\n",
      "0         0\n",
      "1         0\n",
      "2         0\n",
      "Index(['name', 'age'], dtype='object')\n",
      "name    object\n",
      "age      int64\n",
      "dtype: object\n",
      "<class 'pandas.core.frame.DataFrame'>\n",
      "Int64Index: 3 entries, 10 to 30\n",
      "Data columns (total 2 columns):\n",
      " #   Column  Non-Null Count  Dtype \n",
      "---  ------  --------------  ----- \n",
      " 0   name    3 non-null      object\n",
      " 1   age     3 non-null      int64 \n",
      "dtypes: int64(1), object(1)\n",
      "memory usage: 72.0+ bytes\n",
      "None \n",
      "\n"
     ]
    }
   ],
   "source": [
    "pd.DataFrame(names, columns=['name'])  #single row\n",
    "print(names.to_frame()) #same\n",
    "people = pd.DataFrame({'name': names, 'age': {20: 12, 10: 22, 30: 37}})  #dictionary\n",
    "print(people)\n",
    "print(pd.DataFrame([{'a': i + 2, 'b': i * 3} for i in range(2, 5)], index=range(2, 5)))  #dictionary + comprehension\n",
    "print(pd.DataFrame(np.random.random((2, 2)), index=['cacao', 'beans'], columns=['water', 'pedal']))  #np array\n",
    "print(pd.DataFrame(np.zeros(3, [('name', 'U10'), ('age', 'i4')])))  #np structure\n",
    "print(people.columns)\n",
    "print(people.dtypes)\n",
    "print(people.info(), '\\n')"
   ]
  },
  {
   "cell_type": "markdown",
   "metadata": {},
   "source": [
    "### 1.3 OBJECTS: INDEX"
   ]
  },
  {
   "cell_type": "code",
   "execution_count": 4,
   "metadata": {
    "collapsed": false,
    "jupyter": {
     "outputs_hidden": false
    },
    "pycharm": {
     "name": "#%%\n"
    }
   },
   "outputs": [
    {
     "name": "stdout",
     "output_type": "stream",
     "text": [
      "Int64Index([7, 5, 6, 2], dtype='int64')\n",
      "Int64Index([2, 3, 5, 6, 7, 11], dtype='int64')\n",
      "Int64Index([2, 5, 7], dtype='int64')\n"
     ]
    },
    {
     "name": "stderr",
     "output_type": "stream",
     "text": [
      "<ipython-input-4-8ed9c079494f>:4: FutureWarning: Index.__or__ operating as a set operation is deprecated, in the future this will be a logical operation matching Series.__or__.  Use index.union(other) instead\n",
      "  print(ind1 | ind2)\n"
     ]
    }
   ],
   "source": [
    "ind1 = pd.Index([2, 3, 5, 7, 11])\n",
    "ind2 = pd.Index([7, 5, 6, 2])\n",
    "print(ind2)\n",
    "print(ind1 | ind2)\n",
    "print(ind1.intersection(ind2))"
   ]
  },
  {
   "cell_type": "markdown",
   "metadata": {},
   "source": [
    "### 2.1 INDEXING: SERIES"
   ]
  },
  {
   "cell_type": "code",
   "execution_count": 5,
   "metadata": {
    "collapsed": false,
    "jupyter": {
     "outputs_hidden": false
    },
    "pycharm": {
     "name": "#%%\n"
    }
   },
   "outputs": [
    {
     "name": "stdout",
     "output_type": "stream",
     "text": [
      "True\n",
      "Int64Index([10, 20, 30], dtype='int64')\n",
      "[(10, 'Mike'), (20, 'Jane'), (30, 'Dick')]\n",
      "True \n",
      "\n",
      "Series([], dtype: object)\n",
      "30    Dick\n",
      "69     L1L\n",
      "dtype: object\n",
      "20    Jane\n",
      "30    Dick\n",
      "dtype: object\n",
      "20    Jane\n",
      "30    Dick\n",
      "dtype: object \n",
      "\n",
      "10    Mike\n",
      "20    Jane\n",
      "69     L1L\n",
      "dtype: object\n",
      "10    Mike\n",
      "30    Dick\n",
      "dtype: object\n"
     ]
    }
   ],
   "source": [
    "print(30 in names)\n",
    "print(names.keys())\n",
    "print(list(names.items()))\n",
    "print(names.index.is_unique, '\\n')\n",
    "\n",
    "names[69] = 'L1L'\n",
    "print(names[30:69])\n",
    "print(names.loc[30:69])  #same as above\n",
    "print(names[1:3])\n",
    "print(names.iloc[1:3], '\\n')  #same as above\n",
    "\n",
    "print(names[names > 'Dick'])  #masking\n",
    "print(names.loc[[10, 30]])  #fancy indexing"
   ]
  },
  {
   "cell_type": "markdown",
   "metadata": {},
   "source": [
    "### 2.2 INDEXING: DATAFRAME"
   ]
  },
  {
   "cell_type": "code",
   "execution_count": 6,
   "metadata": {
    "collapsed": false,
    "jupyter": {
     "outputs_hidden": false
    },
    "pycharm": {
     "name": "#%%\n"
    }
   },
   "outputs": [
    {
     "name": "stdout",
     "output_type": "stream",
     "text": [
      "10    Mike\n",
      "20    Jane\n",
      "30    Dick\n",
      "Name: name, dtype: object\n",
      "10    Mike\n",
      "20    Jane\n",
      "30    Dick\n",
      "Name: name, dtype: object \n",
      "\n",
      "name    Jane\n",
      "age       12\n",
      "Name: 20, dtype: object\n",
      "name    Jane\n",
      "age       12\n",
      "Name: 20, dtype: object \n",
      "\n",
      "Jane\n",
      "age       12\n",
      "name    Jane\n",
      "Name: 20, dtype: object\n",
      "10    Mike\n",
      "30    Dick\n",
      "Name: name, dtype: object \n",
      "\n",
      "10    Mike\n",
      "20    Jane\n",
      "Name: name, dtype: object\n",
      "    name  age\n",
      "10  Mike   22\n",
      "20  Jane   12 \n",
      "\n",
      "Empty DataFrame\n",
      "Columns: [name, age]\n",
      "Index: []\n",
      "    name  age\n",
      "10  Mike   22\n",
      "20  Jane   12\n",
      "    name  age\n",
      "10  Mike   22\n",
      "20  Jane   12\n"
     ]
    },
    {
     "name": "stderr",
     "output_type": "stream",
     "text": [
      "<ipython-input-6-9c3ec4eab0f5>:16: UserWarning: Boolean Series key will be reindexed to match DataFrame index.\n",
      "  print(people[names > 'Dick'])  #[row]\n"
     ]
    }
   ],
   "source": [
    "print(people['name'])  #[column]\n",
    "print(people.name, '\\n')\n",
    "\n",
    "print(people.T[20])\n",
    "print(people.loc[20], '\\n')  #returns Series [row]\n",
    "\n",
    "print(people['name'][20])\n",
    "print(people.loc[20, ['age', 'name']])  # [row, column]\n",
    "print(people.iloc[[0, 2], 0], '\\n')  #[row_i, column_i]\n",
    "\n",
    "print(people.loc[names > 'Dick', 'name'])\n",
    "print(people.iloc[0:2], '\\n')  #returns Dataframe\n",
    "\n",
    "print(people[10:20])  #[row]\n",
    "print(people[0:2])  #[row_i]\n",
    "print(people[names > 'Dick'])  #[row]"
   ]
  },
  {
   "cell_type": "markdown",
   "metadata": {},
   "source": [
    "### .3 MODIFYING"
   ]
  },
  {
   "cell_type": "code",
   "execution_count": 7,
   "metadata": {
    "collapsed": false,
    "jupyter": {
     "outputs_hidden": false
    },
    "pycharm": {
     "name": "#%%\n"
    }
   },
   "outputs": [
    {
     "name": "stdout",
     "output_type": "stream",
     "text": [
      "    name  age  adult\n",
      "30  Dick   37   True\n",
      "20  Jane   12  False\n",
      "10  Mike   22   True\n",
      "    name  age  adult\n",
      "20  Jane   12  False\n",
      "10  Mike   22   True\n",
      "30  Dick   37   True\n",
      "    name  age  adult\n",
      "10  Mike   22   True\n",
      "30  Dick   37   True\n",
      "    name  adult\n",
      "10  Mike   True\n",
      "20  Jane  False\n",
      "30  Dick   True\n"
     ]
    }
   ],
   "source": [
    "people0 = people.copy()\n",
    "people0['adult'] = (people0['age'] > 18)\n",
    "print(people0.sort_index(ascending=False))\n",
    "print(people0.sort_values(by=['age', 'name'], axis=0))\n",
    "print(people0.drop([20], axis=0))\n",
    "del people0['age']\n",
    "print(people0)"
   ]
  },
  {
   "cell_type": "markdown",
   "metadata": {},
   "source": [
    "### .4 REINDEXING"
   ]
  },
  {
   "cell_type": "code",
   "execution_count": 8,
   "metadata": {
    "collapsed": false,
    "jupyter": {
     "outputs_hidden": false
    },
    "pycharm": {
     "name": "#%%\n"
    }
   },
   "outputs": [
    {
     "name": "stdout",
     "output_type": "stream",
     "text": [
      "    name  adult\n",
      "30  Dick   True\n",
      "20  Jane  False\n",
      "55  Dick   True\n",
      "10  Mike   True\n",
      "    adult  age  name\n",
      "10   True  NaN  Mike\n",
      "20  False  NaN  Jane\n",
      "30   True  NaN  Dick\n",
      "   id  name  adult\n",
      "0  10  Mike   True\n",
      "1  20  Jane  False\n",
      "2  30  Dick   True\n",
      "Int64Index([1000, 2000, 3000], dtype='int64', name='id')\n",
      "     NAME  ADULT\n",
      "id              \n",
      "10   Mike   True\n",
      "228  Jane  False\n",
      "322  Dick   True\n"
     ]
    }
   ],
   "source": [
    "print(people0.reindex([30, 20, 55, 10], method='ffill')) #change position\n",
    "print(people0.reindex(columns=['adult', 'age', 'name']))\n",
    "people0.index.name = 'id'\n",
    "print(people0.reset_index())\n",
    "print(people0.index.map(lambda x: x * 100))\n",
    "print(people0.rename(index={20: 228, 30: 322}, columns=str.upper))"
   ]
  },
  {
   "cell_type": "markdown",
   "metadata": {},
   "source": [
    "### .5 SAMPLING"
   ]
  },
  {
   "cell_type": "code",
   "execution_count": 9,
   "metadata": {
    "collapsed": false,
    "jupyter": {
     "outputs_hidden": false
    },
    "pycharm": {
     "name": "#%%\n"
    }
   },
   "outputs": [
    {
     "name": "stdout",
     "output_type": "stream",
     "text": [
      "[[0, 18), [0, 18), [0, 18), [0, 18), [0, 18), ..., [50, 100), [50, 100), [50, 100), [50, 100), [50, 100)]\n",
      "Length: 100\n",
      "Categories (3, interval[int64]): [[0, 18) < [18, 50) < [50, 100)]\n",
      "10    medium\n",
      "20     small\n",
      "30       big\n",
      "Name: age, dtype: category\n",
      "Categories (3, object): ['small' < 'medium' < 'big']\n",
      "    name  adult\n",
      "id             \n",
      "10  Mike   True\n",
      "20  Jane  False\n"
     ]
    }
   ],
   "source": [
    "print(pd.cut(range(100), [0, 18, 50, 100], right=False))  #return pd.Categorical\n",
    "print(pd.cut(people['age'], 3, labels=['small', 'medium', 'big']))  #return pd.Series\n",
    "print(people0.sample(n=2, replace=True))"
   ]
  },
  {
   "cell_type": "markdown",
   "metadata": {},
   "source": [
    "### .6 UNIQUE VALUES"
   ]
  },
  {
   "cell_type": "code",
   "execution_count": 10,
   "metadata": {
    "collapsed": false,
    "jupyter": {
     "outputs_hidden": false
    },
    "pycharm": {
     "name": "#%%\n"
    }
   },
   "outputs": [
    {
     "name": "stdout",
     "output_type": "stream",
     "text": [
      "0    2\n",
      "1    2\n",
      "2    2\n",
      "3    2\n",
      "4    2\n",
      "5    2\n",
      "dtype: int64\n",
      "Z   X   C   V \n",
      "10  5   10  5     3\n",
      "20  15  20  15    3\n",
      "dtype: int64\n",
      "Z    6\n",
      "X    6\n",
      "C    6\n",
      "V    6\n",
      "dtype: int64\n",
      "       Z      X      C      V\n",
      "0  False   True  False   True\n",
      "1  False  False  False  False\n",
      "2  False   True  False   True\n",
      "3  False  False  False  False\n",
      "4  False   True  False   True\n",
      "5  False  False  False  False\n",
      "[-1  1  0  2]\n",
      "   key_10  key_20\n",
      "0       0       1\n",
      "1       1       0\n",
      "2       0       1\n",
      "3       1       0\n",
      "4       0       1\n",
      "5       1       0\n"
     ]
    }
   ],
   "source": [
    "nice = pd.DataFrame(np.tile(np.arange(20, 0, -5).reshape(2, 2), (3, 2)), columns=list('ZXCV'))\n",
    "print(nice.nunique(axis=1))\n",
    "print(nice.value_counts())\n",
    "print(nice.count(axis=0))\n",
    "print(nice.isin([0, 15]))\n",
    "print(people0.index.get_indexer([0, 20, 10, 30]))\n",
    "print(pd.get_dummies(nice['Z'], prefix='key'))"
   ]
  },
  {
   "cell_type": "markdown",
   "metadata": {},
   "source": [
    "### 3 UF"
   ]
  },
  {
   "cell_type": "code",
   "execution_count": 11,
   "metadata": {
    "collapsed": false,
    "jupyter": {
     "outputs_hidden": false
    },
    "pycharm": {
     "name": "#%%\n"
    }
   },
   "outputs": [
    {
     "name": "stdout",
     "output_type": "stream",
     "text": [
      "             A           B           C\n",
      "0     7.389056    1.000000    1.000000\n",
      "1   403.428793    7.389056   54.598150\n",
      "2  8103.083928   20.085537   54.598150\n",
      "3     7.389056  403.428793  148.413159\n",
      "          B         C             D\n",
      "0  1.000000  0.000000  0.000000e+00\n",
      "1 -1.000000  1.000000  1.224647e-16\n",
      "2  0.707107  0.707107  1.224647e-16\n",
      "    A     B    C   D\n",
      "0 NaN   2.0  0.0 NaN\n",
      "1 NaN   8.0  6.0 NaN\n",
      "2 NaN  12.0  7.0 NaN\n",
      "3 NaN   NaN  NaN NaN\n",
      "     A     B     C    D\n",
      "0  0.0   0.0   0.0  0.0\n",
      "1  0.0  12.0   8.0  0.0\n",
      "2  0.0  27.0  12.0  0.0\n",
      "3  0.0   0.0   0.0  NaN\n",
      "   A  B  C\n",
      "0  0  0  0\n",
      "1  4  2  4\n",
      "2  7  3  4\n",
      "3  0  6  5\n",
      "   A  B  C\n",
      "0  2  0  0\n",
      "1  5  1  3\n",
      "2  7  1  2\n",
      "3 -1  3  2 \n",
      "\n",
      "A    9\n",
      "B    6\n",
      "C    5\n",
      "dtype: int64\n",
      "   A  B  C   D\n",
      "0  2  0  0   2\n",
      "1  6  2  4   8\n",
      "2  9  3  4  12\n",
      "3  2  6  5   8\n",
      "     A    B    C     D\n",
      "0  200    0    0   200\n",
      "1  600  200  400   800\n",
      "2  900  300  400  1200\n",
      "3  200  600  500   800\n",
      "   A   D\n",
      "0  2   2\n",
      "1  6   8\n",
      "2  9  12\n",
      "3  2   8\n"
     ]
    }
   ],
   "source": [
    "def trans(x):\n",
    "    x['D'] = x['A'] + x['B']\n",
    "    return x\n",
    "\n",
    "\n",
    "rnd1 = pd.DataFrame(np.random.RandomState(13).randint(0, 10, (4, 3)), columns=list('ABC'))\n",
    "rnd2 = pd.DataFrame(np.random.RandomState(13).randint(0, 10, (3, 3)), columns=list('BCD'))\n",
    "print(np.exp(rnd1))\n",
    "print(np.sin(rnd2 * np.pi / 4))\n",
    "print(rnd1 + rnd2)  #alignment\n",
    "print(rnd1.mul(rnd2, fill_value=0))\n",
    "print(rnd1 - rnd1.iloc[0])  #translation by row\n",
    "print(rnd1.sub(pd.Series(np.arange(4)), axis=0), '\\n')  #translation by column\n",
    "\n",
    "# YOU ALSO CAN USE FUNCTIONS FROM 8.2 (out of grouping), but they have another functionality\n",
    "print(rnd1.apply(lambda x: x.max()))  # (Series) -> (any)           == group.transform()           == applymap() if we work with selected Series\n",
    "print(rnd1.transform(trans))  # (DataFrame) -> (DataFrame)          == group.apply(),   !!!MODIFIES!!!\n",
    "print(rnd1.applymap(lambda x: x * 100))  # (element) -> (element)\n",
    "print(rnd1.filter(regex='A|D'))  #absolutely different functionality"
   ]
  },
  {
   "cell_type": "markdown",
   "metadata": {},
   "source": [
    "### 4 DATA CLEANING"
   ]
  },
  {
   "cell_type": "code",
   "execution_count": 12,
   "metadata": {
    "collapsed": false,
    "jupyter": {
     "outputs_hidden": false
    },
    "pycharm": {
     "name": "#%%\n"
    }
   },
   "outputs": [
    {
     "name": "stdout",
     "output_type": "stream",
     "text": [
      "       A      B      C      D\n",
      "0   True  False  False  False\n",
      "1  False  False   True  False\n",
      "2  False  False   True  False\n",
      "3  False  False  False  False\n",
      "     A  B    C  D\n",
      "3  2.0  6  5.0  8\n",
      "   B   D\n",
      "0  0   2\n",
      "1  2   8\n",
      "2  3  12\n",
      "3  6   8\n",
      "     A  B   D\n",
      "0  NaN  0   2\n",
      "1  6.0  2   8\n",
      "2  9.0  3  12\n",
      "3  2.0  6   8\n",
      "     A  B    C   D\n",
      "0  0.0  0  0.0   2\n",
      "1  6.0  2  0.0   8\n",
      "2  9.0  3  0.0  12\n",
      "3  2.0  6  5.0   8\n",
      "     A    B    C     D\n",
      "0  NaN  0.0  0.0   2.0\n",
      "1  6.0  2.0  2.0   8.0\n",
      "2  9.0  3.0  3.0  12.0\n",
      "3  2.0  6.0  5.0   8.0\n",
      "       A    B      C   D\n",
      "0  666.0  666  666.0   2\n",
      "1    6.0    2  666.0   8\n",
      "2    9.0    3  666.0  12\n",
      "3    2.0    6    5.0   8\n",
      "       A    B      C   D\n",
      "0  666.0  777  777.0   2\n",
      "1    6.0    2  666.0   8\n",
      "2    9.0    3  666.0  12\n",
      "3    2.0    6    5.0   8 \n",
      "\n",
      "0    False\n",
      "1    False\n",
      "2    False\n",
      "3    False\n",
      "3     True\n",
      "dtype: bool\n",
      "     A  B    C  D\n",
      "0  NaN  0  0.0  2\n",
      "1  6.0  2  NaN  8\n",
      "3  2.0  6  5.0  8 \n",
      "\n"
     ]
    }
   ],
   "source": [
    "rnd1.loc[0, 'A'] = rnd1.loc[[1, 2], 'C'] = np.nan\n",
    "print(rnd1.isnull())\n",
    "print(rnd1.dropna())\n",
    "print(rnd1.dropna(axis=1, how='any'))\n",
    "print(rnd1.dropna(axis=1, thresh=3))\n",
    "print(rnd1.fillna(0))\n",
    "print(rnd1.fillna(axis=1, method='ffill'))\n",
    "print(rnd1.replace([np.nan, 0], 666))\n",
    "print(rnd1.replace({np.nan: 666, 0: 777}), '\\n')\n",
    "\n",
    "dup = pd.concat([rnd1, rnd1.loc[3:4]])\n",
    "print(dup.duplicated())\n",
    "print(dup.drop_duplicates(['C'], keep='first'), '\\n')"
   ]
  },
  {
   "cell_type": "markdown",
   "metadata": {},
   "source": [
    "### 5.1 HIERARCHICAL INDEXING: MULTIINDEX OBJECT"
   ]
  },
  {
   "cell_type": "code",
   "execution_count": 13,
   "metadata": {
    "collapsed": false,
    "jupyter": {
     "outputs_hidden": false
    },
    "pycharm": {
     "name": "#%%\n"
    }
   },
   "outputs": [
    {
     "name": "stdout",
     "output_type": "stream",
     "text": [
      "MultiIndex([('A', 1),\n",
      "            ('A', 2),\n",
      "            ('A', 3),\n",
      "            ('B', 1),\n",
      "            ('C', 1),\n",
      "            ('C', 2)],\n",
      "           )\n",
      "MultiIndex([('A', 1),\n",
      "            ('A', 2),\n",
      "            ('B', 1),\n",
      "            ('B', 2),\n",
      "            ('C', 1),\n",
      "            ('C', 2)],\n",
      "           ) \n",
      "\n"
     ]
    }
   ],
   "source": [
    "mi = pd.MultiIndex(levels=[['A', 'B', 'C'], [1, 2, 3]], codes=[[0, 0, 0, 1, 2, 2], [0, 1, 2, 0, 0, 1]])\n",
    "mi = pd.MultiIndex.from_tuples([('A', 1), ('A', 2), ('A', 3), ('B', 1), ('C', 1), ('C', 2)])\n",
    "mi = pd.MultiIndex.from_arrays([['A', 'A', 'A', 'B', 'C', 'C'], [1, 2, 3, 1, 1, 2]])\n",
    "print(mi)\n",
    "mi = pd.MultiIndex.from_product([['A', 'B', 'C'], [1, 2]])\n",
    "print(mi, '\\n')"
   ]
  },
  {
   "cell_type": "markdown",
   "metadata": {},
   "source": [
    "### 5.2 HI: CREATING"
   ]
  },
  {
   "cell_type": "code",
   "execution_count": 14,
   "metadata": {
    "collapsed": false,
    "jupyter": {
     "outputs_hidden": false
    },
    "pycharm": {
     "name": "#%%\n"
    }
   },
   "outputs": [
    {
     "name": "stdout",
     "output_type": "stream",
     "text": [
      "     A    B    C\n",
      "1  6.9  8.0  8.0\n",
      "2  7.0  8.3  7.7 \n",
      "\n",
      "  Film  Part  rating\n",
      "0    A     1     6.9\n",
      "1    A     2     7.0\n",
      "2    B     1     8.0\n",
      "3    B     2     8.3\n",
      "4    C     1     8.0\n",
      "5    C     2     7.7 \n",
      "\n",
      "           rating\n",
      "Film Part        \n",
      "A    1        6.9\n",
      "     2        7.0\n",
      "B    1        8.0\n",
      "     2        8.3\n",
      "C    1        8.0\n",
      "     2        7.7 \n",
      "\n",
      "Film    A         B         C     \n",
      "Part    1    2    1    2    1    2\n",
      "0     6.9  7.0  8.0  8.3  8.0  7.7\n",
      "Part    1              2          \n",
      "Film    A    B    C    A    B    C\n",
      "0     6.9  8.0  8.0  7.0  8.3  7.7 \n",
      "\n",
      "Film    A    B    C\n",
      "Part               \n",
      "1     6.9  8.0  8.0\n",
      "2     7.0  8.3  7.7\n",
      "   rating  Part variable value\n",
      "0     6.9     1     Film     A\n",
      "1     7.0     2     Film     A\n",
      "2     8.0     1     Film     B\n",
      "3     8.3     2     Film     B\n",
      "4     8.0     1     Film     C\n",
      "5     7.7     2     Film     C\n"
     ]
    }
   ],
   "source": [
    "pd.Series({('A', 1): 6.9, ('A', 2): 7.0, ('B', 1): 8.0, ('B', 2): 8.3, ('C', 1): 8.0, ('C', 2): 7.7})  #same\n",
    "film_rating = pd.DataFrame(np.array([[6.9, 7.0], [8.0, 8.3], [8.0, 7.7]]), index=['A', 'B', 'C'], columns=[1, 2])\n",
    "film_rating.stack(level=0)  #same\n",
    "print(film_rating.unstack().unstack(), '\\n')  #WTF?\n",
    "\n",
    "film_rating = pd.Series([6.9, 7.0, 8.0, 8.3, 8.0, 7.7],\n",
    "                        index=[('A', 1), ('A', 2), ('B', 1), ('B', 2), ('C', 1), ('C', 2)])  #tuple-like indices\n",
    "film_rating = film_rating.reindex(mi)  #same\n",
    "film_rating.index.names = ['Film', 'Part']\n",
    "\n",
    "flat = film_rating.reset_index(name='rating', drop=False)\n",
    "print(flat, '\\n')\n",
    "print(flat.set_index(['Film', 'Part']), '\\n')  #same (the most comfortable)\n",
    "\n",
    "film_rating0 = pd.DataFrame(np.array([6.9, 7.0, 8.0, 8.3, 8.0, 7.7])[np.newaxis, :], columns=mi)\n",
    "print(film_rating0)\n",
    "print(film_rating0.swaplevel('Part', 'Film', axis=1).sort_index(axis=1), '\\n')\n",
    "\n",
    "print(flat.pivot('Part', 'Film', 'rating'))\n",
    "print(pd.melt(flat, ['rating', 'Part']))"
   ]
  },
  {
   "cell_type": "markdown",
   "metadata": {},
   "source": [
    "### 5.3 HI: ACCESS"
   ]
  },
  {
   "cell_type": "code",
   "execution_count": 15,
   "metadata": {
    "collapsed": false,
    "jupyter": {
     "outputs_hidden": false
    },
    "pycharm": {
     "name": "#%%\n"
    }
   },
   "outputs": [
    {
     "name": "stdout",
     "output_type": "stream",
     "text": [
      "Part\n",
      "1    8.0\n",
      "2    7.7\n",
      "dtype: float64\n",
      "Film  Part\n",
      "B     1       8.0\n",
      "      2       8.3\n",
      "C     1       8.0\n",
      "      2       7.7\n",
      "dtype: float64\n",
      "Film  Part\n",
      "C     1       8.0\n",
      "B     1       8.0\n",
      "dtype: float64 \n",
      "\n",
      "Part    1    2\n",
      "0     6.9  7.0\n",
      "Film  Part\n",
      "A     1       6.9\n",
      "B     1       8.0\n",
      "C     1       8.0\n",
      "Name: 0, dtype: float64\n"
     ]
    }
   ],
   "source": [
    "print(film_rating['C'])  # by row\n",
    "print(film_rating[film_rating > 7.5])\n",
    "print(film_rating.loc[(['C', 'B'], 1)], '\\n')\n",
    "\n",
    "print(film_rating0['A'])  #by column\n",
    "print(film_rating0.loc[0, pd.IndexSlice[:, 1]])"
   ]
  },
  {
   "cell_type": "markdown",
   "metadata": {},
   "source": [
    "### 5.4 HI: SORTING & AGGREGATING"
   ]
  },
  {
   "cell_type": "code",
   "execution_count": 16,
   "metadata": {
    "collapsed": false,
    "jupyter": {
     "outputs_hidden": false
    },
    "pycharm": {
     "name": "#%%\n"
    }
   },
   "outputs": [
    {
     "name": "stdout",
     "output_type": "stream",
     "text": [
      "Film  Product\n",
      "C     1          8.0\n",
      "      2          7.7\n",
      "D     1          6.9\n",
      "      2          7.0\n",
      "dtype: float64 \n",
      "\n",
      "Film\n",
      "B    8.15\n",
      "C    7.85\n",
      "D    6.95\n",
      "dtype: float64\n",
      "('D', 1)\n"
     ]
    }
   ],
   "source": [
    "film_rating.index = pd.MultiIndex.from_product([['D', 'B', 'C'], [1, 2]],\n",
    "                                               names=['Film', 'Product'])  #in this case we can't slice\n",
    "film_rating = film_rating.sort_index()\n",
    "print(film_rating['C':'D'], '\\n')  #only for sorted\n",
    "\n",
    "print(film_rating.mean(level='Film'))\n",
    "print(film_rating.idxmin())"
   ]
  },
  {
   "cell_type": "markdown",
   "metadata": {},
   "source": [
    "### 6 CONCATENATION"
   ]
  },
  {
   "cell_type": "code",
   "execution_count": 17,
   "metadata": {
    "collapsed": false,
    "jupyter": {
     "outputs_hidden": false
    },
    "pycharm": {
     "name": "#%%\n"
    }
   },
   "outputs": [
    {
     "name": "stdout",
     "output_type": "stream",
     "text": [
      "     a    b   c    d    e\n",
      "1   a1   b1  c1  NaN  NaN\n",
      "2   a2   b2  c2  NaN  NaN\n",
      "3   a3   b3  c3  NaN  NaN\n",
      "2  NaN  NaN  c2   d2   e2\n",
      "3  NaN  NaN  c3   d3   e3\n",
      "4  NaN  NaN  c4   d4   e4\n",
      "     a    b   c    d    e\n",
      "0   a1   b1  c1  NaN  NaN\n",
      "1   a2   b2  c2  NaN  NaN\n",
      "2   a3   b3  c3  NaN  NaN\n",
      "3  NaN  NaN  c2   d2   e2\n",
      "4  NaN  NaN  c3   d3   e3\n",
      "5  NaN  NaN  c4   d4   e4\n",
      "     a    b    c    c    d    e    a    b    c\n",
      "1   a1   b1   c1  NaN  NaN  NaN   a1   b1   c1\n",
      "2   a2   b2   c2   c2   d2   e2   a2   b2   c2\n",
      "3   a3   b3   c3   c3   d3   e3   a3   b3   c3\n",
      "4  NaN  NaN  NaN   c4   d4   e4  NaN  NaN  NaN\n",
      "              c\n",
      "upper lower    \n",
      "X     1      c1\n",
      "      2      c2\n",
      "      3      c3\n",
      "Y     2      c2\n",
      "      3      c3\n",
      "      4      c4\n",
      "     a    b   c    d    e\n",
      "1   a1   b1  c1  NaN  NaN\n",
      "2   a2   b2  c2   d2   e2\n",
      "3   a3   b3  c3   d3   e3\n",
      "4  NaN  NaN  c4   d4   e4\n"
     ]
    }
   ],
   "source": [
    "def make_df(ind, col):\n",
    "    return pd.DataFrame(data={c: [c + str(i) for i in ind] for c in col}, index=ind)\n",
    "\n",
    "\n",
    "df1 = make_df(range(1, 4), 'abc')\n",
    "df2 = make_df(range(2, 5), 'cde')\n",
    "print(pd.concat([df1, df2]))\n",
    "df1.append(df2)  #same; use concat() instead for multiple appending\n",
    "print(pd.concat([df1, df2], ignore_index=True))\n",
    "print(pd.concat([df1, df2, df1], axis='columns'))\n",
    "print(pd.concat([df1, df2], join='inner', keys=['X', 'Y'], names=['upper', 'lower']))\n",
    "print(df1.combine_first(df2))"
   ]
  },
  {
   "cell_type": "markdown",
   "metadata": {},
   "source": [
    "### 7 MERGING"
   ]
  },
  {
   "cell_type": "code",
   "execution_count": 18,
   "metadata": {
    "collapsed": false,
    "jupyter": {
     "outputs_hidden": false
    },
    "pycharm": {
     "name": "#%%\n"
    }
   },
   "outputs": [
    {
     "name": "stdout",
     "output_type": "stream",
     "text": [
      "    name    role task\n",
      "0   John  design    B\n",
      "1  Corey     dev    B\n",
      "2  Corey     dev    C\n",
      "3   Jack     dev    B\n",
      "4   Jack     dev    C\n",
      "5   Adam     man    A\n",
      "6   Adam     man    B\n",
      "    name    role task      origin\n",
      "0    NaN  writer    A  right_only\n",
      "1   Adam     man    A        both\n",
      "2   John  design    B        both\n",
      "3  Corey     dev    B        both\n",
      "4   Jack     dev    B        both\n",
      "5   Adam     man    B        both\n",
      "6  Corey     dev    C        both\n",
      "7   Jack     dev    C        both \n",
      "\n",
      "    name    role task responsibility\n",
      "0   John  design    B         design\n",
      "1  Corey     dev    B            dev\n",
      "2  Corey     dev    C            dev\n",
      "3   Jack     dev    B            dev\n",
      "4   Jack     dev    C            dev\n",
      "5   Adam     man    A            man\n",
      "6   Adam     man    B            man \n",
      "\n",
      "    name    role  team\n",
      "0   John  design  Nice\n",
      "1  Corey     dev  Nice\n",
      "2   Jack     dev  Rofl\n",
      "3   Adam     man  Lmao\n",
      "         role  team\n",
      "name               \n",
      "John   design  Nice\n",
      "Corey     dev  Nice\n",
      "Jack      dev  Rofl\n",
      "Adam      man  Lmao\n",
      "    name  role_L task  role_R\n",
      "0   John  design    A  writer\n",
      "1  Corey     dev    A     man\n",
      "2   Jack     dev    B  design\n",
      "3   Adam     man    B     dev\n"
     ]
    }
   ],
   "source": [
    "guys = pd.DataFrame({'name': ['John', 'Corey', 'Jack', 'Adam'], 'role': ['design', 'dev', 'dev', 'man']})\n",
    "tasks = pd.DataFrame({'task': ['A', 'A', 'B', 'B', 'B', 'C'], 'role': ['writer', 'man', 'design', 'dev', 'man', 'dev']})\n",
    "teams = pd.Series({'John': 'Nice', 'Corey': 'Nice', 'Jack': 'Rofl', 'Adam': 'Lmao'}, name='team')\n",
    "print(pd.merge(guys, tasks, on='role'))\n",
    "print(pd.merge(guys, tasks, how='right', indicator='origin'), '\\n')\n",
    "\n",
    "tasks1 = tasks.rename(columns={'role': 'responsibility'})\n",
    "merged = pd.merge(guys, tasks1, left_on='role', right_on='responsibility')\n",
    "print(merged, '\\n')\n",
    "\n",
    "print(pd.merge(guys, teams, left_on=['name'], right_index=True))\n",
    "print(guys.set_index('name').join(teams))  #by index\n",
    "print(pd.merge(guys, tasks, left_index=True, right_index=True, suffixes=['_L', '_R']))"
   ]
  },
  {
   "cell_type": "markdown",
   "metadata": {},
   "source": [
    "### 8.1 GROUPING (split -> apply -> merge): INTERACTION"
   ]
  },
  {
   "cell_type": "code",
   "execution_count": 19,
   "metadata": {
    "collapsed": false,
    "jupyter": {
     "outputs_hidden": false
    },
    "pycharm": {
     "name": "#%%\n"
    }
   },
   "outputs": [
    {
     "name": "stdout",
     "output_type": "stream",
     "text": [
      "                 method       number  orbital_period        mass     distance  \\\n",
      "count              1035  1035.000000      992.000000  513.000000   808.000000   \n",
      "unique               10          NaN             NaN         NaN          NaN   \n",
      "top     Radial Velocity          NaN             NaN         NaN          NaN   \n",
      "freq                553          NaN             NaN         NaN          NaN   \n",
      "mean                NaN     1.785507     2002.917596    2.638161   264.069282   \n",
      "std                 NaN     1.240976    26014.728304    3.818617   733.116493   \n",
      "min                 NaN     1.000000        0.090706    0.003600     1.350000   \n",
      "25%                 NaN     1.000000        5.442540    0.229000    32.560000   \n",
      "50%                 NaN     1.000000       39.979500    1.260000    55.250000   \n",
      "75%                 NaN     2.000000      526.005000    3.040000   178.500000   \n",
      "max                 NaN     7.000000   730000.000000   25.000000  8500.000000   \n",
      "\n",
      "               year  \n",
      "count   1035.000000  \n",
      "unique          NaN  \n",
      "top             NaN  \n",
      "freq            NaN  \n",
      "mean    2009.070531  \n",
      "std        3.972567  \n",
      "min     1989.000000  \n",
      "25%     2007.000000  \n",
      "50%     2010.000000  \n",
      "75%     2012.000000  \n",
      "max     2014.000000  \n",
      "0    0.133906\n",
      "1    0.031301\n",
      "2    0.171350\n",
      "3    0.553627\n",
      "4    0.118340\n",
      "dtype: float64 \n",
      "\n",
      "<pandas.core.groupby.generic.DataFrameGroupBy object at 0x000001348CB9D6A0>\n",
      "<pandas.core.groupby.generic.SeriesGroupBy object at 0x000001348CBB16A0>\n",
      "                               number  orbital_period   mass  distance    year\n",
      "method                                                                        \n",
      "Astrometry                        1.0      631.180000    NaN    17.875  2011.5\n",
      "Eclipse Timing Variations         2.0     4343.500000  5.125   315.360  2010.0\n",
      "Imaging                           1.0    27500.000000    NaN    40.395  2009.0\n",
      "Microlensing                      1.0     3300.000000    NaN  3840.000  2010.0\n",
      "Orbital Brightness Modulation     2.0        0.342887    NaN  1180.000  2011.0 \n",
      "\n",
      "Astrometry                     shape=(2, 6)\n",
      "Eclipse Timing Variations      shape=(9, 6)\n",
      "Imaging                        shape=(38, 6)\n",
      "Microlensing                   shape=(23, 6)\n",
      "Orbital Brightness Modulation  shape=(3, 6)\n",
      "Pulsar Timing                  shape=(5, 6)\n",
      "Pulsation Timing Variations    shape=(1, 6)\n",
      "Radial Velocity                shape=(553, 6)\n",
      "Transit                        shape=(397, 6)\n",
      "Transit Timing Variations      shape=(4, 6)\n",
      "       method                       \n",
      "count  Astrometry                        2.0\n",
      "       Eclipse Timing Variations         9.0\n",
      "       Imaging                          38.0\n",
      "       Microlensing                     23.0\n",
      "       Orbital Brightness Modulation     3.0\n",
      "dtype: float64 \n",
      "\n"
     ]
    }
   ],
   "source": [
    "planets = seaborn.load_dataset('planets')\n",
    "rnd_df = pd.DataFrame({'A': np.random.rand(5), 'B': np.random.rand(5)})\n",
    "print(planets.describe(include='all'))\n",
    "print(rnd_df.std(axis=1, skipna=True), '\\n')\n",
    "\n",
    "print(planets.groupby(planets['method'], axis=0, level=0))\n",
    "print(planets.groupby('method')['year'])\n",
    "print(planets.groupby('method').median().head(), '\\n')\n",
    "\n",
    "for (method, group) in planets.groupby('method'):\n",
    "    print(\"{0:30s} shape={1}\".format(method, group.shape))\n",
    "print(planets.groupby('method')['year'].describe().unstack().head(), '\\n')  #dispatching"
   ]
  },
  {
   "cell_type": "markdown",
   "metadata": {},
   "source": [
    "### 8.2 GROUPING: FUNCTIONS"
   ]
  },
  {
   "cell_type": "code",
   "execution_count": 20,
   "metadata": {
    "collapsed": false,
    "jupyter": {
     "outputs_hidden": false
    },
    "pycharm": {
     "name": "#%%\n"
    }
   },
   "outputs": [
    {
     "name": "stdout",
     "output_type": "stream",
     "text": [
      "                               amin  median   max  agg_func\n",
      "method                                                     \n",
      "Astrometry                     2010  2011.5  2013         3\n",
      "Eclipse Timing Variations      2008  2010.0  2012         4\n",
      "Imaging                        2004  2009.0  2013         9\n",
      "Microlensing                   2004  2010.0  2013         9\n",
      "Orbital Brightness Modulation  2011  2011.0  2013         2\n",
      "            method  number  orbital_period   mass  distance  year\n",
      "0  Radial Velocity       1         269.300   7.10     77.40  2006\n",
      "1  Radial Velocity       1         874.774   2.21     56.95  2008\n",
      "2  Radial Velocity       1         763.000   2.60     19.84  2011\n",
      "3  Radial Velocity       1         326.030  19.40    110.62  2007\n",
      "4  Radial Velocity       1         516.220  10.50    119.47  2009\n",
      "0   -554.05468\n",
      "1     51.41932\n",
      "2    -60.35468\n",
      "3   -497.32468\n",
      "4   -307.13468\n",
      "Name: orbital_period, dtype: float64\n",
      "            method  number  orbital_period   mass  distance  year        coef\n",
      "0  Radial Velocity       1         269.300   7.10     77.40  2006   37.929577\n",
      "1  Radial Velocity       1         874.774   2.21     56.95  2008  395.825339\n",
      "2  Radial Velocity       1         763.000   2.60     19.84  2011  293.461538\n",
      "3  Radial Velocity       1         326.030  19.40    110.62  2007   16.805670\n",
      "4  Radial Velocity       1         516.220  10.50    119.47  2009   49.163810 \n",
      "\n"
     ]
    }
   ],
   "source": [
    "def agg_func(x):  #(Series) -> (Series)\n",
    "    return x.max() - x.min()\n",
    "\n",
    "\n",
    "def filter_func(x):  #(group)->(bool mask))\n",
    "    return (x['orbital_period'].std() > 100) & (x['orbital_period'].sum() != np.nan)\n",
    "\n",
    "\n",
    "def apply_func(x):  #(DataFrame)->(pandas object / number))\n",
    "    x['coef'] = x['orbital_period'] / x['mass']\n",
    "    return x\n",
    "\n",
    "\n",
    "transform_func = lambda x: x - x.mean()  #(Series) -> (Series)\n",
    "\n",
    "print(planets.groupby('method')['year'].aggregate([np.min, 'median', max, agg_func]).head())\n",
    "print(planets.groupby('method').filter(filter_func).head())\n",
    "print(planets.groupby('method')['orbital_period'].transform(transform_func).head())\n",
    "print(planets.groupby('method').apply(apply_func).head(), '\\n')"
   ]
  },
  {
   "cell_type": "markdown",
   "metadata": {},
   "source": [
    "### 8.3 GROUPING: SPLITTING BY KEY"
   ]
  },
  {
   "cell_type": "code",
   "execution_count": 21,
   "metadata": {
    "collapsed": false,
    "jupyter": {
     "outputs_hidden": false
    },
    "pycharm": {
     "name": "#%%\n"
    }
   },
   "outputs": [
    {
     "name": "stdout",
     "output_type": "stream",
     "text": [
      "                     number  orbital_period    mass  distance  year\n",
      "year                                                               \n",
      "(1988.975, 1995.25]       3         66.5419  6.0760    27.965  1992\n",
      "(1995.25, 2001.5]         1        241.2580  1.9400    28.940  2000\n",
      "(2001.5, 2007.75]         1        310.5500  1.7050    46.425  2005\n",
      "(2007.75, 2014.0]         1         24.8060  0.8975    82.000  2011\n",
      "          A         B\n",
      "0  0.557721  0.702827\n",
      "1  1.287238  1.995217\n",
      "              A         B\n",
      "big    0.762478  1.712782\n",
      "small  1.082482  0.985262\n",
      "              A         B\n",
      "False  0.491639  1.230320\n",
      "True   1.353321  1.467724\n",
      "                    A         B\n",
      "False big    0.123006  0.905953\n",
      "      small  0.368633  0.324367\n",
      "True  big    0.639472  0.806829\n",
      "      small  0.713849  0.660895\n",
      "method                     number\n",
      "Transit                    5         25\n",
      "                           6          6\n",
      "                           7          7\n",
      "Transit Timing Variations  2          3\n",
      "                           3          1\n",
      "Name: distance, dtype: int64\n"
     ]
    }
   ],
   "source": [
    "print(planets.groupby(pd.cut(planets['year'], 4)).median())\n",
    "print(rnd_df.groupby([0, 0, 1, 1, 1]).sum())  #by row\n",
    "print(rnd_df.groupby({0: 'small', 1: 'small', 2: 'small', 3: 'big', 4: 'big'}).sum())\n",
    "print(rnd_df.groupby(lambda x: x % 2 == 0).sum())\n",
    "print(rnd_df.groupby([(lambda x: x % 2 == 0), {0: 'small', 1: 'small', 2: 'small', 3: 'big', 4: 'big'}]).sum())\n",
    "print(planets.groupby(['method', 'number'])['distance'].size().tail())  # #by column first (multi-index output)"
   ]
  },
  {
   "cell_type": "markdown",
   "metadata": {},
   "source": [
    "### 9 PIVOT TABLES"
   ]
  },
  {
   "cell_type": "code",
   "execution_count": 22,
   "metadata": {
    "collapsed": false,
    "jupyter": {
     "outputs_hidden": false
    },
    "pycharm": {
     "name": "#%%\n"
    }
   },
   "outputs": [
    {
     "name": "stdout",
     "output_type": "stream",
     "text": [
      "class      First    Second     Third\n",
      "sex                                 \n",
      "female  0.968085  0.921053  0.500000\n",
      "male    0.368852  0.157407  0.135447\n",
      "(18, 80]    575\n",
      "(0, 18]     139\n",
      "Name: age, dtype: int64\n",
      "(-0.001, 14.454]     447\n",
      "(14.454, 512.329]    444\n",
      "Name: fare, dtype: int64 \n",
      "\n",
      "class               First    Second     Third\n",
      "sex    age                                   \n",
      "female (0, 18]   0.909091  1.000000  0.511628\n",
      "       (18, 80]  0.972973  0.900000  0.423729\n",
      "male   (0, 18]   0.800000  0.600000  0.215686\n",
      "       (18, 80]  0.375000  0.071429  0.133663\n",
      "fare            (-0.001, 14.454]                     (14.454, 512.329]  \\\n",
      "class                      First    Second     Third             First   \n",
      "sex    age                                                               \n",
      "female (0, 18]               NaN  1.000000  0.714286          0.909091   \n",
      "       (18, 80]              NaN  0.880000  0.444444          0.972973   \n",
      "male   (0, 18]               NaN  0.000000  0.260870          0.800000   \n",
      "       (18, 80]              0.0  0.098039  0.125000          0.391304   \n",
      "\n",
      "fare                                 \n",
      "class              Second     Third  \n",
      "sex    age                           \n",
      "female (0, 18]   1.000000  0.318182  \n",
      "       (18, 80]  0.914286  0.391304  \n",
      "male   (0, 18]   0.818182  0.178571  \n",
      "       (18, 80]  0.030303  0.192308  \n",
      "              fare                       survived             \n",
      "class        First     Second      Third    First Second Third\n",
      "sex                                                           \n",
      "female  106.125798  21.970121  16.118810       91     70    72\n",
      "male     67.226127  19.741782  12.661633       45     17    47 \n",
      "\n",
      "class      First    Second     Third       All\n",
      "sex                                           \n",
      "female  0.968085  0.921053  0.500000  0.742038\n",
      "male    0.368852  0.157407  0.135447  0.188908\n",
      "All     0.629630  0.472826  0.242363  0.383838\n",
      "survived         0    1  All\n",
      "sex    class                \n",
      "female First     3   91   94\n",
      "       Second    6   70   76\n",
      "       Third    72   72  144\n",
      "male   First    77   45  122\n",
      "       Second   91   17  108\n",
      "       Third   300   47  347\n",
      "All            549  342  891\n"
     ]
    }
   ],
   "source": [
    "titanic = seaborn.load_dataset('titanic')\n",
    "print(titanic.pivot_table(values='survived', index='sex', columns='class'))  #aggregate by mean as default\n",
    "age = pd.cut(titanic['age'], [0, 18, 80])  #return pd.Series\n",
    "fare = pd.qcut(titanic['fare'], 2)  #too\n",
    "print(age.value_counts())\n",
    "print(fare.value_counts(), '\\n')\n",
    "\n",
    "print(titanic.pivot_table('survived', ['sex', age], 'class'))  #3-dimensional\n",
    "print(titanic.pivot_table('survived', ['sex', age], [fare, 'class']))  #4-dimensional\n",
    "print(titanic.pivot_table(aggfunc={'survived': 'sum', 'fare': 'mean'}, index='sex', columns='class'),\n",
    "      '\\n')  #4-dimensional\n",
    "\n",
    "print(titanic.pivot_table('survived', 'sex', 'class', margins=True))  #total\n",
    "print(pd.crosstab([titanic.sex, titanic['class']], titanic['survived'], margins=True))  #count"
   ]
  },
  {
   "cell_type": "markdown",
   "metadata": {},
   "source": [
    "### 10 STRING OPERATIONS"
   ]
  },
  {
   "cell_type": "code",
   "execution_count": 23,
   "metadata": {
    "collapsed": false,
    "jupyter": {
     "outputs_hidden": false
    },
    "pycharm": {
     "name": "#%%\n"
    }
   },
   "outputs": [
    {
     "name": "stdout",
     "output_type": "stream",
     "text": [
      "10    mike\n",
      "20    jane\n",
      "30    dick\n",
      "69     l1l\n",
      "dtype: object\n",
      "10     True\n",
      "20     True\n",
      "30    False\n",
      "69    False\n",
      "dtype: bool\n",
      "10    ik\n",
      "20    an\n",
      "30    ic\n",
      "69     1\n",
      "dtype: object\n"
     ]
    }
   ],
   "source": [
    "print(names.str.lower())\n",
    "print(names.str.contains(r'[AEIOUaeiou]$'))  #RegExp\n",
    "print(names.str.slice(1, -1))"
   ]
  },
  {
   "cell_type": "markdown",
   "metadata": {},
   "source": [
    "### 11.1 DATE & TIME: CREATING"
   ]
  },
  {
   "cell_type": "code",
   "execution_count": 24,
   "metadata": {
    "collapsed": false,
    "jupyter": {
     "outputs_hidden": false
    },
    "pycharm": {
     "name": "#%%\n"
    }
   },
   "outputs": [
    {
     "name": "stdout",
     "output_type": "stream",
     "text": [
      "2015-07-04 00:00:00\n",
      "Saturday \n",
      "\n",
      "DatetimeIndex(['2015-07-03', '2016-07-09', '2014-07-04', '2015-07-06',\n",
      "               '2014-07-07', '2015-07-08'],\n",
      "              dtype='datetime64[ns]', freq=None)\n",
      "PeriodIndex(['2015-07-03', '2016-07-09', '2014-07-04', '2015-07-06',\n",
      "             '2014-07-07', '2015-07-08'],\n",
      "            dtype='period[D]', freq='D')\n",
      "TimedeltaIndex(['0 days', '372 days', '-364 days', '3 days', '-361 days',\n",
      "                '5 days'],\n",
      "               dtype='timedelta64[ns]', freq=None)\n",
      "DatetimeIndex(['2015-07-03', '2016-07-10', '2014-07-06', '2015-07-09',\n",
      "               '2014-07-11', '2015-07-13'],\n",
      "              dtype='datetime64[ns]', freq=None)\n"
     ]
    }
   ],
   "source": [
    "date = pd.to_datetime(\"4th of July, 2015\")  #same\n",
    "print(pd.Timestamp(2015, 7, 4))  #same\n",
    "print(date.strftime('%A'), '\\n')\n",
    "\n",
    "dates = pd.to_datetime(\n",
    "    [datetime(2015, 7, 3), pd.Timestamp(2016, 7, 9), '4th of July, 2014', '2015-Jul-6', '07-07-2014', '20150708'])\n",
    "print(dates)\n",
    "print(dates.to_period('D'))\n",
    "print(dates - dates[0])\n",
    "print(dates + pd.to_timedelta(np.arange(6), 'D'))"
   ]
  },
  {
   "cell_type": "markdown",
   "metadata": {},
   "source": [
    "### 11.2 DATE & TIME: INDEXING"
   ]
  },
  {
   "cell_type": "code",
   "execution_count": 25,
   "metadata": {
    "collapsed": false,
    "jupyter": {
     "outputs_hidden": false
    },
    "pycharm": {
     "name": "#%%\n"
    }
   },
   "outputs": [
    {
     "name": "stdout",
     "output_type": "stream",
     "text": [
      "2015-07-03    0\n",
      "2014-07-04    2\n",
      "2014-07-07    4\n",
      "dtype: int32\n",
      "2015-07-03    0\n",
      "2015-07-06    3\n",
      "2015-07-08    5\n",
      "dtype: int32\n"
     ]
    }
   ],
   "source": [
    "data = pd.Series(np.arange(6), index=dates)\n",
    "print(data['2014-07-04':'2015-07-04'])\n",
    "print(data['2015'])"
   ]
  },
  {
   "cell_type": "markdown",
   "metadata": {},
   "source": [
    "### 11.3 DATE & TIME: METHODS"
   ]
  },
  {
   "cell_type": "code",
   "execution_count": 26,
   "metadata": {
    "collapsed": false,
    "jupyter": {
     "outputs_hidden": false
    },
    "pycharm": {
     "name": "#%%\n"
    }
   },
   "outputs": [
    {
     "name": "stdout",
     "output_type": "stream",
     "text": [
      "DatetimeIndex(['2015-07-03 00:00:00', '2015-07-03 01:00:00',\n",
      "               '2015-07-03 02:00:00', '2015-07-03 03:00:00',\n",
      "               '2015-07-03 04:00:00'],\n",
      "              dtype='datetime64[ns]', freq='H')\n",
      "PeriodIndex(['2015-07', '2015-08', '2015-09', '2015-10', '2015-11', '2015-12',\n",
      "             '2016-01', '2016-02'],\n",
      "            dtype='period[M]', freq='M')\n",
      "TimedeltaIndex(['0 days 00:00:00', '0 days 02:30:00', '0 days 05:00:00',\n",
      "                '0 days 07:30:00', '0 days 10:00:00', '0 days 12:30:00',\n",
      "                '0 days 15:00:00', '0 days 17:30:00', '0 days 20:00:00',\n",
      "                '0 days 22:30:00'],\n",
      "               dtype='timedelta64[ns]', freq='150T')\n",
      "2015-07-03     276\n",
      "2015-07-04     852\n",
      "2015-07-05    1428\n",
      "2015-07-06    2004\n",
      "2015-07-07     390\n",
      "Freq: D, dtype: int32\n",
      "2015-07-03     0\n",
      "2015-07-04    24\n",
      "2015-07-05    48\n",
      "2015-07-06    72\n",
      "2015-07-07    96\n",
      "Freq: D, dtype: int32\n"
     ]
    }
   ],
   "source": [
    "date_range = pd.date_range('2015-07-03', periods=100, freq='H')\n",
    "data_series = pd.Series(np.arange(100), index=date_range)\n",
    "print(date_range[:5])\n",
    "print(pd.period_range('2015-07', periods=8, freq='M'))\n",
    "print(pd.timedelta_range(0, periods=10, freq='2H30T'))\n",
    "print(data_series.resample('D').sum())  #aggregates\n",
    "print(data_series.asfreq('D'))  #takes value"
   ]
  },
  {
   "cell_type": "markdown",
   "metadata": {},
   "source": [
    "### 12 INCREASE IN PERFORMANCE"
   ]
  },
  {
   "cell_type": "code",
   "execution_count": 27,
   "metadata": {
    "collapsed": false,
    "jupyter": {
     "outputs_hidden": false
    },
    "pycharm": {
     "name": "#%%\n"
    }
   },
   "outputs": [
    {
     "name": "stdout",
     "output_type": "stream",
     "text": [
      "0    2\n",
      "1    3\n",
      "2    1\n",
      "dtype: int32\n",
      "0    2\n",
      "1    3\n",
      "2    1\n",
      "dtype: int32\n",
      "None\n",
      "   B  C  D  E\n",
      "1  6  2  4  3\n",
      "2  9  3  4  1\n",
      "   B  C  D  E\n",
      "1  6  2  4  3\n",
      "2  9  3  4  1\n"
     ]
    }
   ],
   "source": [
    "two = 2\n",
    "print(pd.eval(\"(rnd2.B + 2 * rnd2.C) % (rnd2.D + 3)\"))  #same 1\n",
    "print(rnd2.eval(\"(B + 2 * C) % (D + 3)\"))  #same 1\n",
    "print(rnd2.eval(\"E = (B + 2 * C) % (D + 3)\", inplace=True))\n",
    "print(pd.eval(\"rnd2[(rnd2['B'] > two) & (rnd2['D'] == 4)]\"))  #same 2\n",
    "print(rnd2.query(\"(B > @two) & (D == 4)\"))  #same 2"
   ]
  }
 ],
 "metadata": {
  "kernelspec": {
   "display_name": "Python 3",
   "language": "python",
   "name": "python3"
  },
  "language_info": {
   "codemirror_mode": {
    "name": "ipython",
    "version": 3
   },
   "file_extension": ".py",
   "mimetype": "text/x-python",
   "name": "python",
   "nbconvert_exporter": "python",
   "pygments_lexer": "ipython3",
   "version": "3.9.0"
  },
  "widgets": {
   "application/vnd.jupyter.widget-state+json": {
    "state": {},
    "version_major": 2,
    "version_minor": 0
   }
  }
 },
 "nbformat": 4,
 "nbformat_minor": 4
}
