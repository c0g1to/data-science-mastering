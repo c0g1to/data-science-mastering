{
 "cells": [
  {
   "cell_type": "code",
   "execution_count": 146,
   "id": "forbidden-chamber",
   "metadata": {},
   "outputs": [],
   "source": [
    "import bisect\n",
    "import itertools"
   ]
  },
  {
   "cell_type": "markdown",
   "id": "increasing-trigger",
   "metadata": {},
   "source": [
    "### 1 Tuples"
   ]
  },
  {
   "cell_type": "code",
   "execution_count": 29,
   "id": "blocked-tuner",
   "metadata": {},
   "outputs": [
    {
     "name": "stdout",
     "output_type": "stream",
     "text": [
      "(1, 2, 3)\n",
      "((1, 2), (1, 2, 3))\n",
      "(1, 2, 2, 3)\n",
      "(1, 2, 1, 2, 1, 2)\n",
      "('s', 't', 'r', 'i', 'n', 'g')\n",
      "a=1, b=2, c=3\n",
      "a=4, b=5, c=6\n",
      "a=7, b=8, c=9\n"
     ]
    }
   ],
   "source": [
    "tup = 1, 2, 3\n",
    "print(tup)\n",
    "\n",
    "tup = (1, 2), (1, 2, 3)\n",
    "print(tup)\n",
    "\n",
    "tup = (1, 2) + (2, 3)\n",
    "print(tup)\n",
    "\n",
    "tup = (1, 2) * 3\n",
    "print(tup)\n",
    "\n",
    "tup = tuple('string')\n",
    "print(tup)\n",
    "\n",
    "for a, b, c in (1, 2, 3), (4, 5, 6), (7, 8 ,9):\n",
    "    print('a={0}, b={1}, c={2}'.format(a, b, c))"
   ]
  },
  {
   "cell_type": "markdown",
   "id": "swedish-raise",
   "metadata": {},
   "source": [
    "### 1.2 Unpacking"
   ]
  },
  {
   "cell_type": "code",
   "execution_count": 20,
   "id": "parental-presentation",
   "metadata": {},
   "outputs": [
    {
     "name": "stdout",
     "output_type": "stream",
     "text": [
      "1 [2, (3, 4)] 5\n",
      "[1, 2] 3 4 5\n",
      "[1, 2] 3\n",
      "3\n",
      "True\n"
     ]
    }
   ],
   "source": [
    "tup = 1, 2, (3, 4), 5\n",
    "\n",
    "a, *rest, b = tup\n",
    "print(a, rest, b)\n",
    "\n",
    "*rest, (a, b), c = tup\n",
    "print(rest, a, b, c)\n",
    "\n",
    "a, rest = rest, a\n",
    "print(a, rest)\n",
    "\n",
    "#other\n",
    "tup = 0, 1, 1, 0, 2, 1\n",
    "print(tup.count(1))\n",
    "print(2 in tup)"
   ]
  },
  {
   "cell_type": "markdown",
   "id": "floral-fleece",
   "metadata": {},
   "source": [
    "### 2 Sorting"
   ]
  },
  {
   "cell_type": "code",
   "execution_count": 30,
   "id": "wound-omega",
   "metadata": {},
   "outputs": [
    {
     "name": "stdout",
     "output_type": "stream",
     "text": [
      "[1, 2, 3, 5, 7]\n",
      "[7, 5, 3, 2, 1]\n",
      "[1, 2, 3, 4, 5, 7]\n",
      "[3, 1, 4, 7, 2, 5]\n"
     ]
    }
   ],
   "source": [
    "arr = [7, 2, 5, 3, 1]\n",
    "\n",
    "arr.sort()\n",
    "print(arr)\n",
    "print(arr[::-1])\n",
    "\n",
    "bisect.insort(arr, 4)\n",
    "print(arr)\n",
    "\n",
    "arr.sort(key=(lambda x: x % 3))  #same about sorted()\n",
    "print(arr)"
   ]
  },
  {
   "cell_type": "markdown",
   "id": "executive-original",
   "metadata": {},
   "source": [
    "### 3 Built-in functions"
   ]
  },
  {
   "cell_type": "code",
   "execution_count": 43,
   "id": "front-explanation",
   "metadata": {},
   "outputs": [
    {
     "name": "stdout",
     "output_type": "stream",
     "text": [
      "[1, 2, 3, 4, 5, 7]\n",
      "index=0, value=3\n",
      "index=1, value=1\n",
      "index=2, value=4\n",
      "index=3, value=7\n",
      "index=4, value=2\n",
      "index=5, value=5\n",
      "(3, 5, 1) (1, 2, 2) (4, 7, 3) (7, 4, 4) (2, 1, 5)\n",
      "2\n",
      "1\n",
      "0\n"
     ]
    }
   ],
   "source": [
    "print(sorted(arr))  #do not modify\n",
    "\n",
    "for i, v in enumerate(arr):\n",
    "    print('index={}, value={}'.format(i, v))\n",
    "    \n",
    "print(*zip(arr, arr[::-1], range(1, 6)))  #takes min length\n",
    "\n",
    "for i in reversed(range(3)):\n",
    "    print(i)"
   ]
  },
  {
   "cell_type": "markdown",
   "id": "driven-lecture",
   "metadata": {},
   "source": [
    "### 4 Dictionary"
   ]
  },
  {
   "cell_type": "code",
   "execution_count": 61,
   "id": "occupational-liverpool",
   "metadata": {},
   "outputs": [
    {
     "name": "stdout",
     "output_type": "stream",
     "text": [
      "{'fives': [5, 5], 'one': 1}\n",
      "{'fives': [5, 5, 5], 'one': 1, 'twos': [2, 2]}\n",
      "[3, 3, 3]\n"
     ]
    }
   ],
   "source": [
    "dic = {'fives': [5, 5], 'one': 1}\n",
    "dic = dict(fives=[5, 5], one=1)\n",
    "dic = dict(zip(['fives', 'one'], [[5, 5], 1]))\n",
    "print(dic)\n",
    "\n",
    "dic['fives'].append(5)\n",
    "try:\n",
    "    dic['twos'].extend([2, 2])\n",
    "except:\n",
    "    dic.setdefault('twos', []).extend([2, 2])\n",
    "print(dic)\n",
    "\n",
    "try:\n",
    "    print(dic['threes'])\n",
    "except:\n",
    "    print(dic.get('threes', [3, 3, 3]))"
   ]
  },
  {
   "cell_type": "markdown",
   "id": "administrative-heart",
   "metadata": {},
   "source": [
    "### 5 Comprehensions"
   ]
  },
  {
   "cell_type": "code",
   "execution_count": 84,
   "id": "suffering-bookmark",
   "metadata": {},
   "outputs": [
    {
     "name": "stdout",
     "output_type": "stream",
     "text": [
      "3\n",
      "['CAR', 'CLOWN']\n",
      "['CAR', 5, 4, 'CLOWN']\n",
      "{0: 'car', 1: 'wheel', 2: 'gear', 3: 'clown'}\n",
      "[['c', 'w', 'g', 'c'], ['b', 'd', 'm']]\n",
      "['car0', 'gear0', 'big1', 'deal1', 'meal1']\n"
     ]
    }
   ],
   "source": [
    "print(3 if 3 < 5 else 5)\n",
    "\n",
    "words = ['car', 'wheel', 'gear', 'clown']\n",
    "print([word.upper() for word in words if word[0] == 'c'])\n",
    "print([word.upper() if word[0] == 'c' else len(word) for word in words])\n",
    "print({ind: word for ind, word in enumerate(words)})\n",
    "\n",
    "data = [words, ['big', 'deal', 'meal']]\n",
    "print([[el[0] for el in row]\n",
    "       for row in data])\n",
    "print([el + str(i)\n",
    "       for i, row in enumerate(data)\n",
    "       for el in row\n",
    "       if len(el) != 5])"
   ]
  },
  {
   "cell_type": "markdown",
   "id": "extended-lottery",
   "metadata": {},
   "source": [
    "### 6 Functions"
   ]
  },
  {
   "cell_type": "code",
   "execution_count": 111,
   "id": "macro-reserve",
   "metadata": {},
   "outputs": [
    {
     "name": "stdout",
     "output_type": "stream",
     "text": [
      "<method 'upper' of 'str' objects>\n",
      "['ccaarr', 'wwhheeeell', 'ggeeaarr', 'cclloowwnn']\n"
     ]
    }
   ],
   "source": [
    "print(str.upper)  #FUNCITONS ARE OBJECTS\n",
    "\n",
    "dupl = lambda x: ''.join([l * 2 for l in x])\n",
    "\n",
    "[dupl(w) for w in words]  #same\n",
    "print(list(map(dupl, words)))  #same"
   ]
  },
  {
   "cell_type": "markdown",
   "id": "informed-flight",
   "metadata": {},
   "source": [
    "### 7 Iterator, generator"
   ]
  },
  {
   "cell_type": "code",
   "execution_count": 153,
   "id": "democratic-interest",
   "metadata": {},
   "outputs": [
    {
     "name": "stdout",
     "output_type": "stream",
     "text": [
      "zero\n",
      "one\n",
      "zero\n",
      "one\n",
      "20\n",
      "15\n",
      "10\n",
      "5\n",
      "['car', 'clown']\n",
      "['gear']\n",
      "['wheel']\n"
     ]
    }
   ],
   "source": [
    "dic = {'zero': 0, 'one': 1}\n",
    "dict_iter = iter(dic)\n",
    "\n",
    "for key in dict_iter:  #same2\n",
    "    print(key)\n",
    "for key in dic:  #same2 (creates iterator implicitly)\n",
    "    print(key)\n",
    "\n",
    "    \n",
    "def degenerator(x=100):  #builds iterator\n",
    "    for i in range(x, 0, -5):\n",
    "        yield i\n",
    "    \n",
    "deg = degenerator(20)  #same1\n",
    "deg = (i for i in range(20, 0, -5))  #same1\n",
    "for i in deg:\n",
    "    print(i)\n",
    "    \n",
    "for group, content in itertools.groupby(sorted(words), lambda x: x[0]):\n",
    "    print(list(content))"
   ]
  }
 ],
 "metadata": {
  "kernelspec": {
   "display_name": "Python 3",
   "language": "python",
   "name": "python3"
  },
  "language_info": {
   "codemirror_mode": {
    "name": "ipython",
    "version": 3
   },
   "file_extension": ".py",
   "mimetype": "text/x-python",
   "name": "python",
   "nbconvert_exporter": "python",
   "pygments_lexer": "ipython3",
   "version": "3.9.0"
  },
  "widgets": {
   "application/vnd.jupyter.widget-state+json": {
    "state": {},
    "version_major": 2,
    "version_minor": 0
   }
  }
 },
 "nbformat": 4,
 "nbformat_minor": 5
}
